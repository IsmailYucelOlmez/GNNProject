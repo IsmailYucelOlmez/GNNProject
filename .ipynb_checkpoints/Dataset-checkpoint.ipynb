{
 "cells": [
  {
   "cell_type": "code",
   "execution_count": 70,
   "id": "8fff0779",
   "metadata": {},
   "outputs": [],
   "source": [
    "import pandas as pd\n",
    "import torch\n",
    "import torch_geometric\n",
    "from torch_geometric.data import Dataset\n",
    "import numpy as np \n",
    "import os\n",
    "from tqdm import tqdm\n",
    "import deepchem as dc\n",
    "from rdkit import Chem \n"
   ]
  },
  {
   "cell_type": "code",
   "execution_count": 74,
   "id": "469c6c64",
   "metadata": {},
   "outputs": [],
   "source": [
    "class MoleculeDataset(Dataset):\n",
    "    def __init__(self, root, filename, test=False, transform=None, pre_transform=None):\n",
    "        \"\"\"\n",
    "        root = Where the dataset should be stored. This folder is split\n",
    "        into raw_dir (downloaded dataset) and processed_dir (processed data). \n",
    "        \"\"\"\n",
    "        self.test = test\n",
    "        self.filename = filename\n",
    "        super(MoleculeDataset, self).__init__(root, transform, pre_transform)\n",
    "        \n",
    "    @property\n",
    "    def raw_file_names(self):\n",
    "        \"\"\" If this file exists in raw_dir, the download is not triggered.\n",
    "            (The download func. is not implemented here)  \n",
    "        \"\"\"\n",
    "        return self.filename\n",
    "\n",
    "    @property\n",
    "    def processed_file_names(self):\n",
    "        \"\"\" If these files are found in raw_dir, processing is skipped\"\"\"\n",
    "        self.data = pd.read_csv(self.raw_paths[0]).reset_index()\n",
    "        \n",
    "\n",
    "        if self.test:\n",
    "            return [f'data_test_{i}.pt' for i in list(self.data.index)]\n",
    "        else:\n",
    "            return [f'data_{i}.pt' for i in list(self.data.index)]\n",
    "        \n",
    "\n",
    "    def download(self):\n",
    "        pass\n",
    "\n",
    "    def process(self):\n",
    "        self.data = pd.read_csv(self.raw_paths[0]).reset_index()\n",
    "        featurizer = dc.feat.MolGraphConvFeaturizer(use_edges=True)\n",
    "        for index, row in tqdm(self.data.iterrows(), total=self.data.shape[0]):\n",
    "            # Featurize molecule\n",
    "            mol = Chem.MolFromSmiles(row[\"smiles\"])\n",
    "            f = featurizer._featurize(mol)\n",
    "            data = f.to_pyg_graph()\n",
    "            data.y = self._get_label(row[\"HIV_active\"])\n",
    "            data.smiles = row[\"smiles\"]\n",
    "            if self.test:\n",
    "                torch.save(data, \n",
    "                    os.path.join(self.processed_dir, \n",
    "                                 f'data_test_{index}.pt'))\n",
    "            else:\n",
    "                torch.save(data, \n",
    "                    os.path.join(self.processed_dir, \n",
    "                                 f'data_{index}.pt'))\n",
    "            \n",
    "\n",
    "    def _get_label(self, label):\n",
    "        label = np.asarray([label])\n",
    "        return torch.tensor(label, dtype=torch.int64)\n",
    "\n",
    "    def len(self):\n",
    "        return self.data.shape[0]\n",
    "\n",
    "    def get(self, idx):\n",
    "        \"\"\" - Equivalent to __getitem__ in pytorch\n",
    "            - Is not needed for PyG's InMemoryDataset\n",
    "        \"\"\"\n",
    "        if self.test:\n",
    "            data = torch.load(os.path.join(self.processed_dir, \n",
    "                                 f'data_test_{idx}.pt'))\n",
    "        else:\n",
    "            data = torch.load(os.path.join(self.processed_dir, \n",
    "                                 f'data_{idx}.pt'))        \n",
    "        return data"
   ]
  },
  {
   "cell_type": "code",
   "execution_count": 75,
   "id": "192b05b0",
   "metadata": {},
   "outputs": [
    {
     "name": "stderr",
     "output_type": "stream",
     "text": [
      "Processing...\n"
     ]
    },
    {
     "name": "stdout",
     "output_type": "stream",
     "text": [
      "      level_0  index                                             smiles  \\\n",
      "0           0      0  CCC1=[O+][Cu-3]2([O+]=C(CC)C1)[O+]=C(CC)CC(CC)...   \n",
      "1           1      1  C(=Cc1ccccc1)C1=[O+][Cu-3]2([O+]=C(C=Cc3ccccc3...   \n",
      "2           2      2                   CC(=O)N1c2ccccc2Sc2c1ccc1ccccc21   \n",
      "3           3      3    Nc1ccc(C=Cc2ccc(N)cc2S(=O)(=O)O)c(S(=O)(=O)O)c1   \n",
      "4           4      4                             O=S(=O)(O)CCS(=O)(=O)O   \n",
      "...       ...    ...                                                ...   \n",
      "3994     3994   3994  COc1cc(C[N+]23CC[N+](Cc4cc(OC)cc(OC)c4)(CC2)C3...   \n",
      "3995     3995   3995   CCC1(O)C(=O)OCc2c1cc1n(c2=O)Cc2cc3cc(O)ccc3nc2-1   \n",
      "3996     3996   3996  O=C(Oc1ccc(N=Cc2ccc3c(c2)OCO3)cc1)Oc1ccc(N=Cc2...   \n",
      "3997     3997   3997     [N-]=[N+]=NC(=O)c1ccc(S(=O)(=O)c2ccc(F)cc2)cc1   \n",
      "3998     3998   3998  C=CC(C)(C)c1c(OC(C)=O)cc2oc3c(OC(C)=O)c(OC(C)=...   \n",
      "\n",
      "     activity  HIV_active  \n",
      "0          CI           0  \n",
      "1          CI           0  \n",
      "2          CI           0  \n",
      "3          CI           0  \n",
      "4          CI           0  \n",
      "...       ...         ...  \n",
      "3994       CI           0  \n",
      "3995       CI           0  \n",
      "3996       CI           0  \n",
      "3997       CI           0  \n",
      "3998       CI           0  \n",
      "\n",
      "[3999 rows x 5 columns]\n"
     ]
    },
    {
     "name": "stderr",
     "output_type": "stream",
     "text": [
      "100%|██████████| 3999/3999 [00:36<00:00, 110.24it/s]\n",
      "Done!\n"
     ]
    }
   ],
   "source": [
    "dataset=MoleculeDataset(root=\"data/\", filename=\"HIV_test.csv\", test=True)"
   ]
  },
  {
   "cell_type": "code",
   "execution_count": 76,
   "id": "8b4a2dce",
   "metadata": {},
   "outputs": [
    {
     "data": {
      "text/plain": [
       "MoleculeDataset2(3999)"
      ]
     },
     "execution_count": 76,
     "metadata": {},
     "output_type": "execute_result"
    }
   ],
   "source": [
    "dataset"
   ]
  },
  {
   "cell_type": "code",
   "execution_count": null,
   "id": "80b955de",
   "metadata": {},
   "outputs": [],
   "source": []
  },
  {
   "cell_type": "code",
   "execution_count": null,
   "id": "3b1d5ff8",
   "metadata": {},
   "outputs": [],
   "source": []
  }
 ],
 "metadata": {
  "kernelspec": {
   "display_name": "Python 3 (ipykernel)",
   "language": "python",
   "name": "python3"
  },
  "language_info": {
   "codemirror_mode": {
    "name": "ipython",
    "version": 3
   },
   "file_extension": ".py",
   "mimetype": "text/x-python",
   "name": "python",
   "nbconvert_exporter": "python",
   "pygments_lexer": "ipython3",
   "version": "3.11.5"
  }
 },
 "nbformat": 4,
 "nbformat_minor": 5
}
