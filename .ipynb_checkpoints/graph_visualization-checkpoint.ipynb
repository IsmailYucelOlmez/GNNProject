{
 "cells": [
  {
   "cell_type": "code",
   "execution_count": null,
   "id": "6e718d28",
   "metadata": {},
   "outputs": [],
   "source": [
    "!pip install rdkit\n",
    "!pip install torch\n",
    "!pip install torch-geometric\n",
    "!pip install networkx\n",
    "!pip install matplotlib\n",
    "from rdkit import Chem\n",
    "from rdkit.Chem.Draw import MolToImage\n",
    "import zipfile\n",
    "import torch\n",
    "import networkx as nx\n",
    "import matplotlib.pyplot as plt\n"
   ]
  },
  {
   "cell_type": "code",
   "execution_count": null,
   "id": "e94f038a",
   "metadata": {},
   "outputs": [],
   "source": [
    "pt_file = torch.load(\"/content/data_0.pt\")\n",
    "pt_file\n",
    "\n",
    "G = nx.Graph()\n",
    "\n",
    "\n",
    "for i, features in enumerate(pt_file[\"x\"]):\n",
    "    G.add_node(i, features=features)\n",
    "\n",
    "\n",
    "for edge_index, edge_attr in zip(pt_file[\"edge_index\"].T, pt_file[\"edge_attr\"]):\n",
    "    src, dst = edge_index\n",
    "    G.add_edge(src, dst, attr=edge_attr)\n",
    "\n",
    "plt.figure(figsize=(8, 6))\n",
    "pos = nx.spring_layout(G,k=0.5)\n",
    "nx.draw_networkx_nodes(G, pos, node_size=50, node_color=\"skyblue\")  \n",
    "nx.draw_networkx_edges(G, pos,edgelist=G.edges(), width=1.0, edge_color=\"black\") \n",
    "\n",
    "plt.axis(\"off\")"
   ]
  }
 ],
 "metadata": {
  "kernelspec": {
   "display_name": "Python 3 (ipykernel)",
   "language": "python",
   "name": "python3"
  },
  "language_info": {
   "codemirror_mode": {
    "name": "ipython",
    "version": 3
   },
   "file_extension": ".py",
   "mimetype": "text/x-python",
   "name": "python",
   "nbconvert_exporter": "python",
   "pygments_lexer": "ipython3",
   "version": "3.11.5"
  }
 },
 "nbformat": 4,
 "nbformat_minor": 5
}
