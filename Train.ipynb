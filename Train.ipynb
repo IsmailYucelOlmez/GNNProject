{
 "cells": [
  {
   "cell_type": "code",
   "execution_count": 1,
   "id": "1f237f9c",
   "metadata": {},
   "outputs": [
    {
     "name": "stdout",
     "output_type": "stream",
     "text": [
      "importing Jupyter notebook from Dataset.ipynb\n"
     ]
    },
    {
     "name": "stderr",
     "output_type": "stream",
     "text": [
      "No normalization for SPS. Feature removed!\n",
      "No normalization for AvgIpc. Feature removed!\n"
     ]
    },
    {
     "name": "stdout",
     "output_type": "stream",
     "text": [
      "WARNING:tensorflow:From D:\\Anaconda\\Lib\\site-packages\\tensorflow\\python\\util\\deprecation.py:588: calling function (from tensorflow.python.eager.polymorphic_function.polymorphic_function) with experimental_relax_shapes is deprecated and will be removed in a future version.\n",
      "Instructions for updating:\n",
      "experimental_relax_shapes is deprecated, use reduce_retracing instead\n"
     ]
    },
    {
     "name": "stderr",
     "output_type": "stream",
     "text": [
      "Skipped loading modules with pytorch-geometric dependency, missing a dependency. No module named 'dgl'\n",
      "D:\\Anaconda\\Lib\\site-packages\\transformers\\utils\\generic.py:260: UserWarning: torch.utils._pytree._register_pytree_node is deprecated. Please use torch.utils._pytree.register_pytree_node instead.\n",
      "  torch.utils._pytree._register_pytree_node(\n",
      "Skipped loading modules with pytorch-lightning dependency, missing a dependency. No module named 'lightning'\n",
      "Skipped loading some Jax models, missing a dependency. No module named 'haiku'\n"
     ]
    },
    {
     "name": "stdout",
     "output_type": "stream",
     "text": [
      "importing Jupyter notebook from Model.ipynb\n"
     ]
    }
   ],
   "source": [
    "import torch \n",
    "import os\n",
    "from torch_geometric.data import DataLoader\n",
    "from sklearn.metrics import confusion_matrix, f1_score, \\\n",
    "    accuracy_score, precision_score, recall_score, roc_auc_score\n",
    "import numpy as np\n",
    "from tqdm import tqdm\n",
    "import import_ipynb\n",
    "from Dataset import MoleculeDataset \n",
    "import Model\n",
    "from Model import GNN\n",
    "import mlflow.pytorch\n",
    "import matplotlib.pyplot as plt \n",
    "import seaborn as sns\n",
    "import pandas as pd \n",
    "\n",
    "device = torch.device(\"cuda:0\" if torch.cuda.is_available() else \"cpu\")\n",
    "\n",
    "mlflow.set_tracking_uri(\"http://localhost:5000\")\n"
   ]
  },
  {
   "cell_type": "code",
   "execution_count": null,
   "id": "6e0d68a8",
   "metadata": {},
   "outputs": [
    {
     "name": "stdout",
     "output_type": "stream",
     "text": [
      "Number of parameters: 365633\n"
     ]
    },
    {
     "name": "stderr",
     "output_type": "stream",
     "text": [
      "100%|██████████| 560/560 [07:36<00:00,  1.23it/s]\n"
     ]
    },
    {
     "name": "stdout",
     "output_type": "stream",
     "text": [
      "\n",
      " Confusion matrix: \n",
      " [[13649  9068]\n",
      " [22201 26716]]\n",
      "F1 Score: 0.6308308048311118\n",
      "Accuracy: 0.5634894044727364\n",
      "Precision: 0.5461496003434388\n",
      "Recall: 0.7465906550413592\n",
      "ROC AUC: 0.5636579495569418\n",
      "Epoch 0 | Train Loss 0.7564117217702525\n",
      "[[0.4885675 ]\n",
      " [0.5022531 ]\n",
      " [0.42802837]\n",
      " [0.6394342 ]\n",
      " [0.42966688]\n",
      " [0.50174105]\n",
      " [0.6236231 ]\n",
      " [0.56727153]\n",
      " [0.46092224]\n",
      " [0.4380293 ]]\n",
      "[0. 1. 0. 1. 0. 1. 1. 1. 0. 0.]\n",
      "[0 0 0 0 0 0 0 0 0 0]\n",
      "\n",
      " Confusion matrix: \n",
      " [[2563   32]\n",
      " [1271  133]]\n",
      "F1 Score: 0.1695347355003187\n",
      "Accuracy: 0.6741685421355339\n",
      "Precision: 0.09472934472934473\n",
      "Recall: 0.806060606060606\n",
      "ROC AUC: 0.737276521079338\n",
      "Epoch 0 | Test Loss 0.6828329432755709\n"
     ]
    },
    {
     "name": "stderr",
     "output_type": "stream",
     "text": [
      "2024/05/04 23:02:08 WARNING mlflow.utils.environment: Encountered an unexpected error while inferring pip requirements (model URI: C:\\Users\\User\\AppData\\Local\\Temp\\tmp1cr1ujcy\\model\\data, flavor: pytorch). Fall back to return ['torch==2.2.1', 'cloudpickle==2.2.1']. Set logging level to DEBUG to see the full traceback. \n",
      "100%|██████████| 560/560 [05:02<00:00,  1.85it/s]\n"
     ]
    },
    {
     "name": "stdout",
     "output_type": "stream",
     "text": [
      "\n",
      " Confusion matrix: \n",
      " [[23843 12679]\n",
      " [12007 23105]]\n",
      "F1 Score: 0.6517998194538479\n",
      "Accuracy: 0.6553871066811849\n",
      "Precision: 0.6580371383002962\n",
      "Recall: 0.6456796333556897\n",
      "ROC AUC: 0.6553781709316803\n",
      "Epoch 1 | Train Loss 0.7056518653673786\n"
     ]
    },
    {
     "name": "stderr",
     "output_type": "stream",
     "text": [
      "100%|██████████| 560/560 [03:35<00:00,  2.60it/s]\n"
     ]
    },
    {
     "name": "stdout",
     "output_type": "stream",
     "text": [
      "\n",
      " Confusion matrix: \n",
      " [[26091 12621]\n",
      " [ 9759 23163]]\n",
      "F1 Score: 0.6742642563968212\n",
      "Accuracy: 0.6875785241645029\n",
      "Precision: 0.7035720794605431\n",
      "Recall: 0.6473004694835681\n",
      "ROC AUC: 0.6875414481309053\n",
      "Epoch 2 | Train Loss 0.6743555527712618\n"
     ]
    },
    {
     "name": "stderr",
     "output_type": "stream",
     "text": [
      "100%|██████████| 560/560 [01:37<00:00,  5.76it/s]\n"
     ]
    },
    {
     "name": "stdout",
     "output_type": "stream",
     "text": [
      "\n",
      " Confusion matrix: \n",
      " [[27254 12276]\n",
      " [ 8596 23508]]\n",
      "F1 Score: 0.6925524393118078\n",
      "Accuracy: 0.708629980177011\n",
      "Precision: 0.7322452030899577\n",
      "Recall: 0.6569416498993964\n",
      "ROC AUC: 0.7085824009608558\n",
      "Epoch 3 | Train Loss 0.6514655580478055\n"
     ]
    },
    {
     "name": "stderr",
     "output_type": "stream",
     "text": [
      "100%|██████████| 560/560 [01:37<00:00,  5.74it/s]\n"
     ]
    },
    {
     "name": "stdout",
     "output_type": "stream",
     "text": [
      "\n",
      " Confusion matrix: \n",
      " [[27984 12174]\n",
      " [ 7866 23610]]\n",
      "F1 Score: 0.7020517395182873\n",
      "Accuracy: 0.720244576597705\n",
      "Precision: 0.7500953107129241\n",
      "Recall: 0.6597920858484239\n",
      "ROC AUC: 0.7201889299535007\n",
      "Epoch 4 | Train Loss 0.6392692943768842\n"
     ]
    },
    {
     "name": "stderr",
     "output_type": "stream",
     "text": [
      "100%|██████████| 560/560 [01:37<00:00,  5.73it/s]\n"
     ]
    },
    {
     "name": "stdout",
     "output_type": "stream",
     "text": [
      "\n",
      " Confusion matrix: \n",
      " [[28727 12073]\n",
      " [ 7123 23711]]\n",
      "F1 Score: 0.7118496502446786\n",
      "Accuracy: 0.7320266912360053\n",
      "Precision: 0.7689887786210028\n",
      "Recall: 0.6626145763469707\n",
      "ROC AUC: 0.7319627972390362\n",
      "Epoch 5 | Train Loss 0.6218759109931332\n",
      "[[0.28414986]\n",
      " [0.3282041 ]\n",
      " [0.31853658]\n",
      " [0.31301612]\n",
      " [0.2993697 ]\n",
      " [0.521227  ]\n",
      " [0.31519186]\n",
      " [0.31480998]\n",
      " [0.7125582 ]\n",
      " [0.30381814]]\n",
      "[0. 0. 0. 0. 0. 1. 0. 0. 1. 0.]\n",
      "[0 0 0 0 0 0 0 0 1 0]\n",
      "\n",
      " Confusion matrix: \n",
      " [[3542   75]\n",
      " [ 292   90]]\n",
      "F1 Score: 0.3290676416819013\n",
      "Accuracy: 0.908227056764191\n",
      "Precision: 0.2356020942408377\n",
      "Recall: 0.5454545454545454\n",
      "ROC AUC: 0.734646938872291\n",
      "Epoch 5 | Test Loss 0.4705433715134859\n"
     ]
    },
    {
     "name": "stderr",
     "output_type": "stream",
     "text": [
      "2024/05/04 23:16:15 WARNING mlflow.utils.environment: Encountered an unexpected error while inferring pip requirements (model URI: C:\\Users\\User\\AppData\\Local\\Temp\\tmpwxq46ga1\\model\\data, flavor: pytorch). Fall back to return ['torch==2.2.1', 'cloudpickle==2.2.1']. Set logging level to DEBUG to see the full traceback. \n",
      "100%|██████████| 560/560 [02:10<00:00,  4.28it/s]\n"
     ]
    },
    {
     "name": "stdout",
     "output_type": "stream",
     "text": [
      "\n",
      " Confusion matrix: \n",
      " [[29142 11790]\n",
      " [ 6708 23994]]\n",
      "F1 Score: 0.7217760129952169\n",
      "Accuracy: 0.7417706675600971\n",
      "Precision: 0.7815126050420168\n",
      "Recall: 0.670523138832998\n",
      "ROC AUC: 0.7417050840608505\n",
      "Epoch 6 | Train Loss 0.611085935149874\n"
     ]
    },
    {
     "name": "stderr",
     "output_type": "stream",
     "text": [
      "100%|██████████| 560/560 [01:39<00:00,  5.65it/s]\n"
     ]
    },
    {
     "name": "stdout",
     "output_type": "stream",
     "text": [
      "\n",
      " Confusion matrix: \n",
      " [[29523 11655]\n",
      " [ 6327 24129]]\n",
      "F1 Score: 0.7285326086956521\n",
      "Accuracy: 0.7489739509171622\n",
      "Precision: 0.79225768321513\n",
      "Recall: 0.6742957746478874\n",
      "ROC AUC: 0.748905209499676\n",
      "Epoch 7 | Train Loss 0.601976845360228\n"
     ]
    },
    {
     "name": "stderr",
     "output_type": "stream",
     "text": [
      "100%|██████████| 560/560 [01:37<00:00,  5.72it/s]\n"
     ]
    },
    {
     "name": "stdout",
     "output_type": "stream",
     "text": [
      "\n",
      " Confusion matrix: \n",
      " [[29678 11413]\n",
      " [ 6172 24371]]\n",
      "F1 Score: 0.7348741839673135\n",
      "Accuracy: 0.7545160119496328\n",
      "Precision: 0.797924237959598\n",
      "Recall: 0.6810585736642074\n",
      "ROC AUC: 0.7544483942240144\n",
      "Epoch 8 | Train Loss 0.5938619931893689\n"
     ]
    },
    {
     "name": "stderr",
     "output_type": "stream",
     "text": [
      "100%|██████████| 560/560 [01:37<00:00,  5.74it/s]\n"
     ]
    },
    {
     "name": "stdout",
     "output_type": "stream",
     "text": [
      "\n",
      " Confusion matrix: \n",
      " [[29894 11279]\n",
      " [ 5956 24505]]\n",
      "F1 Score: 0.739829421088384\n",
      "Accuracy: 0.759401959963146\n",
      "Precision: 0.8044712911591871\n",
      "Recall: 0.6848032640286161\n",
      "ROC AUC: 0.7593332917074741\n",
      "Epoch 9 | Train Loss 0.5889235873839684\n"
     ]
    },
    {
     "name": "stderr",
     "output_type": "stream",
     "text": [
      "100%|██████████| 560/560 [01:37<00:00,  5.74it/s]\n"
     ]
    },
    {
     "name": "stdout",
     "output_type": "stream",
     "text": [
      "\n",
      " Confusion matrix: \n",
      " [[30013 11236]\n",
      " [ 5837 24548]]\n",
      "F1 Score: 0.741978872281582\n",
      "Accuracy: 0.7616634559008292\n",
      "Precision: 0.8078986341945039\n",
      "Recall: 0.6860049183992846\n",
      "ROC AUC: 0.7615938120587776\n",
      "Epoch 10 | Train Loss 0.5827072166438614\n",
      "[[0.2628961 ]\n",
      " [0.3433754 ]\n",
      " [0.2797899 ]\n",
      " [0.29361427]\n",
      " [0.44003978]\n",
      " [0.32387877]\n",
      " [0.30008343]\n",
      " [0.28163442]\n",
      " [0.29986   ]\n",
      " [0.35686162]]\n",
      "[0. 0. 0. 0. 0. 0. 0. 0. 0. 0.]\n",
      "[0 0 0 0 0 0 0 0 0 0]\n",
      "\n",
      " Confusion matrix: \n",
      " [[3446   71]\n",
      " [ 388   94]]\n",
      "F1 Score: 0.29057187017001546\n",
      "Accuracy: 0.8852213053263316\n",
      "Precision: 0.1950207468879668\n",
      "Recall: 0.5696969696969697\n",
      "ROC AUC: 0.7342485891781667\n",
      "Epoch 10 | Test Loss 0.47296447586268187\n"
     ]
    },
    {
     "name": "stderr",
     "output_type": "stream",
     "text": [
      "100%|██████████| 560/560 [01:38<00:00,  5.66it/s]\n"
     ]
    },
    {
     "name": "stdout",
     "output_type": "stream",
     "text": [
      "\n",
      " Confusion matrix: \n",
      " [[30243 10935]\n",
      " [ 5607 24849]]\n",
      "F1 Score: 0.7502717391304348\n",
      "Accuracy: 0.769076137029902\n",
      "Precision: 0.8158983451536643\n",
      "Recall: 0.6944164989939637\n",
      "ROC AUC: 0.7690074126768983\n",
      "Epoch 11 | Train Loss 0.5759233873869691\n"
     ]
    },
    {
     "name": "stderr",
     "output_type": "stream",
     "text": [
      "100%|██████████| 560/560 [01:37<00:00,  5.74it/s]\n"
     ]
    },
    {
     "name": "stdout",
     "output_type": "stream",
     "text": [
      "\n",
      " Confusion matrix: \n",
      " [[30271 10675]\n",
      " [ 5579 25109]]\n",
      "F1 Score: 0.7554759898904801\n",
      "Accuracy: 0.7730965742524499\n",
      "Precision: 0.8182025547445255\n",
      "Recall: 0.7016823161189358\n",
      "ROC AUC: 0.7730308372784358\n",
      "Epoch 12 | Train Loss 0.5708696958209787\n"
     ]
    },
    {
     "name": "stderr",
     "output_type": "stream",
     "text": [
      "100%|██████████| 560/560 [01:37<00:00,  5.75it/s]\n"
     ]
    },
    {
     "name": "stdout",
     "output_type": "stream",
     "text": [
      "\n",
      " Confusion matrix: \n",
      " [[30259 10637]\n",
      " [ 5591 25147]]\n",
      "F1 Score: 0.7560506298668109\n",
      "Accuracy: 0.7734595303905967\n",
      "Precision: 0.8181078794976901\n",
      "Recall: 0.702744243237201\n",
      "ROC AUC: 0.7733944368208321\n",
      "Epoch 13 | Train Loss 0.566767877978938\n"
     ]
    },
    {
     "name": "stderr",
     "output_type": "stream",
     "text": [
      "100%|██████████| 560/560 [01:37<00:00,  5.73it/s]\n"
     ]
    },
    {
     "name": "stdout",
     "output_type": "stream",
     "text": [
      "\n",
      " Confusion matrix: \n",
      " [[30468 10591]\n",
      " [ 5382 25193]]\n",
      "F1 Score: 0.7592941424674875\n",
      "Accuracy: 0.7770192925147277\n",
      "Precision: 0.8239738348323794\n",
      "Recall: 0.7040297339593115\n",
      "ROC AUC: 0.7769521054733795\n",
      "Epoch 14 | Train Loss 0.5645035727747849\n"
     ]
    },
    {
     "name": "stderr",
     "output_type": "stream",
     "text": [
      "100%|██████████| 560/560 [01:36<00:00,  5.77it/s]\n"
     ]
    },
    {
     "name": "stdout",
     "output_type": "stream",
     "text": [
      "\n",
      " Confusion matrix: \n",
      " [[30501 10535]\n",
      " [ 5349 25249]]\n",
      "F1 Score: 0.7607182670000905\n",
      "Accuracy: 0.7782617192953067\n",
      "Precision: 0.8251846525916726\n",
      "Recall: 0.7055946791862285\n",
      "ROC AUC: 0.7781948291328633\n",
      "Epoch 15 | Train Loss 0.5615098788802113\n",
      "[[0.3022198 ]\n",
      " [0.28040347]\n",
      " [0.2549682 ]\n",
      " [0.26139045]\n",
      " [0.2930632 ]\n",
      " [0.27153373]\n",
      " [0.2745952 ]\n",
      " [0.29251987]\n",
      " [0.46132204]\n",
      " [0.2769586 ]]\n",
      "[0. 0. 0. 0. 0. 0. 0. 0. 0. 0.]\n",
      "[0 0 0 0 0 0 0 0 0 0]\n",
      "\n",
      " Confusion matrix: \n",
      " [[3453   61]\n",
      " [ 381  104]]\n",
      "F1 Score: 0.32\n",
      "Accuracy: 0.889472368092023\n",
      "Precision: 0.21443298969072164\n",
      "Recall: 0.6303030303030303\n",
      "ROC AUC: 0.7654645041968986\n",
      "Epoch 15 | Test Loss 0.45671479776501656\n"
     ]
    },
    {
     "name": "stderr",
     "output_type": "stream",
     "text": [
      "2024/05/04 23:33:22 WARNING mlflow.utils.environment: Encountered an unexpected error while inferring pip requirements (model URI: C:\\Users\\User\\AppData\\Local\\Temp\\tmpn7cuicfn\\model\\data, flavor: pytorch). Fall back to return ['torch==2.2.1', 'cloudpickle==2.2.1']. Set logging level to DEBUG to see the full traceback. \n",
      "100%|██████████| 560/560 [01:36<00:00,  5.78it/s]\n"
     ]
    },
    {
     "name": "stdout",
     "output_type": "stream",
     "text": [
      "\n",
      " Confusion matrix: \n",
      " [[30322 10221]\n",
      " [ 5528 25563]]\n",
      "F1 Score: 0.7645009345794391\n",
      "Accuracy: 0.7801462992433761\n",
      "Precision: 0.8221993502942974\n",
      "Recall: 0.7143695506371562\n",
      "ROC AUC: 0.7800857516086758\n",
      "Epoch 16 | Train Loss 0.557058171927929\n"
     ]
    },
    {
     "name": "stderr",
     "output_type": "stream",
     "text": [
      "100%|██████████| 560/560 [01:39<00:00,  5.64it/s]\n"
     ]
    },
    {
     "name": "stdout",
     "output_type": "stream",
     "text": [
      "\n",
      " Confusion matrix: \n",
      " [[30505 10387]\n",
      " [ 5345 25397]]\n",
      "F1 Score: 0.763521029371975\n",
      "Accuracy: 0.7803836167183181\n",
      "Precision: 0.826133628261011\n",
      "Recall: 0.7097306058573665\n",
      "ROC AUC: 0.780318580474011\n",
      "Epoch 17 | Train Loss 0.5570900852658919\n"
     ]
    },
    {
     "name": "stderr",
     "output_type": "stream",
     "text": [
      "100%|██████████| 560/560 [01:39<00:00,  5.64it/s]\n"
     ]
    },
    {
     "name": "stdout",
     "output_type": "stream",
     "text": [
      "\n",
      " Confusion matrix: \n",
      " [[30445 10191]\n",
      " [ 5405 25593]]\n",
      "F1 Score: 0.7664640172501572\n",
      "Accuracy: 0.7822821565178546\n",
      "Precision: 0.8256339118652817\n",
      "Recall: 0.7152079141515761\n",
      "ROC AUC: 0.782220414537434\n",
      "Epoch 18 | Train Loss 0.5558383662253619\n"
     ]
    },
    {
     "name": "stderr",
     "output_type": "stream",
     "text": [
      "100%|██████████| 560/560 [01:37<00:00,  5.73it/s]\n"
     ]
    },
    {
     "name": "stdout",
     "output_type": "stream",
     "text": [
      "\n",
      " Confusion matrix: \n",
      " [[30536 10276]\n",
      " [ 5314 25508]]\n",
      "F1 Score: 0.7659370026724319\n",
      "Accuracy: 0.7823659156266577\n",
      "Precision: 0.8275906819804036\n",
      "Recall: 0.7128325508607198\n",
      "ROC AUC: 0.7823019100189234\n",
      "Epoch 19 | Train Loss 0.5554512121847698\n"
     ]
    },
    {
     "name": "stderr",
     "output_type": "stream",
     "text": [
      "100%|██████████| 560/560 [01:37<00:00,  5.75it/s]\n"
     ]
    },
    {
     "name": "stdout",
     "output_type": "stream",
     "text": [
      "\n",
      " Confusion matrix: \n",
      " [[30451 10155]\n",
      " [ 5399 25629]]\n",
      "F1 Score: 0.7671975094294438\n",
      "Accuracy: 0.7828684702794763\n",
      "Precision: 0.825995874693825\n",
      "Recall: 0.7162139503688799\n",
      "ROC AUC: 0.7828071146544539\n",
      "Epoch 20 | Train Loss 0.5545877949999911\n",
      "[[0.2634431 ]\n",
      " [0.70558107]\n",
      " [0.3083588 ]\n",
      " [0.2885681 ]\n",
      " [0.28419095]\n",
      " [0.27297768]\n",
      " [0.29442832]\n",
      " [0.26915872]\n",
      " [0.28037325]\n",
      " [0.40322432]]\n",
      "[0. 1. 0. 0. 0. 0. 0. 0. 0. 0.]\n",
      "[0 1 0 0 0 0 0 0 0 0]\n",
      "\n",
      " Confusion matrix: \n",
      " [[3457   68]\n",
      " [ 377   97]]\n",
      "F1 Score: 0.30359937402190923\n",
      "Accuracy: 0.8887221805451363\n",
      "Precision: 0.20464135021097046\n",
      "Recall: 0.5878787878787879\n",
      "ROC AUC: 0.7447740313937498\n",
      "Epoch 20 | Test Loss 0.4544445965439081\n"
     ]
    },
    {
     "name": "stderr",
     "output_type": "stream",
     "text": [
      "2024/05/04 23:41:44 WARNING mlflow.utils.environment: Encountered an unexpected error while inferring pip requirements (model URI: C:\\Users\\User\\AppData\\Local\\Temp\\tmp4yf70n1h\\model\\data, flavor: pytorch). Fall back to return ['torch==2.2.1', 'cloudpickle==2.2.1']. Set logging level to DEBUG to see the full traceback. \n",
      "100%|██████████| 560/560 [01:38<00:00,  5.71it/s]\n"
     ]
    },
    {
     "name": "stdout",
     "output_type": "stream",
     "text": [
      "\n",
      " Confusion matrix: \n",
      " [[30553 10253]\n",
      " [ 5297 25531]]\n",
      "F1 Score: 0.7665585780339879\n",
      "Accuracy: 0.782924309685345\n",
      "Precision: 0.8281756844427144\n",
      "Recall: 0.7134752962217751\n",
      "ROC AUC: 0.7828603817231609\n",
      "Epoch 21 | Train Loss 0.5533480441996029\n"
     ]
    },
    {
     "name": "stderr",
     "output_type": "stream",
     "text": [
      "100%|██████████| 560/560 [01:37<00:00,  5.76it/s]\n"
     ]
    },
    {
     "name": "stdout",
     "output_type": "stream",
     "text": [
      "\n",
      " Confusion matrix: \n",
      " [[30541 10032]\n",
      " [ 5309 25752]]\n",
      "F1 Score: 0.7704989154013016\n",
      "Accuracy: 0.7858419186419856\n",
      "Precision: 0.8290782653488297\n",
      "Recall: 0.7196512407780014\n",
      "ROC AUC: 0.7857809899845376\n",
      "Epoch 22 | Train Loss 0.5505439787038735\n"
     ]
    },
    {
     "name": "stderr",
     "output_type": "stream",
     "text": [
      "100%|██████████| 560/560 [01:37<00:00,  5.73it/s]\n"
     ]
    },
    {
     "name": "stdout",
     "output_type": "stream",
     "text": [
      "\n",
      " Confusion matrix: \n",
      " [[30522 10071]\n",
      " [ 5328 25713]]\n",
      "F1 Score: 0.7695622895622896\n",
      "Accuracy: 0.7850322472568891\n",
      "Precision: 0.8283560452305015\n",
      "Recall: 0.7185613682092555\n",
      "ROC AUC: 0.7849710606736654\n",
      "Epoch 23 | Train Loss 0.5512922403535673\n"
     ]
    },
    {
     "name": "stderr",
     "output_type": "stream",
     "text": [
      "100%|██████████| 560/560 [01:37<00:00,  5.76it/s]\n"
     ]
    },
    {
     "name": "stdout",
     "output_type": "stream",
     "text": [
      "\n",
      " Confusion matrix: \n",
      " [[30505 10138]\n",
      " [ 5345 25646]]\n",
      "F1 Score: 0.768131785847997\n",
      "Accuracy: 0.783859619733646\n",
      "Precision: 0.8275305733922752\n",
      "Recall: 0.7166890230270512\n",
      "ROC AUC: 0.7837977890588532\n",
      "Epoch 24 | Train Loss 0.5504893113992044\n"
     ]
    },
    {
     "name": "stderr",
     "output_type": "stream",
     "text": [
      "100%|██████████| 560/560 [01:37<00:00,  5.74it/s]\n"
     ]
    },
    {
     "name": "stdout",
     "output_type": "stream",
     "text": [
      "\n",
      " Confusion matrix: \n",
      " [[30491 10101]\n",
      " [ 5359 25683]]\n",
      "F1 Score: 0.7686529195223416\n",
      "Accuracy: 0.7841806963173912\n",
      "Precision: 0.8273629276464145\n",
      "Recall: 0.7177230046948356\n",
      "ROC AUC: 0.7841195218732196\n",
      "Epoch 25 | Train Loss 0.5513451152614185\n",
      "[[0.2604792 ]\n",
      " [0.3602811 ]\n",
      " [0.28211477]\n",
      " [0.27771378]\n",
      " [0.42510116]\n",
      " [0.2608269 ]\n",
      " [0.30265376]\n",
      " [0.2570871 ]\n",
      " [0.33182824]\n",
      " [0.45526287]]\n",
      "[0. 0. 0. 0. 0. 0. 0. 0. 0. 0.]\n",
      "[0 0 0 0 0 0 0 0 1 0]\n",
      "\n",
      " Confusion matrix: \n",
      " [[3472   68]\n",
      " [ 362   97]]\n",
      "F1 Score: 0.3108974358974359\n",
      "Accuracy: 0.8924731182795699\n",
      "Precision: 0.2113289760348584\n",
      "Recall: 0.5878787878787879\n",
      "ROC AUC: 0.746730212927396\n",
      "Epoch 25 | Test Loss 0.44935741648077965\n"
     ]
    },
    {
     "name": "stderr",
     "output_type": "stream",
     "text": [
      "2024/05/04 23:50:02 WARNING mlflow.utils.environment: Encountered an unexpected error while inferring pip requirements (model URI: C:\\Users\\User\\AppData\\Local\\Temp\\tmprk9vawb7\\model\\data, flavor: pytorch). Fall back to return ['torch==2.2.1', 'cloudpickle==2.2.1']. Set logging level to DEBUG to see the full traceback. \n",
      "100%|██████████| 560/560 [01:37<00:00,  5.74it/s]\n"
     ]
    },
    {
     "name": "stdout",
     "output_type": "stream",
     "text": [
      "\n",
      " Confusion matrix: \n",
      " [[30464 10074]\n",
      " [ 5386 25710]]\n",
      "F1 Score: 0.7688397129186603\n",
      "Accuracy: 0.7841806963173912\n",
      "Precision: 0.8267944430151788\n",
      "Recall: 0.7184775318578136\n",
      "ROC AUC: 0.7841202164170519\n",
      "Epoch 26 | Train Loss 0.5521098723368986\n"
     ]
    },
    {
     "name": "stderr",
     "output_type": "stream",
     "text": [
      "100%|██████████| 560/560 [01:39<00:00,  5.64it/s]\n"
     ]
    },
    {
     "name": "stdout",
     "output_type": "stream",
     "text": [
      "\n",
      " Confusion matrix: \n",
      " [[30570 10091]\n",
      " [ 5280 25693]]\n",
      "F1 Score: 0.7697469928247226\n",
      "Accuracy: 0.7854231230979702\n",
      "Precision: 0.8295289445646208\n",
      "Recall: 0.7180024591996423\n",
      "ROC AUC: 0.7853610622358044\n",
      "Epoch 27 | Train Loss 0.5507892436214856\n"
     ]
    },
    {
     "name": "stderr",
     "output_type": "stream",
     "text": [
      "100%|██████████| 560/560 [01:37<00:00,  5.74it/s]\n"
     ]
    },
    {
     "name": "stdout",
     "output_type": "stream",
     "text": [
      "\n",
      " Confusion matrix: \n",
      " [[30611  9951]\n",
      " [ 5239 25833]]\n",
      "F1 Score: 0.7727952614574609\n",
      "Accuracy: 0.7879498562135299\n",
      "Precision: 0.8313916065911432\n",
      "Recall: 0.7219148222669349\n",
      "ROC AUC: 0.7878890708266335\n",
      "Epoch 28 | Train Loss 0.5503981814320599\n"
     ]
    },
    {
     "name": "stderr",
     "output_type": "stream",
     "text": [
      "100%|██████████| 560/560 [01:38<00:00,  5.68it/s]\n"
     ]
    },
    {
     "name": "stdout",
     "output_type": "stream",
     "text": [
      "\n",
      " Confusion matrix: \n",
      " [[30566 10050]\n",
      " [ 5284 25734]]\n",
      "F1 Score: 0.7704559743720247\n",
      "Accuracy: 0.7859396376022559\n",
      "Precision: 0.8296473015668322\n",
      "Recall: 0.7191482226693494\n",
      "ROC AUC: 0.785878155965079\n",
      "Epoch 29 | Train Loss 0.5491888855717012\n"
     ]
    },
    {
     "name": "stderr",
     "output_type": "stream",
     "text": [
      "100%|██████████| 560/560 [01:38<00:00,  5.69it/s]\n"
     ]
    },
    {
     "name": "stdout",
     "output_type": "stream",
     "text": [
      "\n",
      " Confusion matrix: \n",
      " [[30392 10038]\n",
      " [ 5458 25746]]\n",
      "F1 Score: 0.7686749865647579\n",
      "Accuracy: 0.7836781416645727\n",
      "Precision: 0.8250865273682861\n",
      "Recall: 0.7194835680751174\n",
      "ROC AUC: 0.7836190504252855\n",
      "Epoch 30 | Train Loss 0.5515041927141803\n",
      "[[0.284198  ]\n",
      " [0.26680008]\n",
      " [0.23124963]\n",
      " [0.33792007]\n",
      " [0.25417542]\n",
      " [0.2833795 ]\n",
      " [0.11736098]\n",
      " [0.2883288 ]\n",
      " [0.43611926]\n",
      " [0.30503476]]\n",
      "[0. 0. 0. 0. 0. 0. 0. 0. 0. 0.]\n",
      "[0 0 0 0 0 0 0 0 0 0]\n",
      "\n",
      " Confusion matrix: \n",
      " [[3459   72]\n",
      " [ 375   93]]\n",
      "F1 Score: 0.29383886255924174\n",
      "Accuracy: 0.8882220555138785\n",
      "Precision: 0.1987179487179487\n",
      "Recall: 0.5636363636363636\n",
      "ROC AUC: 0.7329136434770237\n",
      "Epoch 30 | Test Loss 0.45547183603048325\n"
     ]
    },
    {
     "name": "stderr",
     "output_type": "stream",
     "text": [
      "100%|██████████| 560/560 [01:38<00:00,  5.68it/s]\n"
     ]
    },
    {
     "name": "stdout",
     "output_type": "stream",
     "text": [
      "\n",
      " Confusion matrix: \n",
      " [[30549 10010]\n",
      " [ 5301 25774]]\n",
      "F1 Score: 0.7709956774704976\n",
      "Accuracy: 0.7862607141860011\n",
      "Precision: 0.8294127111826227\n",
      "Recall: 0.7202660406885759\n",
      "ROC AUC: 0.7861999659509825\n",
      "Epoch 31 | Train Loss 0.5502848890210901\n"
     ]
    },
    {
     "name": "stderr",
     "output_type": "stream",
     "text": [
      "100%|██████████| 560/560 [01:38<00:00,  5.68it/s]\n"
     ]
    },
    {
     "name": "stdout",
     "output_type": "stream",
     "text": [
      "\n",
      " Confusion matrix: \n",
      " [[30504 10035]\n",
      " [ 5346 25749]]\n",
      "F1 Score: 0.7700174942807159\n",
      "Accuracy: 0.7852835245832984\n",
      "Precision: 0.8280752532561505\n",
      "Recall: 0.7195674044265593\n",
      "ROC AUC: 0.7852230327572127\n",
      "Epoch 32 | Train Loss 0.5502972511840718\n"
     ]
    },
    {
     "name": "stderr",
     "output_type": "stream",
     "text": [
      "100%|██████████| 560/560 [01:37<00:00,  5.77it/s]\n"
     ]
    },
    {
     "name": "stdout",
     "output_type": "stream",
     "text": [
      "\n",
      " Confusion matrix: \n",
      " [[30532 10148]\n",
      " [ 5318 25636]]\n",
      "F1 Score: 0.7682579639785428\n",
      "Accuracy: 0.7840969372085881\n",
      "Precision: 0.8281966789429476\n",
      "Recall: 0.7164095685222446\n",
      "ROC AUC: 0.784034630844107\n",
      "Epoch 33 | Train Loss 0.5505396158567497\n"
     ]
    },
    {
     "name": "stderr",
     "output_type": "stream",
     "text": [
      "100%|██████████| 560/560 [01:37<00:00,  5.77it/s]\n"
     ]
    },
    {
     "name": "stdout",
     "output_type": "stream",
     "text": [
      "\n",
      " Confusion matrix: \n",
      " [[30520 10071]\n",
      " [ 5330 25713]]\n",
      "F1 Score: 0.7695392580843072\n",
      "Accuracy: 0.7850043275539548\n",
      "Precision: 0.8283026769319976\n",
      "Recall: 0.7185613682092555\n",
      "ROC AUC: 0.784943166670876\n",
      "Epoch 34 | Train Loss 0.5503703592611211\n"
     ]
    },
    {
     "name": "stderr",
     "output_type": "stream",
     "text": [
      "100%|██████████| 560/560 [01:37<00:00,  5.77it/s]\n"
     ]
    },
    {
     "name": "stdout",
     "output_type": "stream",
     "text": [
      "\n",
      " Confusion matrix: \n",
      " [[30637 10079]\n",
      " [ 5213 25705]]\n",
      "F1 Score: 0.7707415070012893\n",
      "Accuracy: 0.7865259513638775\n",
      "Precision: 0.8313927162170903\n",
      "Recall: 0.7183378046054102\n",
      "ROC AUC: 0.7864631840321333\n",
      "Epoch 35 | Train Loss 0.5500517227287803\n",
      "[[0.38189653]\n",
      " [0.29168552]\n",
      " [0.34510913]\n",
      " [0.27287367]\n",
      " [0.278366  ]\n",
      " [0.2665106 ]\n",
      " [0.25920287]\n",
      " [0.2768011 ]\n",
      " [0.25638327]\n",
      " [0.28267598]]\n",
      "[0. 0. 0. 0. 0. 0. 0. 0. 0. 0.]\n",
      "[0 0 0 0 0 0 0 0 0 0]\n",
      "\n",
      " Confusion matrix: \n",
      " [[3482   72]\n",
      " [ 352   93]]\n",
      "F1 Score: 0.30491803278688523\n",
      "Accuracy: 0.8939734933733433\n",
      "Precision: 0.20898876404494382\n",
      "Recall: 0.5636363636363636\n",
      "ROC AUC: 0.7359131218286148\n",
      "Epoch 35 | Test Loss 0.44503912329673767\n"
     ]
    },
    {
     "name": "stderr",
     "output_type": "stream",
     "text": [
      "2024/05/05 00:06:38 WARNING mlflow.utils.environment: Encountered an unexpected error while inferring pip requirements (model URI: C:\\Users\\User\\AppData\\Local\\Temp\\tmp81rv4zhj\\model\\data, flavor: pytorch). Fall back to return ['torch==2.2.1', 'cloudpickle==2.2.1']. Set logging level to DEBUG to see the full traceback. \n",
      "100%|██████████| 560/560 [01:36<00:00,  5.78it/s]\n"
     ]
    },
    {
     "name": "stdout",
     "output_type": "stream",
     "text": [
      "\n",
      " Confusion matrix: \n",
      " [[30487 10034]\n",
      " [ 5363 25750]]\n",
      "F1 Score: 0.7698402021017385\n",
      "Accuracy: 0.7850601669598235\n",
      "Precision: 0.82762832256613\n",
      "Recall: 0.71959534987704\n",
      "ROC AUC: 0.7849999064587432\n",
      "Epoch 36 | Train Loss 0.550130120664835\n"
     ]
    },
    {
     "name": "stderr",
     "output_type": "stream",
     "text": [
      "100%|██████████| 560/560 [01:37<00:00,  5.77it/s]\n"
     ]
    },
    {
     "name": "stdout",
     "output_type": "stream",
     "text": [
      "\n",
      " Confusion matrix: \n",
      " [[30514 10068]\n",
      " [ 5336 25716]]\n",
      "F1 Score: 0.769525405470106\n",
      "Accuracy: 0.7849624479995533\n",
      "Precision: 0.8281592167976298\n",
      "Recall: 0.7186452045606975\n",
      "ROC AUC: 0.7849014028382288\n",
      "Epoch 37 | Train Loss 0.5509858618889536\n"
     ]
    },
    {
     "name": "stderr",
     "output_type": "stream",
     "text": [
      "100%|██████████| 560/560 [01:37<00:00,  5.74it/s]\n"
     ]
    },
    {
     "name": "stdout",
     "output_type": "stream",
     "text": [
      "\n",
      " Confusion matrix: \n",
      " [[30558 10023]\n",
      " [ 5292 25761]]\n",
      "F1 Score: 0.7708604515462991\n",
      "Accuracy: 0.7862048747801323\n",
      "Precision: 0.8295816829291855\n",
      "Recall: 0.7199027498323273\n",
      "ROC AUC: 0.7861438435354104\n",
      "Epoch 38 | Train Loss 0.5494245994303908\n"
     ]
    },
    {
     "name": "stderr",
     "output_type": "stream",
     "text": [
      "100%|██████████| 560/560 [01:37<00:00,  5.73it/s]\n"
     ]
    },
    {
     "name": "stdout",
     "output_type": "stream",
     "text": [
      "\n",
      " Confusion matrix: \n",
      " [[30586 10132]\n",
      " [ 5264 25652]]\n",
      "F1 Score: 0.769175412293853\n",
      "Accuracy: 0.7850741268112907\n",
      "Precision: 0.8297321775132618\n",
      "Recall: 0.7168566957299352\n",
      "ROC AUC: 0.785011332523266\n",
      "Epoch 39 | Train Loss 0.5505604510328599\n"
     ]
    },
    {
     "name": "stderr",
     "output_type": "stream",
     "text": [
      "100%|██████████| 560/560 [01:37<00:00,  5.73it/s]\n"
     ]
    },
    {
     "name": "stdout",
     "output_type": "stream",
     "text": [
      "\n",
      " Confusion matrix: \n",
      " [[30522 10029]\n",
      " [ 5328 25755]]\n",
      "F1 Score: 0.7703351428955988\n",
      "Accuracy: 0.7856185610185108\n",
      "Precision: 0.8285879741337708\n",
      "Recall: 0.7197350771294433\n",
      "ROC AUC: 0.7855579151337593\n",
      "Epoch 40 | Train Loss 0.5482920142156738\n",
      "[[0.2436205 ]\n",
      " [0.2851057 ]\n",
      " [0.27536902]\n",
      " [0.24897638]\n",
      " [0.25216573]\n",
      " [0.24255653]\n",
      " [0.27356067]\n",
      " [0.25517026]\n",
      " [0.4447488 ]\n",
      " [0.27390498]]\n",
      "[0. 0. 0. 0. 0. 0. 0. 0. 0. 0.]\n",
      "[0 0 0 0 0 0 0 0 0 0]\n",
      "\n",
      " Confusion matrix: \n",
      " [[3495   73]\n",
      " [ 339   92]]\n",
      "F1 Score: 0.3087248322147651\n",
      "Accuracy: 0.8969742435608902\n",
      "Precision: 0.21345707656612528\n",
      "Recall: 0.5575757575757576\n",
      "ROC AUC: 0.7345781761274719\n",
      "Epoch 40 | Test Loss 0.44243290554732084\n"
     ]
    },
    {
     "name": "stderr",
     "output_type": "stream",
     "text": [
      "2024/05/05 00:14:56 WARNING mlflow.utils.environment: Encountered an unexpected error while inferring pip requirements (model URI: C:\\Users\\User\\AppData\\Local\\Temp\\tmpqdmoqil8\\model\\data, flavor: pytorch). Fall back to return ['torch==2.2.1', 'cloudpickle==2.2.1']. Set logging level to DEBUG to see the full traceback. \n",
      "100%|██████████| 560/560 [01:37<00:00,  5.73it/s]\n"
     ]
    },
    {
     "name": "stdout",
     "output_type": "stream",
     "text": [
      "\n",
      " Confusion matrix: \n",
      " [[30509 10052]\n",
      " [ 5341 25732]]\n",
      "F1 Score: 0.7697623285519841\n",
      "Accuracy: 0.7851160063656922\n",
      "Precision: 0.8281144401892319\n",
      "Recall: 0.7190923317683882\n",
      "ROC AUC: 0.7850552314351006\n",
      "Epoch 41 | Train Loss 0.5494931866015706\n"
     ]
    },
    {
     "name": "stderr",
     "output_type": "stream",
     "text": [
      "100%|██████████| 560/560 [01:37<00:00,  5.74it/s]\n"
     ]
    },
    {
     "name": "stdout",
     "output_type": "stream",
     "text": [
      "\n",
      " Confusion matrix: \n",
      " [[30527 10068]\n",
      " [ 5323 25716]]\n",
      "F1 Score: 0.7696751118626819\n",
      "Accuracy: 0.7851439260686266\n",
      "Precision: 0.8285060730049293\n",
      "Recall: 0.7186452045606975\n",
      "ROC AUC: 0.7850827138563597\n",
      "Epoch 42 | Train Loss 0.5502868525151695\n"
     ]
    },
    {
     "name": "stderr",
     "output_type": "stream",
     "text": [
      "100%|██████████| 560/560 [01:37<00:00,  5.76it/s]\n"
     ]
    },
    {
     "name": "stdout",
     "output_type": "stream",
     "text": [
      "\n",
      " Confusion matrix: \n",
      " [[30578  9932]\n",
      " [ 5272 25852]]\n",
      "F1 Score: 0.7727625993902075\n",
      "Accuracy: 0.7877544182929893\n",
      "Precision: 0.8306130317439918\n",
      "Recall: 0.7224457858260676\n",
      "ROC AUC: 0.7876943015601746\n",
      "Epoch 43 | Train Loss 0.5498342197388411\n"
     ]
    },
    {
     "name": "stderr",
     "output_type": "stream",
     "text": [
      "100%|██████████| 560/560 [01:37<00:00,  5.72it/s]\n"
     ]
    },
    {
     "name": "stdout",
     "output_type": "stream",
     "text": [
      "\n",
      " Confusion matrix: \n",
      " [[30546 10023]\n",
      " [ 5304 25761]]\n",
      "F1 Score: 0.7707220751245345\n",
      "Accuracy: 0.7860373565625262\n",
      "Precision: 0.829261226460647\n",
      "Recall: 0.7199027498323273\n",
      "ROC AUC: 0.785976479518674\n",
      "Epoch 44 | Train Loss 0.549933322040098\n"
     ]
    },
    {
     "name": "stderr",
     "output_type": "stream",
     "text": [
      "100%|██████████| 560/560 [01:37<00:00,  5.75it/s]\n"
     ]
    },
    {
     "name": "stdout",
     "output_type": "stream",
     "text": [
      "\n",
      " Confusion matrix: \n",
      " [[30498 10110]\n",
      " [ 5352 25674]]\n",
      "F1 Score: 0.7685675797036371\n",
      "Accuracy: 0.7841527766144568\n",
      "Precision: 0.8274995165345195\n",
      "Recall: 0.7174714956405097\n",
      "ROC AUC: 0.7840913963558197\n",
      "Epoch 45 | Train Loss 0.5502399628183672\n",
      "[[0.28215626]\n",
      " [0.26514035]\n",
      " [0.27521896]\n",
      " [0.6389267 ]\n",
      " [0.3322986 ]\n",
      " [0.30287346]\n",
      " [0.3713086 ]\n",
      " [0.86497384]\n",
      " [0.31083778]\n",
      " [0.29306397]]\n",
      "[0. 0. 0. 1. 0. 0. 0. 1. 0. 0.]\n",
      "[0 0 0 0 0 0 0 0 0 0]\n",
      "\n",
      " Confusion matrix: \n",
      " [[3464   62]\n",
      " [ 370  103]]\n",
      "F1 Score: 0.322884012539185\n",
      "Accuracy: 0.891972993248312\n",
      "Precision: 0.21775898520084566\n",
      "Recall: 0.6242424242424243\n",
      "ROC AUC: 0.7638687342912696\n",
      "Epoch 45 | Test Loss 0.4497504699975252\n"
     ]
    },
    {
     "name": "stderr",
     "output_type": "stream",
     "text": [
      "100%|██████████| 560/560 [01:42<00:00,  5.46it/s]\n"
     ]
    },
    {
     "name": "stdout",
     "output_type": "stream",
     "text": [
      "\n",
      " Confusion matrix: \n",
      " [[30637  9962]\n",
      " [ 5213 25822]]\n",
      "F1 Score: 0.772893937353148\n",
      "Accuracy: 0.7881592539855375\n",
      "Precision: 0.8320283550829708\n",
      "Recall: 0.7216074223116477\n",
      "ROC AUC: 0.788097992885252\n",
      "Epoch 46 | Train Loss 0.548185824070658\n"
     ]
    },
    {
     "name": "stderr",
     "output_type": "stream",
     "text": [
      "100%|██████████| 560/560 [01:37<00:00,  5.73it/s]\n"
     ]
    },
    {
     "name": "stdout",
     "output_type": "stream",
     "text": [
      "\n",
      " Confusion matrix: \n",
      " [[30579 10018]\n",
      " [ 5271 25766]]\n",
      "F1 Score: 0.7711946843058319\n",
      "Accuracy: 0.786567830918279\n",
      "Precision: 0.8301704417308374\n",
      "Recall: 0.7200424770847306\n",
      "ROC AUC: 0.7865065941909009\n",
      "Epoch 47 | Train Loss 0.548388844994562\n"
     ]
    },
    {
     "name": "stderr",
     "output_type": "stream",
     "text": [
      "100%|██████████| 560/560 [01:37<00:00,  5.74it/s]\n"
     ]
    },
    {
     "name": "stdout",
     "output_type": "stream",
     "text": [
      "\n",
      " Confusion matrix: \n",
      " [[30547  9958]\n",
      " [ 5303 25826]]\n",
      "F1 Score: 0.7719277270485556\n",
      "Accuracy: 0.7869587067593601\n",
      "Precision: 0.8296443830511742\n",
      "Recall: 0.7217192041135703\n",
      "ROC AUC: 0.7868986536606902\n",
      "Epoch 48 | Train Loss 0.5486226064818246\n"
     ]
    },
    {
     "name": "stderr",
     "output_type": "stream",
     "text": [
      "100%|██████████| 560/560 [01:37<00:00,  5.72it/s]\n"
     ]
    },
    {
     "name": "stdout",
     "output_type": "stream",
     "text": [
      "\n",
      " Confusion matrix: \n",
      " [[30461 10119]\n",
      " [ 5389 25665]]\n",
      "F1 Score: 0.7679763009066698\n",
      "Accuracy: 0.7835106234469665\n",
      "Precision: 0.8264635795710698\n",
      "Recall: 0.7172199865861838\n",
      "ROC AUC: 0.7834496027770529\n",
      "Epoch 49 | Train Loss 0.5516437594911882\n"
     ]
    },
    {
     "name": "stderr",
     "output_type": "stream",
     "text": [
      "100%|██████████| 560/560 [01:37<00:00,  5.72it/s]\n"
     ]
    },
    {
     "name": "stdout",
     "output_type": "stream",
     "text": [
      "\n",
      " Confusion matrix: \n",
      " [[30551 10000]\n",
      " [ 5299 25784]]\n",
      "F1 Score: 0.7712025363781836\n",
      "Accuracy: 0.7864282324036073\n",
      "Precision: 0.8295209600102951\n",
      "Recall: 0.7205454951933825\n",
      "ROC AUC: 0.7863675872061753\n",
      "Epoch 50 | Train Loss 0.5481610177350896\n",
      "[[0.39664775]\n",
      " [0.2983146 ]\n",
      " [0.27698714]\n",
      " [0.52574515]\n",
      " [0.55032086]\n",
      " [0.5389045 ]\n",
      " [0.26413247]\n",
      " [0.27262428]\n",
      " [0.37978873]\n",
      " [0.2746301 ]]\n",
      "[0. 0. 0. 1. 1. 1. 0. 0. 0. 0.]\n",
      "[0 0 0 0 0 0 0 0 0 0]\n",
      "\n",
      " Confusion matrix: \n",
      " [[3458   61]\n",
      " [ 376  104]]\n",
      "F1 Score: 0.32248062015503876\n",
      "Accuracy: 0.8907226806701676\n",
      "Precision: 0.21666666666666667\n",
      "Recall: 0.6303030303030303\n",
      "ROC AUC: 0.7661165647081141\n",
      "Epoch 50 | Test Loss 0.4534378834068775\n"
     ]
    },
    {
     "name": "stderr",
     "output_type": "stream",
     "text": [
      "100%|██████████| 560/560 [01:38<00:00,  5.71it/s]\n"
     ]
    },
    {
     "name": "stdout",
     "output_type": "stream",
     "text": [
      "\n",
      " Confusion matrix: \n",
      " [[30499  9965]\n",
      " [ 5351 25819]]\n",
      "F1 Score: 0.771245930041521\n",
      "Accuracy: 0.7861909149286651\n",
      "Precision: 0.8283285210137953\n",
      "Recall: 0.7215235859602057\n",
      "ROC AUC: 0.7861313885170622\n",
      "Epoch 51 | Train Loss 0.5488976943173579\n"
     ]
    },
    {
     "name": "stderr",
     "output_type": "stream",
     "text": [
      "100%|██████████| 560/560 [01:37<00:00,  5.74it/s]\n"
     ]
    },
    {
     "name": "stdout",
     "output_type": "stream",
     "text": [
      "\n",
      " Confusion matrix: \n",
      " [[30530  9971]\n",
      " [ 5320 25813]]\n",
      "F1 Score: 0.7714930436212025\n",
      "Accuracy: 0.7865399112153447\n",
      "Precision: 0.8291202261266181\n",
      "Recall: 0.7213559132573217\n",
      "ROC AUC: 0.7864799092088561\n",
      "Epoch 52 | Train Loss 0.5481846826417106\n"
     ]
    },
    {
     "name": "stderr",
     "output_type": "stream",
     "text": [
      "100%|██████████| 560/560 [01:38<00:00,  5.71it/s]\n"
     ]
    },
    {
     "name": "stdout",
     "output_type": "stream",
     "text": [
      "\n",
      " Confusion matrix: \n",
      " [[30501 10046]\n",
      " [ 5349 25738]]\n",
      "F1 Score: 0.7697806223923674\n",
      "Accuracy: 0.7850880866627579\n",
      "Precision: 0.8279345063853057\n",
      "Recall: 0.719260004471272\n",
      "ROC AUC: 0.785027491775385\n",
      "Epoch 53 | Train Loss 0.5497231412678957\n"
     ]
    },
    {
     "name": "stderr",
     "output_type": "stream",
     "text": [
      "100%|██████████| 560/560 [01:38<00:00,  5.70it/s]\n"
     ]
    },
    {
     "name": "stdout",
     "output_type": "stream",
     "text": [
      "\n",
      " Confusion matrix: \n",
      " [[30489  9997]\n",
      " [ 5361 25787]]\n",
      "F1 Score: 0.7705432379131059\n",
      "Accuracy: 0.7856046011670436\n",
      "Precision: 0.8278862206241171\n",
      "Recall: 0.7206293315448244\n",
      "ROC AUC: 0.7855447912954248\n",
      "Epoch 54 | Train Loss 0.5490721082580942\n"
     ]
    },
    {
     "name": "stderr",
     "output_type": "stream",
     "text": [
      "100%|██████████| 560/560 [01:37<00:00,  5.75it/s]\n"
     ]
    },
    {
     "name": "stdout",
     "output_type": "stream",
     "text": [
      "\n",
      " Confusion matrix: \n",
      " [[30502 10065]\n",
      " [ 5348 25719]]\n",
      "F1 Score: 0.7694424915109722\n",
      "Accuracy: 0.7848368093363487\n",
      "Precision: 0.8278559242926578\n",
      "Recall: 0.7187290409121395\n",
      "ROC AUC: 0.7847759569972135\n",
      "Epoch 55 | Train Loss 0.5504923604428769\n",
      "[[0.3477729 ]\n",
      " [0.26830775]\n",
      " [0.29957092]\n",
      " [0.5785208 ]\n",
      " [0.32544956]\n",
      " [0.2280839 ]\n",
      " [0.6023749 ]\n",
      " [0.73334235]\n",
      " [0.46198773]\n",
      " [0.7083294 ]]\n",
      "[0. 0. 0. 1. 0. 0. 1. 1. 0. 1.]\n",
      "[0 0 0 0 0 0 0 0 0 1]\n",
      "\n",
      " Confusion matrix: \n",
      " [[3463   69]\n",
      " [ 371   96]]\n",
      "F1 Score: 0.3037974683544304\n",
      "Accuracy: 0.8899724931232809\n",
      "Precision: 0.20556745182012848\n",
      "Recall: 0.5818181818181818\n",
      "ROC AUC: 0.7425262009769051\n",
      "Epoch 55 | Test Loss 0.4528855327516794\n"
     ]
    },
    {
     "name": "stderr",
     "output_type": "stream",
     "text": [
      "100%|██████████| 560/560 [01:37<00:00,  5.74it/s]\n"
     ]
    },
    {
     "name": "stdout",
     "output_type": "stream",
     "text": [
      "\n",
      " Confusion matrix: \n",
      " [[30519 10079]\n",
      " [ 5331 25705]]\n",
      "F1 Score: 0.7693804250224483\n",
      "Accuracy: 0.7848786888907502\n",
      "Precision: 0.8282317308931564\n",
      "Recall: 0.7183378046054102\n",
      "ROC AUC: 0.7848174378675586\n",
      "Epoch 56 | Train Loss 0.5506724487457957\n"
     ]
    },
    {
     "name": "stderr",
     "output_type": "stream",
     "text": [
      "100%|██████████| 560/560 [01:37<00:00,  5.72it/s]\n"
     ]
    },
    {
     "name": "stdout",
     "output_type": "stream",
     "text": [
      "\n",
      " Confusion matrix: \n",
      " [[30423 10027]\n",
      " [ 5427 25757]]\n",
      "F1 Score: 0.7692330665392426\n",
      "Accuracy: 0.7842644554261943\n",
      "Precision: 0.8259684453565931\n",
      "Recall: 0.7197909680304047\n",
      "ROC AUC: 0.7842051074461647\n",
      "Epoch 57 | Train Loss 0.5475125798689467\n"
     ]
    },
    {
     "name": "stderr",
     "output_type": "stream",
     "text": [
      "100%|██████████| 560/560 [01:37<00:00,  5.73it/s]\n"
     ]
    },
    {
     "name": "stdout",
     "output_type": "stream",
     "text": [
      "\n",
      " Confusion matrix: \n",
      " [[30619 10040]\n",
      " [ 5231 25744]]\n",
      "F1 Score: 0.7712518162345152\n",
      "Accuracy: 0.7868191082446883\n",
      "Precision: 0.8311218724778047\n",
      "Recall: 0.719427677174156\n",
      "ROC AUC: 0.7867570742914015\n",
      "Epoch 58 | Train Loss 0.5499761307878154\n"
     ]
    },
    {
     "name": "stderr",
     "output_type": "stream",
     "text": [
      "100%|██████████| 560/560 [01:37<00:00,  5.73it/s]\n"
     ]
    },
    {
     "name": "stdout",
     "output_type": "stream",
     "text": [
      "\n",
      " Confusion matrix: \n",
      " [[30570 10099]\n",
      " [ 5280 25685]]\n",
      "F1 Score: 0.7695995445624654\n",
      "Accuracy: 0.7853114442862328\n",
      "Precision: 0.8294849023090586\n",
      "Recall: 0.717778895595797\n",
      "ROC AUC: 0.7852492804338819\n",
      "Epoch 59 | Train Loss 0.5512692639870304\n"
     ]
    },
    {
     "name": "stderr",
     "output_type": "stream",
     "text": [
      "100%|██████████| 560/560 [01:37<00:00,  5.72it/s]\n"
     ]
    },
    {
     "name": "stdout",
     "output_type": "stream",
     "text": [
      "\n",
      " Confusion matrix: \n",
      " [[30515 10091]\n",
      " [ 5335 25693]]\n",
      "F1 Score: 0.7691133329342035\n",
      "Accuracy: 0.7846553312672753\n",
      "Precision: 0.8280585277813588\n",
      "Recall: 0.7180024591996423\n",
      "ROC AUC: 0.784593977159096\n",
      "Epoch 60 | Train Loss 0.5496568365288632\n",
      "[[0.29721817]\n",
      " [0.26085374]\n",
      " [0.26291174]\n",
      " [0.29120377]\n",
      " [0.46123722]\n",
      " [0.23481752]\n",
      " [0.27724195]\n",
      " [0.5840735 ]\n",
      " [0.3094058 ]\n",
      " [0.26524213]]\n",
      "[0. 0. 0. 0. 0. 0. 0. 1. 0. 0.]\n",
      "[0 0 0 0 0 0 0 1 0 0]\n",
      "\n",
      " Confusion matrix: \n",
      " [[3471   70]\n",
      " [ 363   95]]\n",
      "F1 Score: 0.3049759229534511\n",
      "Accuracy: 0.8917229307326832\n",
      "Precision: 0.2074235807860262\n",
      "Recall: 0.5757575757575758\n",
      "ROC AUC: 0.7405391947645468\n",
      "Epoch 60 | Test Loss 0.4492830475792289\n"
     ]
    },
    {
     "name": "stderr",
     "output_type": "stream",
     "text": [
      "100%|██████████| 560/560 [01:37<00:00,  5.73it/s]\n"
     ]
    },
    {
     "name": "stdout",
     "output_type": "stream",
     "text": [
      "\n",
      " Confusion matrix: \n",
      " [[30422 10074]\n",
      " [ 5428 25710]]\n",
      "F1 Score: 0.7683571919548131\n",
      "Accuracy: 0.7835943825557696\n",
      "Precision: 0.8256792343760035\n",
      "Recall: 0.7184775318578136\n",
      "ROC AUC: 0.7835344423584745\n",
      "Epoch 61 | Train Loss 0.5521291005824294\n"
     ]
    },
    {
     "name": "stderr",
     "output_type": "stream",
     "text": [
      "100%|██████████| 560/560 [01:38<00:00,  5.70it/s]\n"
     ]
    },
    {
     "name": "stdout",
     "output_type": "stream",
     "text": [
      "\n",
      " Confusion matrix: \n",
      " [[30572 10061]\n",
      " [ 5278 25723]]\n",
      "F1 Score: 0.770322677247885\n",
      "Accuracy: 0.78586983834492\n",
      "Precision: 0.8297474275023387\n",
      "Recall: 0.7188408227140621\n",
      "ROC AUC: 0.7858081379958037\n",
      "Epoch 62 | Train Loss 0.550973123258778\n"
     ]
    },
    {
     "name": "stderr",
     "output_type": "stream",
     "text": [
      "100%|██████████| 560/560 [01:37<00:00,  5.73it/s]\n"
     ]
    },
    {
     "name": "stdout",
     "output_type": "stream",
     "text": [
      "\n",
      " Confusion matrix: \n",
      " [[30510 10094]\n",
      " [ 5340 25690]]\n",
      "F1 Score: 0.7690005088753854\n",
      "Accuracy: 0.7845436524555379\n",
      "Precision: 0.8279084756687077\n",
      "Recall: 0.7179186228482003\n",
      "ROC AUC: 0.7844823239764013\n",
      "Epoch 63 | Train Loss 0.5500674513833863\n"
     ]
    },
    {
     "name": "stderr",
     "output_type": "stream",
     "text": [
      "100%|██████████| 560/560 [01:37<00:00,  5.76it/s]\n"
     ]
    },
    {
     "name": "stdout",
     "output_type": "stream",
     "text": [
      "\n",
      " Confusion matrix: \n",
      " [[30496 10013]\n",
      " [ 5354 25771]]\n",
      "F1 Score: 0.7703298509916453\n",
      "Accuracy: 0.785478962503839\n",
      "Precision: 0.8279839357429719\n",
      "Recall: 0.7201822043371339\n",
      "ROC AUC: 0.7854188567013424\n",
      "Epoch 64 | Train Loss 0.5493095126003027\n"
     ]
    },
    {
     "name": "stderr",
     "output_type": "stream",
     "text": [
      "100%|██████████| 560/560 [01:38<00:00,  5.70it/s]\n"
     ]
    },
    {
     "name": "stdout",
     "output_type": "stream",
     "text": [
      "\n",
      " Confusion matrix: \n",
      " [[30502  9976]\n",
      " [ 5348 25808]]\n",
      "F1 Score: 0.7710785778308933\n",
      "Accuracy: 0.7860792361169278\n",
      "Precision: 0.8283476697907305\n",
      "Recall: 0.7212161860049184\n",
      "ROC AUC: 0.7860195295436029\n",
      "Epoch 65 | Train Loss 0.5482909357973508\n",
      "[[0.26764745]\n",
      " [0.23983447]\n",
      " [0.3494339 ]\n",
      " [0.32151377]\n",
      " [0.36064622]\n",
      " [0.2283736 ]\n",
      " [0.55152625]\n",
      " [0.32120264]\n",
      " [0.26624736]\n",
      " [0.25665957]]\n",
      "[0. 0. 0. 0. 0. 0. 1. 0. 0. 0.]\n",
      "[0 0 0 0 0 0 0 0 0 0]\n",
      "\n",
      " Confusion matrix: \n",
      " [[3469   66]\n",
      " [ 365   99]]\n",
      "F1 Score: 0.314785373608903\n",
      "Accuracy: 0.892223055763941\n",
      "Precision: 0.21336206896551724\n",
      "Recall: 0.6\n",
      "ROC AUC: 0.7523995826812729\n",
      "Epoch 65 | Test Loss 0.45297276973724365\n"
     ]
    },
    {
     "name": "stderr",
     "output_type": "stream",
     "text": [
      "100%|██████████| 560/560 [01:38<00:00,  5.71it/s]\n"
     ]
    },
    {
     "name": "stdout",
     "output_type": "stream",
     "text": [
      "\n",
      " Confusion matrix: \n",
      " [[30475 10003]\n",
      " [ 5375 25781]]\n",
      "F1 Score: 0.7702718852703914\n",
      "Accuracy: 0.7853254041377\n",
      "Precision: 0.8274810630376171\n",
      "Recall: 0.7204616588419406\n",
      "ROC AUC: 0.785265696924457\n",
      "Epoch 66 | Train Loss 0.5514601227960416\n"
     ]
    },
    {
     "name": "stderr",
     "output_type": "stream",
     "text": [
      "100%|██████████| 560/560 [01:38<00:00,  5.67it/s]\n"
     ]
    },
    {
     "name": "stdout",
     "output_type": "stream",
     "text": [
      "\n",
      " Confusion matrix: \n",
      " [[30481 10019]\n",
      " [ 5369 25765]]\n",
      "F1 Score: 0.7700469230999134\n",
      "Accuracy: 0.7851858056230282\n",
      "Precision: 0.827551872550909\n",
      "Recall: 0.72001453163425\n",
      "ROC AUC: 0.78512581532898\n",
      "Epoch 67 | Train Loss 0.5515627661453826\n"
     ]
    },
    {
     "name": "stderr",
     "output_type": "stream",
     "text": [
      "100%|██████████| 560/560 [01:38<00:00,  5.69it/s]\n"
     ]
    },
    {
     "name": "stdout",
     "output_type": "stream",
     "text": [
      "\n",
      " Confusion matrix: \n",
      " [[30579 10103]\n",
      " [ 5271 25681]]\n",
      "F1 Score: 0.7696295852313594\n",
      "Accuracy: 0.7853812435435686\n",
      "Precision: 0.8297040578960971\n",
      "Recall: 0.7176671137938744\n",
      "ROC AUC: 0.7853189125454728\n",
      "Epoch 68 | Train Loss 0.5486488051712513\n"
     ]
    },
    {
     "name": "stderr",
     "output_type": "stream",
     "text": [
      "100%|██████████| 560/560 [01:38<00:00,  5.67it/s]\n"
     ]
    },
    {
     "name": "stdout",
     "output_type": "stream",
     "text": [
      "\n",
      " Confusion matrix: \n",
      " [[30506 10034]\n",
      " [ 5344 25750]]\n",
      "F1 Score: 0.7700589132450133\n",
      "Accuracy: 0.7853254041377\n",
      "Precision: 0.8281340451534058\n",
      "Recall: 0.71959534987704\n",
      "ROC AUC: 0.7852648994852425\n",
      "Epoch 69 | Train Loss 0.5506574095359871\n"
     ]
    },
    {
     "name": "stderr",
     "output_type": "stream",
     "text": [
      "100%|██████████| 560/560 [01:38<00:00,  5.71it/s]\n"
     ]
    },
    {
     "name": "stdout",
     "output_type": "stream",
     "text": [
      "\n",
      " Confusion matrix: \n",
      " [[30495 10057]\n",
      " [ 5355 25727]]\n",
      "F1 Score: 0.7695091675889092\n",
      "Accuracy: 0.7848507691878158\n",
      "Precision: 0.8277137893314459\n",
      "Recall: 0.7189526045159848\n",
      "ROC AUC: 0.7847901097893731\n",
      "Epoch 70 | Train Loss 0.5508694184145757\n",
      "[[0.22228761]\n",
      " [0.28930438]\n",
      " [0.2503531 ]\n",
      " [0.2716566 ]\n",
      " [0.32996383]\n",
      " [0.27446592]\n",
      " [0.27809206]\n",
      " [0.2652328 ]\n",
      " [0.25029024]\n",
      " [0.31403083]]\n",
      "[0. 0. 0. 0. 0. 0. 0. 0. 0. 0.]\n",
      "[0 0 0 0 0 0 0 0 0 0]\n",
      "\n",
      " Confusion matrix: \n",
      " [[3456   66]\n",
      " [ 378   99]]\n",
      "F1 Score: 0.308411214953271\n",
      "Accuracy: 0.8889722430607652\n",
      "Precision: 0.20754716981132076\n",
      "Recall: 0.6\n",
      "ROC AUC: 0.7507042253521127\n",
      "Epoch 70 | Test Loss 0.4549055593088269\n"
     ]
    },
    {
     "name": "stderr",
     "output_type": "stream",
     "text": [
      "100%|██████████| 560/560 [01:37<00:00,  5.73it/s]\n"
     ]
    },
    {
     "name": "stdout",
     "output_type": "stream",
     "text": [
      "\n",
      " Confusion matrix: \n",
      " [[30649  9966]\n",
      " [ 5201 25818]]\n",
      "F1 Score: 0.7729592982351091\n",
      "Accuracy: 0.788270932797275\n",
      "Precision: 0.8323285728102131\n",
      "Recall: 0.721495640509725\n",
      "ROC AUC: 0.788209466001027\n",
      "Epoch 71 | Train Loss 0.5480258309947593\n"
     ]
    },
    {
     "name": "stderr",
     "output_type": "stream",
     "text": [
      "100%|██████████| 560/560 [01:39<00:00,  5.65it/s]\n"
     ]
    },
    {
     "name": "stdout",
     "output_type": "stream",
     "text": [
      "\n",
      " Confusion matrix: \n",
      " [[30474 10041]\n",
      " [ 5376 25743]]\n",
      "F1 Score: 0.7695619030536748\n",
      "Accuracy: 0.78478096993048\n",
      "Precision: 0.8272438060348983\n",
      "Recall: 0.7193997317236754\n",
      "ROC AUC: 0.7847207863639298\n",
      "Epoch 72 | Train Loss 0.5495858601693596\n"
     ]
    },
    {
     "name": "stderr",
     "output_type": "stream",
     "text": [
      "100%|██████████| 560/560 [01:38<00:00,  5.70it/s]\n"
     ]
    },
    {
     "name": "stdout",
     "output_type": "stream",
     "text": [
      "\n",
      " Confusion matrix: \n",
      " [[30582  9993]\n",
      " [ 5268 25791]]\n",
      "F1 Score: 0.7716888829047169\n",
      "Accuracy: 0.7869587067593601\n",
      "Precision: 0.830387327344731\n",
      "Recall: 0.7207411133467472\n",
      "ROC AUC: 0.7868977533260932\n",
      "Epoch 73 | Train Loss 0.5498270055545228\n"
     ]
    },
    {
     "name": "stderr",
     "output_type": "stream",
     "text": [
      "100%|██████████| 560/560 [01:37<00:00,  5.75it/s]\n"
     ]
    },
    {
     "name": "stdout",
     "output_type": "stream",
     "text": [
      "\n",
      " Confusion matrix: \n",
      " [[30402 10071]\n",
      " [ 5448 25713]]\n",
      "F1 Score: 0.7681828366569572\n",
      "Accuracy: 0.7833570650808276\n",
      "Precision: 0.8251660729758352\n",
      "Recall: 0.7185613682092555\n",
      "ROC AUC: 0.7832974205063014\n",
      "Epoch 74 | Train Loss 0.5531993744096586\n"
     ]
    },
    {
     "name": "stderr",
     "output_type": "stream",
     "text": [
      "100%|██████████| 560/560 [01:37<00:00,  5.74it/s]\n"
     ]
    },
    {
     "name": "stdout",
     "output_type": "stream",
     "text": [
      "\n",
      " Confusion matrix: \n",
      " [[30469 10060]\n",
      " [ 5381 25724]]\n",
      "F1 Score: 0.7691548685135075\n",
      "Accuracy: 0.7844459334952676\n",
      "Precision: 0.8270053046134062\n",
      "Recall: 0.7188687681645428\n",
      "ROC AUC: 0.7843855695773899\n",
      "Epoch 75 | Train Loss 0.5510078073612281\n",
      "[[0.6984431 ]\n",
      " [0.2922964 ]\n",
      " [0.27409837]\n",
      " [0.23814243]\n",
      " [0.31651536]\n",
      " [0.26561236]\n",
      " [0.541017  ]\n",
      " [0.34580812]\n",
      " [0.2726796 ]\n",
      " [0.27322045]]\n",
      "[1. 0. 0. 0. 0. 0. 1. 0. 0. 0.]\n",
      "[0 0 0 0 0 0 0 0 0 0]\n",
      "\n",
      " Confusion matrix: \n",
      " [[3467   66]\n",
      " [ 367   99]]\n",
      "F1 Score: 0.3137876386687797\n",
      "Accuracy: 0.8917229307326832\n",
      "Precision: 0.21244635193133046\n",
      "Recall: 0.6\n",
      "ROC AUC: 0.7521387584767867\n",
      "Epoch 75 | Test Loss 0.44891258142888546\n"
     ]
    },
    {
     "name": "stderr",
     "output_type": "stream",
     "text": [
      "100%|██████████| 560/560 [01:37<00:00,  5.73it/s]\n"
     ]
    },
    {
     "name": "stdout",
     "output_type": "stream",
     "text": [
      "\n",
      " Confusion matrix: \n",
      " [[30483 10094]\n",
      " [ 5367 25690]]\n",
      "F1 Score: 0.7686898759743271\n",
      "Accuracy: 0.784166736465924\n",
      "Precision: 0.8271887175193998\n",
      "Recall: 0.7179186228482003\n",
      "ROC AUC: 0.7841057549387445\n",
      "Epoch 76 | Train Loss 0.5509337021836213\n"
     ]
    },
    {
     "name": "stderr",
     "output_type": "stream",
     "text": [
      "100%|██████████| 560/560 [01:37<00:00,  5.73it/s]\n"
     ]
    },
    {
     "name": "stdout",
     "output_type": "stream",
     "text": [
      "\n",
      " Confusion matrix: \n",
      " [[30516 10107]\n",
      " [ 5334 25677]]\n",
      "F1 Score: 0.768830002245677\n",
      "Accuracy: 0.7844459334952676\n",
      "Precision: 0.8279965173648061\n",
      "Recall: 0.7175553319919518\n",
      "ROC AUC: 0.7843843605566453\n",
      "Epoch 77 | Train Loss 0.5488600539309638\n"
     ]
    },
    {
     "name": "stderr",
     "output_type": "stream",
     "text": [
      "100%|██████████| 560/560 [01:37<00:00,  5.74it/s]\n"
     ]
    },
    {
     "name": "stdout",
     "output_type": "stream",
     "text": [
      "\n",
      " Confusion matrix: \n",
      " [[30610 10020]\n",
      " [ 5240 25764]]\n",
      "F1 Score: 0.7715158411690722\n",
      "Accuracy: 0.7869726666108272\n",
      "Precision: 0.830989549735518\n",
      "Recall: 0.7199865861837693\n",
      "ROC AUC: 0.7869110057836559\n",
      "Epoch 78 | Train Loss 0.5484156418059554\n"
     ]
    },
    {
     "name": "stderr",
     "output_type": "stream",
     "text": [
      "100%|██████████| 560/560 [01:37<00:00,  5.76it/s]\n"
     ]
    },
    {
     "name": "stdout",
     "output_type": "stream",
     "text": [
      "\n",
      " Confusion matrix: \n",
      " [[30555 10055]\n",
      " [ 5295 25729]]\n",
      "F1 Score: 0.7702370973536103\n",
      "Accuracy: 0.785716279978781\n",
      "Precision: 0.8293256833419288\n",
      "Recall: 0.7190084954169461\n",
      "ROC AUC: 0.7856548753235358\n",
      "Epoch 79 | Train Loss 0.5495658811713968\n"
     ]
    },
    {
     "name": "stderr",
     "output_type": "stream",
     "text": [
      "100%|██████████| 560/560 [01:37<00:00,  5.74it/s]\n"
     ]
    },
    {
     "name": "stdout",
     "output_type": "stream",
     "text": [
      "\n",
      " Confusion matrix: \n",
      " [[30441  9986]\n",
      " [ 5409 25798]]\n",
      "F1 Score: 0.7701930110014777\n",
      "Accuracy: 0.7850880866627579\n",
      "Precision: 0.8266735027397699\n",
      "Recall: 0.7209367315001117\n",
      "ROC AUC: 0.7850290352061228\n",
      "Epoch 80 | Train Loss 0.5494338637483972\n",
      "[[0.28365633]\n",
      " [0.27777058]\n",
      " [0.2925246 ]\n",
      " [0.33510846]\n",
      " [0.2547957 ]\n",
      " [0.28727233]\n",
      " [0.26458195]\n",
      " [0.27102906]\n",
      " [0.25077853]\n",
      " [0.24966416]]\n",
      "[0. 0. 0. 0. 0. 0. 0. 0. 0. 0.]\n",
      "[0 0 0 0 0 0 0 0 0 0]\n",
      "\n",
      " Confusion matrix: \n",
      " [[3464   70]\n",
      " [ 370   95]]\n",
      "F1 Score: 0.30158730158730157\n",
      "Accuracy: 0.8899724931232809\n",
      "Precision: 0.20430107526881722\n",
      "Recall: 0.5757575757575758\n",
      "ROC AUC: 0.7396263100488453\n",
      "Epoch 80 | Test Loss 0.45216050185263157\n"
     ]
    },
    {
     "name": "stderr",
     "output_type": "stream",
     "text": [
      "100%|██████████| 560/560 [01:37<00:00,  5.74it/s]\n"
     ]
    },
    {
     "name": "stdout",
     "output_type": "stream",
     "text": [
      "\n",
      " Confusion matrix: \n",
      " [[30595 10062]\n",
      " [ 5255 25722]]\n",
      "F1 Score: 0.7705696439538053\n",
      "Accuracy: 0.786176955077198\n",
      "Precision: 0.8303580075539917\n",
      "Recall: 0.7188128772635815\n",
      "ROC AUC: 0.7861149463026416\n",
      "Epoch 81 | Train Loss 0.5505534761186157\n"
     ]
    },
    {
     "name": "stderr",
     "output_type": "stream",
     "text": [
      "100%|██████████| 560/560 [01:37<00:00,  5.74it/s]\n"
     ]
    },
    {
     "name": "stdout",
     "output_type": "stream",
     "text": [
      "\n",
      " Confusion matrix: \n",
      " [[30428 10036]\n",
      " [ 5422 25748]]\n",
      "F1 Score: 0.7691250709442304\n",
      "Accuracy: 0.7842086160203255\n",
      "Precision: 0.8260506897658004\n",
      "Recall: 0.7195394589760787\n",
      "ROC AUC: 0.7841490879259752\n",
      "Epoch 82 | Train Loss 0.5521148018006767\n"
     ]
    },
    {
     "name": "stderr",
     "output_type": "stream",
     "text": [
      "100%|██████████| 560/560 [01:37<00:00,  5.74it/s]\n"
     ]
    },
    {
     "name": "stdout",
     "output_type": "stream",
     "text": [
      "\n",
      " Confusion matrix: \n",
      " [[30493 10049]\n",
      " [ 5357 25735]]\n",
      "F1 Score: 0.7696333512769903\n",
      "Accuracy: 0.7849345282966189\n",
      "Precision: 0.8277048758523092\n",
      "Recall: 0.7191761681198301\n",
      "ROC AUC: 0.7848739975885064\n",
      "Epoch 83 | Train Loss 0.5501878654318196\n"
     ]
    },
    {
     "name": "stderr",
     "output_type": "stream",
     "text": [
      "100%|██████████| 560/560 [01:37<00:00,  5.75it/s]\n"
     ]
    },
    {
     "name": "stdout",
     "output_type": "stream",
     "text": [
      "\n",
      " Confusion matrix: \n",
      " [[30604 10082]\n",
      " [ 5246 25702]]\n",
      "F1 Score: 0.770305101001019\n",
      "Accuracy: 0.786023396711059\n",
      "Precision: 0.8304898539485589\n",
      "Recall: 0.7182539682539683\n",
      "ROC AUC: 0.7859610148103873\n",
      "Epoch 84 | Train Loss 0.547743440845183\n"
     ]
    },
    {
     "name": "stderr",
     "output_type": "stream",
     "text": [
      "100%|██████████| 560/560 [01:37<00:00,  5.76it/s]\n"
     ]
    },
    {
     "name": "stdout",
     "output_type": "stream",
     "text": [
      "\n",
      " Confusion matrix: \n",
      " [[30501 10007]\n",
      " [ 5349 25777]]\n",
      "F1 Score: 0.7704976834553878\n",
      "Accuracy: 0.7856325208699779\n",
      "Precision: 0.8281500995951937\n",
      "Recall: 0.7203498770400178\n",
      "ROC AUC: 0.7855724280597579\n",
      "Epoch 85 | Train Loss 0.5506639946252108\n",
      "[[0.2352639 ]\n",
      " [0.30777156]\n",
      " [0.2723292 ]\n",
      " [0.26360646]\n",
      " [0.27923754]\n",
      " [0.28226396]\n",
      " [0.30452266]\n",
      " [0.27554086]\n",
      " [0.3331096 ]\n",
      " [0.25699633]]\n",
      "[0. 0. 0. 0. 0. 0. 0. 0. 0. 0.]\n",
      "[0 0 0 0 0 0 0 0 0 0]\n",
      "\n",
      " Confusion matrix: \n",
      " [[3489   72]\n",
      " [ 345   93]]\n",
      "F1 Score: 0.30845771144278605\n",
      "Accuracy: 0.8957239309827457\n",
      "Precision: 0.21232876712328766\n",
      "Recall: 0.5636363636363636\n",
      "ROC AUC: 0.7368260065443164\n",
      "Epoch 85 | Test Loss 0.44347344525158405\n"
     ]
    },
    {
     "name": "stderr",
     "output_type": "stream",
     "text": [
      "100%|██████████| 560/560 [01:37<00:00,  5.76it/s]\n"
     ]
    },
    {
     "name": "stdout",
     "output_type": "stream",
     "text": [
      "\n",
      " Confusion matrix: \n",
      " [[30381  9992]\n",
      " [ 5469 25792]]\n",
      "F1 Score: 0.7693936908046834\n",
      "Accuracy: 0.784166736465924\n",
      "Precision: 0.8250535811394389\n",
      "Recall: 0.7207690587972279\n",
      "ROC AUC: 0.7841083787709988\n",
      "Epoch 86 | Train Loss 0.5495618290134838\n"
     ]
    },
    {
     "name": "stderr",
     "output_type": "stream",
     "text": [
      "100%|██████████| 560/560 [01:37<00:00,  5.73it/s]\n"
     ]
    },
    {
     "name": "stdout",
     "output_type": "stream",
     "text": [
      "\n",
      " Confusion matrix: \n",
      " [[30556 10019]\n",
      " [ 5294 25765]]\n",
      "F1 Score: 0.770910940562213\n",
      "Accuracy: 0.7862327944830667\n",
      "Precision: 0.8295502108889533\n",
      "Recall: 0.72001453163425\n",
      "ROC AUC: 0.7861718404335825\n",
      "Epoch 87 | Train Loss 0.5499480301248175\n"
     ]
    },
    {
     "name": "stderr",
     "output_type": "stream",
     "text": [
      "100%|██████████| 560/560 [01:37<00:00,  5.73it/s]\n"
     ]
    },
    {
     "name": "stdout",
     "output_type": "stream",
     "text": [
      "\n",
      " Confusion matrix: \n",
      " [[30507 10016]\n",
      " [ 5343 25768]]\n",
      "F1 Score: 0.7704013752896329\n",
      "Accuracy: 0.7855906413155764\n",
      "Precision: 0.8282601009289319\n",
      "Recall: 0.7200983679856919\n",
      "ROC AUC: 0.7855303555409631\n",
      "Epoch 88 | Train Loss 0.5512986206582614\n"
     ]
    },
    {
     "name": "stderr",
     "output_type": "stream",
     "text": [
      "100%|██████████| 560/560 [01:37<00:00,  5.72it/s]\n"
     ]
    },
    {
     "name": "stdout",
     "output_type": "stream",
     "text": [
      "\n",
      " Confusion matrix: \n",
      " [[30490 10010]\n",
      " [ 5360 25774]]\n",
      "F1 Score: 0.7703159090229834\n",
      "Accuracy: 0.7854370829494374\n",
      "Precision: 0.8278409455900302\n",
      "Recall: 0.7202660406885759\n",
      "ROC AUC: 0.7853770928686952\n",
      "Epoch 89 | Train Loss 0.5500805592962674\n"
     ]
    },
    {
     "name": "stderr",
     "output_type": "stream",
     "text": [
      "100%|██████████| 560/560 [01:38<00:00,  5.71it/s]\n"
     ]
    },
    {
     "name": "stdout",
     "output_type": "stream",
     "text": [
      "\n",
      " Confusion matrix: \n",
      " [[30569 10094]\n",
      " [ 5281 25690]]\n",
      "F1 Score: 0.769680173769755\n",
      "Accuracy: 0.7853672836921015\n",
      "Precision: 0.8294856478641309\n",
      "Recall: 0.7179186228482003\n",
      "ROC AUC: 0.7853051970586886\n",
      "Epoch 90 | Train Loss 0.5494904692683901\n",
      "[[0.28348604]\n",
      " [0.26087883]\n",
      " [0.2594347 ]\n",
      " [0.27974582]\n",
      " [0.5833761 ]\n",
      " [0.27092022]\n",
      " [0.30158702]\n",
      " [0.30437577]\n",
      " [0.34200343]\n",
      " [0.27085686]]\n",
      "[0. 0. 0. 0. 1. 0. 0. 0. 0. 0.]\n",
      "[0 0 0 0 0 0 0 0 0 0]\n",
      "\n",
      " Confusion matrix: \n",
      " [[3455   65]\n",
      " [ 379  100]]\n",
      "F1 Score: 0.3105590062111801\n",
      "Accuracy: 0.8889722430607652\n",
      "Precision: 0.20876826722338204\n",
      "Recall: 0.6060606060606061\n",
      "ROC AUC: 0.7536041162801725\n",
      "Epoch 90 | Test Loss 0.4555145911872387\n"
     ]
    },
    {
     "name": "stderr",
     "output_type": "stream",
     "text": [
      "100%|██████████| 560/560 [01:37<00:00,  5.73it/s]\n"
     ]
    },
    {
     "name": "stdout",
     "output_type": "stream",
     "text": [
      "\n",
      " Confusion matrix: \n",
      " [[30590 10138]\n",
      " [ 5260 25646]]\n",
      "F1 Score: 0.7691108112160743\n",
      "Accuracy: 0.7850462071083564\n",
      "Precision: 0.829806510062771\n",
      "Recall: 0.7166890230270512\n",
      "ROC AUC: 0.7849832841774028\n",
      "Epoch 91 | Train Loss 0.5489280535706452\n"
     ]
    },
    {
     "name": "stderr",
     "output_type": "stream",
     "text": [
      "100%|██████████| 560/560 [01:37<00:00,  5.75it/s]\n"
     ]
    },
    {
     "name": "stdout",
     "output_type": "stream",
     "text": [
      "\n",
      " Confusion matrix: \n",
      " [[30438 10088]\n",
      " [ 5412 25696]]\n",
      "F1 Score: 0.7682832027746218\n",
      "Accuracy: 0.783622302258704\n",
      "Precision: 0.826025459688826\n",
      "Recall: 0.7180862955510843\n",
      "ROC AUC: 0.783561976227425\n",
      "Epoch 92 | Train Loss 0.550162607591067\n"
     ]
    },
    {
     "name": "stderr",
     "output_type": "stream",
     "text": [
      "100%|██████████| 560/560 [01:37<00:00,  5.73it/s]\n"
     ]
    },
    {
     "name": "stdout",
     "output_type": "stream",
     "text": [
      "\n",
      " Confusion matrix: \n",
      " [[30569 10006]\n",
      " [ 5281 25778]]\n",
      "F1 Score: 0.7712999117334649\n",
      "Accuracy: 0.7865957506212133\n",
      "Precision: 0.8299687691168421\n",
      "Recall: 0.7203778224904985\n",
      "ROC AUC: 0.7865347968798377\n",
      "Epoch 93 | Train Loss 0.548188713831561\n"
     ]
    },
    {
     "name": "stderr",
     "output_type": "stream",
     "text": [
      "100%|██████████| 560/560 [01:37<00:00,  5.73it/s]\n"
     ]
    },
    {
     "name": "stdout",
     "output_type": "stream",
     "text": [
      "\n",
      " Confusion matrix: \n",
      " [[30533 10093]\n",
      " [ 5317 25691]]\n",
      "F1 Score: 0.7692837465564739\n",
      "Accuracy: 0.7848786888907502\n",
      "Precision: 0.8285281217750258\n",
      "Recall: 0.717946568298681\n",
      "ROC AUC: 0.7848170777337198\n",
      "Epoch 94 | Train Loss 0.5500732033912624\n"
     ]
    },
    {
     "name": "stderr",
     "output_type": "stream",
     "text": [
      "100%|██████████| 560/560 [01:37<00:00,  5.72it/s]\n"
     ]
    },
    {
     "name": "stdout",
     "output_type": "stream",
     "text": [
      "\n",
      " Confusion matrix: \n",
      " [[30585  9963]\n",
      " [ 5265 25821]]\n",
      "F1 Score: 0.7722745625841184\n",
      "Accuracy: 0.787419381857777\n",
      "Precision: 0.8306311522872032\n",
      "Recall: 0.721579476861167\n",
      "ROC AUC: 0.7873587760874873\n",
      "Epoch 95 | Train Loss 0.5515597597828933\n",
      "[[0.30960014]\n",
      " [0.32022342]\n",
      " [0.36942342]\n",
      " [0.32655963]\n",
      " [0.28681222]\n",
      " [0.46808565]\n",
      " [0.536492  ]\n",
      " [0.25998577]\n",
      " [0.26697168]\n",
      " [0.30318084]]\n",
      "[0. 0. 0. 0. 0. 0. 1. 0. 0. 0.]\n",
      "[0 0 0 0 0 0 0 0 0 0]\n",
      "\n",
      " Confusion matrix: \n",
      " [[3488   73]\n",
      " [ 346   92]]\n",
      "F1 Score: 0.30514096185737977\n",
      "Accuracy: 0.8952238059514879\n",
      "Precision: 0.2100456621004566\n",
      "Recall: 0.5575757575757576\n",
      "ROC AUC: 0.7336652914117702\n",
      "Epoch 95 | Test Loss 0.4446164984256029\n",
      "Number of parameters: 365633\n"
     ]
    },
    {
     "name": "stderr",
     "output_type": "stream",
     "text": [
      "100%|██████████| 560/560 [01:38<00:00,  5.70it/s]\n"
     ]
    },
    {
     "name": "stdout",
     "output_type": "stream",
     "text": [
      "\n",
      " Confusion matrix: \n",
      " [[12173  8135]\n",
      " [23677 27649]]\n",
      "F1 Score: 0.6348065664102858\n",
      "Accuracy: 0.5559092051260575\n",
      "Precision: 0.5386938393796517\n",
      "Recall: 0.7726637603398167\n",
      "ROC AUC: 0.556108728147593\n",
      "Epoch 0 | Train Loss 0.7605644110058035\n",
      "[[0.4291585 ]\n",
      " [0.44790593]\n",
      " [0.43912277]\n",
      " [0.4295132 ]\n",
      " [0.42388868]\n",
      " [0.41957432]\n",
      " [0.43210313]\n",
      " [0.4487078 ]\n",
      " [0.42573762]\n",
      " [0.43476653]]\n",
      "[0. 0. 0. 0. 0. 0. 0. 0. 0. 0.]\n",
      "[0 0 0 0 0 0 0 0 0 0]\n",
      "\n",
      " Confusion matrix: \n",
      " [[3034   60]\n",
      " [ 800  105]]\n",
      "F1 Score: 0.19626168224299065\n",
      "Accuracy: 0.7849462365591398\n",
      "Precision: 0.11602209944751381\n",
      "Recall: 0.6363636363636364\n",
      "ROC AUC: 0.7138521363873476\n",
      "Epoch 0 | Test Loss 0.6519604697823524\n"
     ]
    },
    {
     "name": "stderr",
     "output_type": "stream",
     "text": [
      "2024/05/05 01:47:24 WARNING mlflow.utils.environment: Encountered an unexpected error while inferring pip requirements (model URI: C:\\Users\\User\\AppData\\Local\\Temp\\tmp25m430nn\\model\\data, flavor: pytorch). Fall back to return ['torch==2.2.1', 'cloudpickle==2.2.1']. Set logging level to DEBUG to see the full traceback. \n",
      "100%|██████████| 560/560 [01:38<00:00,  5.71it/s]\n"
     ]
    },
    {
     "name": "stdout",
     "output_type": "stream",
     "text": [
      "\n",
      " Confusion matrix: \n",
      " [[26007 14398]\n",
      " [ 9843 21386]]\n",
      "F1 Score: 0.6382642173906554\n",
      "Accuracy: 0.6615992405840802\n",
      "Precision: 0.6848121937942298\n",
      "Recall: 0.5976414039794321\n",
      "ROC AUC: 0.6615403672616825\n",
      "Epoch 1 | Train Loss 0.6981190351503236\n"
     ]
    },
    {
     "name": "stderr",
     "output_type": "stream",
     "text": [
      "100%|██████████| 560/560 [01:38<00:00,  5.69it/s]\n"
     ]
    },
    {
     "name": "stdout",
     "output_type": "stream",
     "text": [
      "\n",
      " Confusion matrix: \n",
      " [[29544 15655]\n",
      " [ 6306 20129]]\n",
      "F1 Score: 0.6470370787058616\n",
      "Accuracy: 0.6934277019292515\n",
      "Precision: 0.7614526196330622\n",
      "Recall: 0.5625139727252403\n",
      "ROC AUC: 0.6933071955676411\n",
      "Epoch 2 | Train Loss 0.6728341448519911\n"
     ]
    },
    {
     "name": "stderr",
     "output_type": "stream",
     "text": [
      "100%|██████████| 560/560 [01:38<00:00,  5.68it/s]\n"
     ]
    },
    {
     "name": "stdout",
     "output_type": "stream",
     "text": [
      "\n",
      " Confusion matrix: \n",
      " [[30394 15343]\n",
      " [ 5456 20441]]\n",
      "F1 Score: 0.6627972957636874\n",
      "Accuracy: 0.7096490493341151\n",
      "Precision: 0.7893192261651929\n",
      "Recall: 0.5712329532752068\n",
      "ROC AUC: 0.7095216370281195\n",
      "Epoch 3 | Train Loss 0.6522102653980255\n"
     ]
    },
    {
     "name": "stderr",
     "output_type": "stream",
     "text": [
      "100%|██████████| 560/560 [01:38<00:00,  5.70it/s]\n"
     ]
    },
    {
     "name": "stdout",
     "output_type": "stream",
     "text": [
      "\n",
      " Confusion matrix: \n",
      " [[30079 14136]\n",
      " [ 5771 21648]]\n",
      "F1 Score: 0.6850307738556715\n",
      "Accuracy: 0.72210123684284\n",
      "Precision: 0.7895255115066195\n",
      "Recall: 0.6049631120053656\n",
      "ROC AUC: 0.7219934109538683\n",
      "Epoch 4 | Train Loss 0.6390275449625084\n"
     ]
    },
    {
     "name": "stderr",
     "output_type": "stream",
     "text": [
      "100%|██████████| 560/560 [01:38<00:00,  5.68it/s]\n"
     ]
    },
    {
     "name": "stdout",
     "output_type": "stream",
     "text": [
      "\n",
      " Confusion matrix: \n",
      " [[30464 13869]\n",
      " [ 5386 21915]]\n",
      "F1 Score: 0.6947768883252754\n",
      "Accuracy: 0.7312030599994416\n",
      "Precision: 0.8027178491630343\n",
      "Recall: 0.6124245472837022\n",
      "ROC AUC: 0.7310937241299962\n",
      "Epoch 5 | Train Loss 0.6306919171341828\n",
      "[[0.37813586]\n",
      " [0.35178256]\n",
      " [0.35346922]\n",
      " [0.36940473]\n",
      " [0.42368865]\n",
      " [0.36535877]\n",
      " [0.38332084]\n",
      " [0.44344226]\n",
      " [0.35580766]\n",
      " [0.355842  ]]\n",
      "[0. 0. 0. 0. 0. 0. 0. 0. 0. 0.]\n",
      "[0 0 0 1 1 0 0 0 0 0]\n",
      "\n",
      " Confusion matrix: \n",
      " [[3551   71]\n",
      " [ 283   94]]\n",
      "F1 Score: 0.34686346863468637\n",
      "Accuracy: 0.9114778694673669\n",
      "Precision: 0.2493368700265252\n",
      "Recall: 0.5696969696969697\n",
      "ROC AUC: 0.747941859913691\n",
      "Epoch 5 | Test Loss 0.5271926335990429\n"
     ]
    },
    {
     "name": "stderr",
     "output_type": "stream",
     "text": [
      "2024/05/05 01:55:46 WARNING mlflow.utils.environment: Encountered an unexpected error while inferring pip requirements (model URI: C:\\Users\\User\\AppData\\Local\\Temp\\tmphleobhvj\\model\\data, flavor: pytorch). Fall back to return ['torch==2.2.1', 'cloudpickle==2.2.1']. Set logging level to DEBUG to see the full traceback. \n",
      "100%|██████████| 560/560 [01:38<00:00,  5.69it/s]\n"
     ]
    },
    {
     "name": "stdout",
     "output_type": "stream",
     "text": [
      "\n",
      " Confusion matrix: \n",
      " [[30718 13388]\n",
      " [ 5132 22396]]\n",
      "F1 Score: 0.7074804144553954\n",
      "Accuracy: 0.7414635508278192\n",
      "Precision: 0.8135716361522813\n",
      "Recall: 0.6258663089649005\n",
      "ROC AUC: 0.7413571433248491\n",
      "Epoch 6 | Train Loss 0.6191110864281655\n"
     ]
    },
    {
     "name": "stderr",
     "output_type": "stream",
     "text": [
      "100%|██████████| 560/560 [01:39<00:00,  5.63it/s]\n"
     ]
    },
    {
     "name": "stdout",
     "output_type": "stream",
     "text": [
      "\n",
      " Confusion matrix: \n",
      " [[30654 13318]\n",
      " [ 5196 22466]]\n",
      "F1 Score: 0.708192793871954\n",
      "Accuracy: 0.7415473099366223\n",
      "Precision: 0.8121610874123346\n",
      "Recall: 0.6278224904985469\n",
      "ROC AUC: 0.7414426260024115\n",
      "Epoch 7 | Train Loss 0.6143107357834067\n"
     ]
    },
    {
     "name": "stderr",
     "output_type": "stream",
     "text": [
      "100%|██████████| 560/560 [01:39<00:00,  5.65it/s]\n"
     ]
    },
    {
     "name": "stdout",
     "output_type": "stream",
     "text": [
      "\n",
      " Confusion matrix: \n",
      " [[30810 13149]\n",
      " [ 5040 22635]]\n",
      "F1 Score: 0.7133739895050348\n",
      "Accuracy: 0.7460842616634559\n",
      "Precision: 0.8178861788617886\n",
      "Recall: 0.6325452716297787\n",
      "ROC AUC: 0.7459797487856006\n",
      "Epoch 8 | Train Loss 0.6086201850324869\n"
     ]
    },
    {
     "name": "stderr",
     "output_type": "stream",
     "text": [
      "100%|██████████| 560/560 [01:39<00:00,  5.66it/s]\n"
     ]
    },
    {
     "name": "stdout",
     "output_type": "stream",
     "text": [
      "\n",
      " Confusion matrix: \n",
      " [[30800 12853]\n",
      " [ 5050 22931]]\n",
      "F1 Score: 0.7192346898768917\n",
      "Accuracy: 0.7500767791830695\n",
      "Precision: 0.8195203888352811\n",
      "Recall: 0.6408171249720546\n",
      "ROC AUC: 0.7499762054427916\n",
      "Epoch 9 | Train Loss 0.6012251947075129\n"
     ]
    },
    {
     "name": "stderr",
     "output_type": "stream",
     "text": [
      "100%|██████████| 560/560 [01:38<00:00,  5.67it/s]\n"
     ]
    },
    {
     "name": "stdout",
     "output_type": "stream",
     "text": [
      "\n",
      " Confusion matrix: \n",
      " [[31034 12941]\n",
      " [ 4816 22843]]\n",
      "F1 Score: 0.7201109657487822\n",
      "Accuracy: 0.7521149174972779\n",
      "Precision: 0.8258794605734119\n",
      "Recall: 0.6383579253297563\n",
      "ROC AUC: 0.7520102039480023\n",
      "Epoch 10 | Train Loss 0.5989042679114002\n",
      "[[0.3530358 ]\n",
      " [0.33204868]\n",
      " [0.3328964 ]\n",
      " [0.33222216]\n",
      " [0.3413985 ]\n",
      " [0.34474725]\n",
      " [0.33082455]\n",
      " [0.338528  ]\n",
      " [0.33288184]\n",
      " [0.33371305]]\n",
      "[0. 0. 0. 0. 0. 0. 0. 0. 0. 0.]\n",
      "[0 0 0 0 0 0 0 0 0 0]\n",
      "\n",
      " Confusion matrix: \n",
      " [[3539   66]\n",
      " [ 295   99]]\n",
      "F1 Score: 0.3542039355992845\n",
      "Accuracy: 0.9097274318579645\n",
      "Precision: 0.2512690355329949\n",
      "Recall: 0.6\n",
      "ROC AUC: 0.7615284298382892\n",
      "Epoch 10 | Test Loss 0.5013757972046733\n"
     ]
    },
    {
     "name": "stderr",
     "output_type": "stream",
     "text": [
      "2024/05/05 02:04:12 WARNING mlflow.utils.environment: Encountered an unexpected error while inferring pip requirements (model URI: C:\\Users\\User\\AppData\\Local\\Temp\\tmpn3gfzlw4\\model\\data, flavor: pytorch). Fall back to return ['torch==2.2.1', 'cloudpickle==2.2.1']. Set logging level to DEBUG to see the full traceback. \n",
      "100%|██████████| 560/560 [01:37<00:00,  5.72it/s]\n"
     ]
    },
    {
     "name": "stdout",
     "output_type": "stream",
     "text": [
      "\n",
      " Confusion matrix: \n",
      " [[30865 12701]\n",
      " [ 4985 23083]]\n",
      "F1 Score: 0.7230157238614295\n",
      "Accuracy: 0.7531060669514477\n",
      "Precision: 0.8223956106598261\n",
      "Recall: 0.6450648334451151\n",
      "ROC AUC: 0.7530066147699774\n",
      "Epoch 11 | Train Loss 0.5958809117121356\n"
     ]
    },
    {
     "name": "stderr",
     "output_type": "stream",
     "text": [
      "100%|██████████| 560/560 [01:38<00:00,  5.70it/s]\n"
     ]
    },
    {
     "name": "stdout",
     "output_type": "stream",
     "text": [
      "\n",
      " Confusion matrix: \n",
      " [[31102 12682]\n",
      " [ 4748 23102]]\n",
      "F1 Score: 0.7260898261935443\n",
      "Accuracy: 0.7566797889270458\n",
      "Precision: 0.8295152603231598\n",
      "Recall: 0.6455957970042477\n",
      "ROC AUC: 0.7565775358800876\n",
      "Epoch 12 | Train Loss 0.5917958983885391\n"
     ]
    },
    {
     "name": "stderr",
     "output_type": "stream",
     "text": [
      "100%|██████████| 560/560 [01:38<00:00,  5.70it/s]\n"
     ]
    },
    {
     "name": "stdout",
     "output_type": "stream",
     "text": [
      "\n",
      " Confusion matrix: \n",
      " [[31049 12457]\n",
      " [ 4801 23327]]\n",
      "F1 Score: 0.7299724621354363\n",
      "Accuracy: 0.7590808833794008\n",
      "Precision: 0.82931598407281\n",
      "Recall: 0.6518835233623966\n",
      "ROC AUC: 0.7589822079852431\n",
      "Epoch 13 | Train Loss 0.5899289591503994\n"
     ]
    },
    {
     "name": "stderr",
     "output_type": "stream",
     "text": [
      "100%|██████████| 560/560 [01:38<00:00,  5.68it/s]\n"
     ]
    },
    {
     "name": "stdout",
     "output_type": "stream",
     "text": [
      "\n",
      " Confusion matrix: \n",
      " [[31007 12415]\n",
      " [ 4843 23369]]\n",
      "F1 Score: 0.7303268954309644\n",
      "Accuracy: 0.7590808833794008\n",
      "Precision: 0.8283354600879058\n",
      "Recall: 0.6530572322825844\n",
      "ROC AUC: 0.7589832883867593\n",
      "Epoch 14 | Train Loss 0.5884565775947911\n"
     ]
    },
    {
     "name": "stderr",
     "output_type": "stream",
     "text": [
      "100%|██████████| 560/560 [01:38<00:00,  5.69it/s]\n"
     ]
    },
    {
     "name": "stdout",
     "output_type": "stream",
     "text": [
      "\n",
      " Confusion matrix: \n",
      " [[31114 12317]\n",
      " [ 4736 23467]]\n",
      "F1 Score: 0.7334927407129572\n",
      "Accuracy: 0.7619426529301728\n",
      "Precision: 0.8320746019926958\n",
      "Recall: 0.6557958864296892\n",
      "ROC AUC: 0.7618449446095445\n",
      "Epoch 15 | Train Loss 0.5845159211861236\n",
      "[[0.33186236]\n",
      " [0.34855855]\n",
      " [0.3247066 ]\n",
      " [0.32166007]\n",
      " [0.3194673 ]\n",
      " [0.31944424]\n",
      " [0.32879764]\n",
      " [0.33428884]\n",
      " [0.3191826 ]\n",
      " [0.31890705]]\n",
      "[0. 0. 0. 0. 0. 0. 0. 0. 0. 0.]\n",
      "[0 0 0 0 0 0 0 0 0 0]\n",
      "\n",
      " Confusion matrix: \n",
      " [[3576   70]\n",
      " [ 258   95]]\n",
      "F1 Score: 0.3667953667953668\n",
      "Accuracy: 0.9179794948737184\n",
      "Precision: 0.26912181303116145\n",
      "Recall: 0.5757575757575758\n",
      "ROC AUC: 0.7542324655000711\n",
      "Epoch 15 | Test Loss 0.48415232729166746\n"
     ]
    },
    {
     "name": "stderr",
     "output_type": "stream",
     "text": [
      "2024/05/05 02:12:34 WARNING mlflow.utils.environment: Encountered an unexpected error while inferring pip requirements (model URI: C:\\Users\\User\\AppData\\Local\\Temp\\tmp3q16_7rc\\model\\data, flavor: pytorch). Fall back to return ['torch==2.2.1', 'cloudpickle==2.2.1']. Set logging level to DEBUG to see the full traceback. \n",
      "100%|██████████| 560/560 [01:37<00:00,  5.74it/s]\n"
     ]
    },
    {
     "name": "stdout",
     "output_type": "stream",
     "text": [
      "\n",
      " Confusion matrix: \n",
      " [[31061 12461]\n",
      " [ 4789 23323]]\n",
      "F1 Score: 0.7300300488293476\n",
      "Accuracy: 0.7591925621911383\n",
      "Precision: 0.829645702902675\n",
      "Recall: 0.6517717415604739\n",
      "ROC AUC: 0.759093681101018\n",
      "Epoch 16 | Train Loss 0.5840588056083237\n"
     ]
    },
    {
     "name": "stderr",
     "output_type": "stream",
     "text": [
      "100%|██████████| 560/560 [01:38<00:00,  5.70it/s]\n"
     ]
    },
    {
     "name": "stdout",
     "output_type": "stream",
     "text": [
      "\n",
      " Confusion matrix: \n",
      " [[31153 12318]\n",
      " [ 4697 23466]]\n",
      "F1 Score: 0.7339202777299951\n",
      "Accuracy: 0.7624731272859256\n",
      "Precision: 0.8332208926605831\n",
      "Recall: 0.6557679409792085\n",
      "ROC AUC: 0.7623749049386976\n",
      "Epoch 17 | Train Loss 0.5827454633478607\n"
     ]
    },
    {
     "name": "stderr",
     "output_type": "stream",
     "text": [
      "100%|██████████| 560/560 [01:38<00:00,  5.68it/s]\n"
     ]
    },
    {
     "name": "stdout",
     "output_type": "stream",
     "text": [
      "\n",
      " Confusion matrix: \n",
      " [[31136 12328]\n",
      " [ 4714 23456]]\n",
      "F1 Score: 0.7335272226913093\n",
      "Accuracy: 0.7620962112963118\n",
      "Precision: 0.8326588569400071\n",
      "Recall: 0.6554884864744019\n",
      "ROC AUC: 0.7619980786625845\n",
      "Epoch 18 | Train Loss 0.5819345910634314\n"
     ]
    },
    {
     "name": "stderr",
     "output_type": "stream",
     "text": [
      "100%|██████████| 560/560 [01:37<00:00,  5.73it/s]\n"
     ]
    },
    {
     "name": "stdout",
     "output_type": "stream",
     "text": [
      "\n",
      " Confusion matrix: \n",
      " [[31159 12208]\n",
      " [ 4691 23576]]\n",
      "F1 Score: 0.736163369814679\n",
      "Accuracy: 0.7640924700561186\n",
      "Precision: 0.8340467683164113\n",
      "Recall: 0.6588419405320813\n",
      "ROC AUC: 0.7639955867235023\n",
      "Epoch 19 | Train Loss 0.5830669397754329\n"
     ]
    },
    {
     "name": "stderr",
     "output_type": "stream",
     "text": [
      "100%|██████████| 560/560 [01:38<00:00,  5.70it/s]\n"
     ]
    },
    {
     "name": "stdout",
     "output_type": "stream",
     "text": [
      "\n",
      " Confusion matrix: \n",
      " [[31141 12221]\n",
      " [ 4709 23563]]\n",
      "F1 Score: 0.7357000124890721\n",
      "Accuracy: 0.763659714660636\n",
      "Precision: 0.8334394453876627\n",
      "Recall: 0.6584786496758328\n",
      "ROC AUC: 0.7635628952702734\n",
      "Epoch 20 | Train Loss 0.5826963908970356\n",
      "[[0.37622455]\n",
      " [0.31504288]\n",
      " [0.38164502]\n",
      " [0.3362342 ]\n",
      " [0.41265997]\n",
      " [0.31558105]\n",
      " [0.31647468]\n",
      " [0.31936878]\n",
      " [0.3158683 ]\n",
      " [0.32778275]]\n",
      "[0. 0. 0. 0. 0. 0. 0. 0. 0. 0.]\n",
      "[0 0 0 0 0 0 0 0 0 0]\n",
      "\n",
      " Confusion matrix: \n",
      " [[3573   72]\n",
      " [ 261   93]]\n",
      "F1 Score: 0.3583815028901734\n",
      "Accuracy: 0.9167291822955739\n",
      "Precision: 0.2627118644067797\n",
      "Recall: 0.5636363636363636\n",
      "ROC AUC: 0.7477806231327357\n",
      "Epoch 20 | Test Loss 0.4795608352869749\n"
     ]
    },
    {
     "name": "stderr",
     "output_type": "stream",
     "text": [
      "2024/05/05 02:20:55 WARNING mlflow.utils.environment: Encountered an unexpected error while inferring pip requirements (model URI: C:\\Users\\User\\AppData\\Local\\Temp\\tmp0wrrbsdv\\model\\data, flavor: pytorch). Fall back to return ['torch==2.2.1', 'cloudpickle==2.2.1']. Set logging level to DEBUG to see the full traceback. \n",
      "100%|██████████| 560/560 [01:38<00:00,  5.71it/s]\n"
     ]
    },
    {
     "name": "stdout",
     "output_type": "stream",
     "text": [
      "\n",
      " Confusion matrix: \n",
      " [[31171 12296]\n",
      " [ 4679 23488]]\n",
      "F1 Score: 0.7345623993369923\n",
      "Accuracy: 0.7630315213446129\n",
      "Precision: 0.8338836226790215\n",
      "Recall: 0.6563827408897831\n",
      "ROC AUC: 0.7629333509190895\n",
      "Epoch 21 | Train Loss 0.5812604773789645\n"
     ]
    },
    {
     "name": "stderr",
     "output_type": "stream",
     "text": [
      "100%|██████████| 560/560 [01:38<00:00,  5.71it/s]\n"
     ]
    },
    {
     "name": "stdout",
     "output_type": "stream",
     "text": [
      "\n",
      " Confusion matrix: \n",
      " [[31158 12126]\n",
      " [ 4692 23658]]\n",
      "F1 Score: 0.7377677986715314\n",
      "Accuracy: 0.7652232180249602\n",
      "Precision: 0.8344973544973545\n",
      "Recall: 0.6611334674714956\n",
      "ROC AUC: 0.7651274031918149\n",
      "Epoch 22 | Train Loss 0.5788452461894069\n"
     ]
    },
    {
     "name": "stderr",
     "output_type": "stream",
     "text": [
      "100%|██████████| 560/560 [01:38<00:00,  5.71it/s]\n"
     ]
    },
    {
     "name": "stdout",
     "output_type": "stream",
     "text": [
      "\n",
      " Confusion matrix: \n",
      " [[31143 12101]\n",
      " [ 4707 23683]]\n",
      "F1 Score: 0.7380870757627699\n",
      "Accuracy: 0.765362816539632\n",
      "Precision: 0.834202183867559\n",
      "Recall: 0.6618321037335122\n",
      "ROC AUC: 0.7652675163019025\n",
      "Epoch 23 | Train Loss 0.5791187021349158\n"
     ]
    },
    {
     "name": "stderr",
     "output_type": "stream",
     "text": [
      "100%|██████████| 560/560 [01:37<00:00,  5.72it/s]\n"
     ]
    },
    {
     "name": "stdout",
     "output_type": "stream",
     "text": [
      "\n",
      " Confusion matrix: \n",
      " [[31118 12159]\n",
      " [ 4732 23625]]\n",
      "F1 Score: 0.7366582996835098\n",
      "Accuracy: 0.764204148867856\n",
      "Precision: 0.833127622809183\n",
      "Recall: 0.6602112676056338\n",
      "ROC AUC: 0.7641084232030958\n",
      "Epoch 24 | Train Loss 0.5828159089067153\n"
     ]
    },
    {
     "name": "stderr",
     "output_type": "stream",
     "text": [
      "100%|██████████| 560/560 [01:38<00:00,  5.70it/s]\n"
     ]
    },
    {
     "name": "stdout",
     "output_type": "stream",
     "text": [
      "\n",
      " Confusion matrix: \n",
      " [[31170 12179]\n",
      " [ 4680 23605]]\n",
      "F1 Score: 0.7368618208493968\n",
      "Accuracy: 0.7646508641148059\n",
      "Precision: 0.834541276294856\n",
      "Recall: 0.6596523585960206\n",
      "ROC AUC: 0.7645542127708137\n",
      "Epoch 25 | Train Loss 0.5787472199648619\n",
      "[[0.31498682]\n",
      " [0.31383762]\n",
      " [0.31362507]\n",
      " [0.32664534]\n",
      " [0.67723805]\n",
      " [0.7120923 ]\n",
      " [0.38253832]\n",
      " [0.84805524]\n",
      " [0.3228329 ]\n",
      " [0.31482494]]\n",
      "[0. 0. 0. 0. 1. 1. 0. 1. 0. 0.]\n",
      "[0 0 0 0 0 0 0 0 0 0]\n",
      "\n",
      " Confusion matrix: \n",
      " [[3558   72]\n",
      " [ 276   93]]\n",
      "F1 Score: 0.348314606741573\n",
      "Accuracy: 0.9129782445611403\n",
      "Precision: 0.25203252032520324\n",
      "Recall: 0.5636363636363636\n",
      "ROC AUC: 0.7458244415990893\n",
      "Epoch 25 | Test Loss 0.4793826546519995\n"
     ]
    },
    {
     "name": "stderr",
     "output_type": "stream",
     "text": [
      "2024/05/05 02:29:16 WARNING mlflow.utils.environment: Encountered an unexpected error while inferring pip requirements (model URI: C:\\Users\\User\\AppData\\Local\\Temp\\tmpa0ttcb3d\\model\\data, flavor: pytorch). Fall back to return ['torch==2.2.1', 'cloudpickle==2.2.1']. Set logging level to DEBUG to see the full traceback. \n",
      "100%|██████████| 560/560 [01:38<00:00,  5.70it/s]\n"
     ]
    },
    {
     "name": "stdout",
     "output_type": "stream",
     "text": [
      "\n",
      " Confusion matrix: \n",
      " [[31133 12104]\n",
      " [ 4717 23680]]\n",
      "F1 Score: 0.7379130895436343\n",
      "Accuracy: 0.7651813384705587\n",
      "Precision: 0.8338909039687291\n",
      "Recall: 0.6617482673820702\n",
      "ROC AUC: 0.7650861281122345\n",
      "Epoch 26 | Train Loss 0.5798756332269737\n"
     ]
    },
    {
     "name": "stderr",
     "output_type": "stream",
     "text": [
      "100%|██████████| 560/560 [01:37<00:00,  5.72it/s]\n"
     ]
    },
    {
     "name": "stdout",
     "output_type": "stream",
     "text": [
      "\n",
      " Confusion matrix: \n",
      " [[31151 12121]\n",
      " [ 4699 23663]]\n",
      "F1 Score: 0.7377856764256538\n",
      "Accuracy: 0.7651952983220258\n",
      "Precision: 0.8343205697764614\n",
      "Recall: 0.6612731947238989\n",
      "ROC AUC: 0.7650996378082534\n",
      "Epoch 27 | Train Loss 0.5776249719517571\n"
     ]
    },
    {
     "name": "stderr",
     "output_type": "stream",
     "text": [
      "100%|██████████| 560/560 [01:38<00:00,  5.71it/s]\n"
     ]
    },
    {
     "name": "stdout",
     "output_type": "stream",
     "text": [
      "\n",
      " Confusion matrix: \n",
      " [[31170 12103]\n",
      " [ 4680 23681]]\n",
      "F1 Score: 0.7383584067347415\n",
      "Accuracy: 0.7657118128263115\n",
      "Precision: 0.8349846620358944\n",
      "Recall: 0.6617762128325508\n",
      "ROC AUC: 0.7656161398890787\n",
      "Epoch 28 | Train Loss 0.5800744030624628\n"
     ]
    },
    {
     "name": "stderr",
     "output_type": "stream",
     "text": [
      "100%|██████████| 560/560 [01:38<00:00,  5.69it/s]\n"
     ]
    },
    {
     "name": "stdout",
     "output_type": "stream",
     "text": [
      "\n",
      " Confusion matrix: \n",
      " [[31075 12137]\n",
      " [ 4775 23647]]\n",
      "F1 Score: 0.7365978257483724\n",
      "Accuracy: 0.7639109919870453\n",
      "Precision: 0.831996340862712\n",
      "Recall: 0.6608260675162083\n",
      "ROC AUC: 0.763816102098411\n",
      "Epoch 29 | Train Loss 0.5804585390325103\n"
     ]
    },
    {
     "name": "stderr",
     "output_type": "stream",
     "text": [
      "100%|██████████| 560/560 [01:38<00:00,  5.70it/s]\n"
     ]
    },
    {
     "name": "stdout",
     "output_type": "stream",
     "text": [
      "\n",
      " Confusion matrix: \n",
      " [[31065 12138]\n",
      " [ 4785 23646]]\n",
      "F1 Score: 0.7364634431207662\n",
      "Accuracy: 0.7637574336209063\n",
      "Precision: 0.8316977946607577\n",
      "Recall: 0.6607981220657277\n",
      "ROC AUC: 0.7636626593592237\n",
      "Epoch 30 | Train Loss 0.578162037900516\n",
      "[[0.322256  ]\n",
      " [0.31409368]\n",
      " [0.32337055]\n",
      " [0.4772839 ]\n",
      " [0.5758698 ]\n",
      " [0.3322138 ]\n",
      " [0.31650198]\n",
      " [0.31992823]\n",
      " [0.31444874]\n",
      " [0.3154673 ]]\n",
      "[0. 0. 0. 0. 1. 0. 0. 0. 0. 0.]\n",
      "[0 0 0 0 0 0 0 0 0 0]\n",
      "\n",
      " Confusion matrix: \n",
      " [[3562   70]\n",
      " [ 272   95]]\n",
      "F1 Score: 0.3571428571428571\n",
      "Accuracy: 0.9144786196549137\n",
      "Precision: 0.25885558583106266\n",
      "Recall: 0.5757575757575758\n",
      "ROC AUC: 0.7524066960686678\n",
      "Epoch 30 | Test Loss 0.4806967880576849\n"
     ]
    },
    {
     "name": "stderr",
     "output_type": "stream",
     "text": [
      "100%|██████████| 560/560 [01:37<00:00,  5.72it/s]\n"
     ]
    },
    {
     "name": "stdout",
     "output_type": "stream",
     "text": [
      "\n",
      " Confusion matrix: \n",
      " [[31113 12086]\n",
      " [ 4737 23698]]\n",
      "F1 Score: 0.7380370295395443\n",
      "Accuracy: 0.7651534187676243\n",
      "Precision: 0.8334095305081766\n",
      "Recall: 0.6622512854907221\n",
      "ROC AUC: 0.7650586971386665\n",
      "Epoch 31 | Train Loss 0.5793469909046377\n"
     ]
    },
    {
     "name": "stderr",
     "output_type": "stream",
     "text": [
      "100%|██████████| 560/560 [01:38<00:00,  5.71it/s]\n"
     ]
    },
    {
     "name": "stdout",
     "output_type": "stream",
     "text": [
      "\n",
      " Confusion matrix: \n",
      " [[31161 12157]\n",
      " [ 4689 23627]]\n",
      "F1 Score: 0.737191887675507\n",
      "Accuracy: 0.7648323421838792\n",
      "Precision: 0.8344045769176437\n",
      "Recall: 0.6602671585065951\n",
      "ROC AUC: 0.7647360897135486\n",
      "Epoch 32 | Train Loss 0.5782561648637057\n"
     ]
    },
    {
     "name": "stderr",
     "output_type": "stream",
     "text": [
      "100%|██████████| 560/560 [01:38<00:00,  5.69it/s]\n"
     ]
    },
    {
     "name": "stdout",
     "output_type": "stream",
     "text": [
      "\n",
      " Confusion matrix: \n",
      " [[31163 12134]\n",
      " [ 4687 23650]]\n",
      "F1 Score: 0.7376678467272814\n",
      "Accuracy: 0.7651813384705587\n",
      "Precision: 0.834597875569044\n",
      "Recall: 0.6609099038676504\n",
      "ROC AUC: 0.7650853563968656\n",
      "Epoch 33 | Train Loss 0.5803346038396869\n"
     ]
    },
    {
     "name": "stderr",
     "output_type": "stream",
     "text": [
      "100%|██████████| 560/560 [01:38<00:00,  5.70it/s]\n"
     ]
    },
    {
     "name": "stdout",
     "output_type": "stream",
     "text": [
      "\n",
      " Confusion matrix: \n",
      " [[31207 12095]\n",
      " [ 4643 23689]]\n",
      "F1 Score: 0.7389419177740346\n",
      "Accuracy: 0.7663400061423347\n",
      "Precision: 0.8361216998446985\n",
      "Recall: 0.6619997764363962\n",
      "ROC AUC: 0.7662439607426053\n",
      "Epoch 34 | Train Loss 0.5786414766950266\n"
     ]
    },
    {
     "name": "stderr",
     "output_type": "stream",
     "text": [
      "100%|██████████| 560/560 [01:38<00:00,  5.71it/s]\n"
     ]
    },
    {
     "name": "stdout",
     "output_type": "stream",
     "text": [
      "\n",
      " Confusion matrix: \n",
      " [[31193 12118]\n",
      " [ 4657 23666]]\n",
      "F1 Score: 0.7383281076949475\n",
      "Accuracy: 0.765823491638049\n",
      "Precision: 0.8355753274723723\n",
      "Recall: 0.6613570310753409\n",
      "ROC AUC: 0.7657273300425518\n",
      "Epoch 35 | Train Loss 0.5804156819092375\n",
      "[[0.31756815]\n",
      " [0.49490032]\n",
      " [0.37753835]\n",
      " [0.32077125]\n",
      " [0.42795292]\n",
      " [0.33271736]\n",
      " [0.31474409]\n",
      " [0.31832564]\n",
      " [0.34211203]\n",
      " [0.31418464]]\n",
      "[0. 0. 0. 0. 0. 0. 0. 0. 0. 0.]\n",
      "[0 1 0 0 0 0 0 0 0 0]\n",
      "\n",
      " Confusion matrix: \n",
      " [[3552   69]\n",
      " [ 282   96]]\n",
      "F1 Score: 0.3535911602209944\n",
      "Accuracy: 0.9122280570142536\n",
      "Precision: 0.25396825396825395\n",
      "Recall: 0.5818181818181818\n",
      "ROC AUC: 0.7541328780765401\n",
      "Epoch 35 | Test Loss 0.48191347904503345\n"
     ]
    },
    {
     "name": "stderr",
     "output_type": "stream",
     "text": [
      "100%|██████████| 560/560 [01:37<00:00,  5.73it/s]\n"
     ]
    },
    {
     "name": "stdout",
     "output_type": "stream",
     "text": [
      "\n",
      " Confusion matrix: \n",
      " [[31191 12085]\n",
      " [ 4659 23699]]\n",
      "F1 Score: 0.7389541953790029\n",
      "Accuracy: 0.7662562470335316\n",
      "Precision: 0.83570773679385\n",
      "Recall: 0.6622792309412028\n",
      "ROC AUC: 0.7661605359726935\n",
      "Epoch 36 | Train Loss 0.5774910267442465\n"
     ]
    },
    {
     "name": "stderr",
     "output_type": "stream",
     "text": [
      "100%|██████████| 560/560 [01:38<00:00,  5.71it/s]\n"
     ]
    },
    {
     "name": "stdout",
     "output_type": "stream",
     "text": [
      "\n",
      " Confusion matrix: \n",
      " [[31168 12091]\n",
      " [ 4682 23693]]\n",
      "F1 Score: 0.7385713617730949\n",
      "Accuracy: 0.7658514113409833\n",
      "Precision: 0.8349955947136564\n",
      "Recall: 0.6621115582383188\n",
      "ROC AUC: 0.7657559185891734\n",
      "Epoch 37 | Train Loss 0.5783155633402722\n"
     ]
    },
    {
     "name": "stderr",
     "output_type": "stream",
     "text": [
      "100%|██████████| 560/560 [01:38<00:00,  5.68it/s]\n"
     ]
    },
    {
     "name": "stdout",
     "output_type": "stream",
     "text": [
      "\n",
      " Confusion matrix: \n",
      " [[31245 12107]\n",
      " [ 4605 23677]]\n",
      "F1 Score: 0.739144007742016\n",
      "Accuracy: 0.7667029622804813\n",
      "Precision: 0.8371755887136695\n",
      "Recall: 0.6616644310306282\n",
      "ROC AUC: 0.76660627409272\n",
      "Epoch 38 | Train Loss 0.5772555966462408\n"
     ]
    },
    {
     "name": "stderr",
     "output_type": "stream",
     "text": [
      "100%|██████████| 560/560 [01:38<00:00,  5.71it/s]\n"
     ]
    },
    {
     "name": "stdout",
     "output_type": "stream",
     "text": [
      "\n",
      " Confusion matrix: \n",
      " [[31090 12117]\n",
      " [ 4760 23667]]\n",
      "F1 Score: 0.7371634143682547\n",
      "Accuracy: 0.7643995867883966\n",
      "Precision: 0.8325535582368875\n",
      "Recall: 0.6613849765258216\n",
      "ROC AUC: 0.7643047616241381\n",
      "Epoch 39 | Train Loss 0.5787770906197173\n"
     ]
    },
    {
     "name": "stderr",
     "output_type": "stream",
     "text": [
      "100%|██████████| 560/560 [01:37<00:00,  5.72it/s]\n"
     ]
    },
    {
     "name": "stdout",
     "output_type": "stream",
     "text": [
      "\n",
      " Confusion matrix: \n",
      " [[31162 12132]\n",
      " [ 4688 23652]]\n",
      "F1 Score: 0.7376957145530536\n",
      "Accuracy: 0.7651952983220258\n",
      "Precision: 0.8345800988002823\n",
      "Recall: 0.6609657947686117\n",
      "ROC AUC: 0.7650993548459516\n",
      "Epoch 40 | Train Loss 0.5785921352782419\n",
      "[[0.37722817]\n",
      " [0.34566838]\n",
      " [0.34583595]\n",
      " [0.6112427 ]\n",
      " [0.42692855]\n",
      " [0.35965428]\n",
      " [0.31866866]\n",
      " [0.31453317]\n",
      " [0.31852025]\n",
      " [0.3316437 ]]\n",
      "[0. 0. 0. 1. 0. 0. 0. 0. 0. 0.]\n",
      "[0 0 0 0 0 0 0 0 0 0]\n",
      "\n",
      " Confusion matrix: \n",
      " [[3567   70]\n",
      " [ 267   95]]\n",
      "F1 Score: 0.3605313092979127\n",
      "Accuracy: 0.9157289322330583\n",
      "Precision: 0.26243093922651933\n",
      "Recall: 0.5757575757575758\n",
      "ROC AUC: 0.7530587565798833\n",
      "Epoch 40 | Test Loss 0.4794902903959155\n"
     ]
    },
    {
     "name": "stderr",
     "output_type": "stream",
     "text": [
      "100%|██████████| 560/560 [01:38<00:00,  5.69it/s]\n"
     ]
    },
    {
     "name": "stdout",
     "output_type": "stream",
     "text": [
      "\n",
      " Confusion matrix: \n",
      " [[31200 12043]\n",
      " [ 4650 23741]]\n",
      "F1 Score: 0.7398831320607714\n",
      "Accuracy: 0.7669681994583578\n",
      "Precision: 0.836215702159135\n",
      "Recall: 0.6634529398613905\n",
      "ROC AUC: 0.7668729134453396\n",
      "Epoch 41 | Train Loss 0.5780008203216962\n"
     ]
    },
    {
     "name": "stderr",
     "output_type": "stream",
     "text": [
      "100%|██████████| 560/560 [01:38<00:00,  5.71it/s]\n"
     ]
    },
    {
     "name": "stdout",
     "output_type": "stream",
     "text": [
      "\n",
      " Confusion matrix: \n",
      " [[31178 12115]\n",
      " [ 4672 23669]]\n",
      "F1 Score: 0.738214424951267\n",
      "Accuracy: 0.7656559734204428\n",
      "Precision: 0.8351504886912953\n",
      "Recall: 0.6614408674267829\n",
      "ROC AUC: 0.7655600431973524\n",
      "Epoch 42 | Train Loss 0.577632884574788\n"
     ]
    },
    {
     "name": "stderr",
     "output_type": "stream",
     "text": [
      "100%|██████████| 560/560 [01:38<00:00,  5.70it/s]\n"
     ]
    },
    {
     "name": "stdout",
     "output_type": "stream",
     "text": [
      "\n",
      " Confusion matrix: \n",
      " [[31101 12123]\n",
      " [ 4749 23661]]\n",
      "F1 Score: 0.7371716982895598\n",
      "Accuracy: 0.7644693860457324\n",
      "Precision: 0.8328405491024288\n",
      "Recall: 0.6612173038229376\n",
      "ROC AUC: 0.7643743422880379\n",
      "Epoch 43 | Train Loss 0.5787718604185752\n"
     ]
    },
    {
     "name": "stderr",
     "output_type": "stream",
     "text": [
      "100%|██████████| 560/560 [01:38<00:00,  5.66it/s]\n"
     ]
    },
    {
     "name": "stdout",
     "output_type": "stream",
     "text": [
      "\n",
      " Confusion matrix: \n",
      " [[31133 12098]\n",
      " [ 4717 23686]]\n",
      "F1 Score: 0.738031065480549\n",
      "Accuracy: 0.7652650975793618\n",
      "Precision: 0.8339259937330563\n",
      "Recall: 0.6619159400849541\n",
      "ROC AUC: 0.7651699644636765\n",
      "Epoch 44 | Train Loss 0.5790741454809905\n"
     ]
    },
    {
     "name": "stderr",
     "output_type": "stream",
     "text": [
      "100%|██████████| 560/560 [01:38<00:00,  5.67it/s]\n"
     ]
    },
    {
     "name": "stdout",
     "output_type": "stream",
     "text": [
      "\n",
      " Confusion matrix: \n",
      " [[31111 12118]\n",
      " [ 4739 23666]]\n",
      "F1 Score: 0.7373849101871037\n",
      "Accuracy: 0.7646787838177401\n",
      "Precision: 0.8331631754972716\n",
      "Recall: 0.6613570310753409\n",
      "ROC AUC: 0.7645836759281864\n",
      "Epoch 45 | Train Loss 0.5797823166740792\n",
      "[[0.3985114 ]\n",
      " [0.31416914]\n",
      " [0.31314278]\n",
      " [0.31893015]\n",
      " [0.375423  ]\n",
      " [0.31947342]\n",
      " [0.32919967]\n",
      " [0.31519902]\n",
      " [0.3250603 ]\n",
      " [0.35286304]]\n",
      "[0. 0. 0. 0. 0. 0. 0. 0. 0. 0.]\n",
      "[0 0 0 0 0 0 0 0 0 0]\n",
      "\n",
      " Confusion matrix: \n",
      " [[3555   70]\n",
      " [ 279   95]]\n",
      "F1 Score: 0.35250463821892397\n",
      "Accuracy: 0.9127281820455114\n",
      "Precision: 0.2540106951871658\n",
      "Recall: 0.5757575757575758\n",
      "ROC AUC: 0.7514938113529662\n",
      "Epoch 45 | Test Loss 0.482410429045558\n"
     ]
    },
    {
     "name": "stderr",
     "output_type": "stream",
     "text": [
      "100%|██████████| 560/560 [01:38<00:00,  5.68it/s]\n"
     ]
    },
    {
     "name": "stdout",
     "output_type": "stream",
     "text": [
      "\n",
      " Confusion matrix: \n",
      " [[31080 12092]\n",
      " [ 4770 23692]]\n",
      "F1 Score: 0.7375400803162843\n",
      "Accuracy: 0.7646089845604043\n",
      "Precision: 0.8324081231115171\n",
      "Recall: 0.6620836127878381\n",
      "ROC AUC: 0.7645146097411994\n",
      "Epoch 46 | Train Loss 0.5795751143779073\n"
     ]
    },
    {
     "name": "stderr",
     "output_type": "stream",
     "text": [
      "100%|██████████| 560/560 [01:38<00:00,  5.71it/s]\n"
     ]
    },
    {
     "name": "stdout",
     "output_type": "stream",
     "text": [
      "\n",
      " Confusion matrix: \n",
      " [[31095 12078]\n",
      " [ 4755 23706]]\n",
      "F1 Score: 0.7379873920149429\n",
      "Accuracy: 0.7650138202529525\n",
      "Precision: 0.8329292716348687\n",
      "Recall: 0.6624748490945674\n",
      "ROC AUC: 0.7649194329154845\n",
      "Epoch 47 | Train Loss 0.5775934589760644\n"
     ]
    },
    {
     "name": "stderr",
     "output_type": "stream",
     "text": [
      "100%|██████████| 560/560 [01:38<00:00,  5.71it/s]\n"
     ]
    },
    {
     "name": "stdout",
     "output_type": "stream",
     "text": [
      "\n",
      " Confusion matrix: \n",
      " [[31139 12154]\n",
      " [ 4711 23630]]\n",
      "F1 Score: 0.7369980506822613\n",
      "Accuracy: 0.7645671050060028\n",
      "Precision: 0.8337743904590522\n",
      "Recall: 0.6603509948580372\n",
      "ROC AUC: 0.7644711738585861\n",
      "Epoch 48 | Train Loss 0.5786846173128911\n"
     ]
    },
    {
     "name": "stderr",
     "output_type": "stream",
     "text": [
      "100%|██████████| 560/560 [01:37<00:00,  5.72it/s]\n"
     ]
    },
    {
     "name": "stdout",
     "output_type": "stream",
     "text": [
      "\n",
      " Confusion matrix: \n",
      " [[31204 12129]\n",
      " [ 4646 23655]]\n",
      "F1 Score: 0.738238277287977\n",
      "Accuracy: 0.765823491638049\n",
      "Precision: 0.8358361895339387\n",
      "Recall: 0.6610496311200537\n",
      "ROC AUC: 0.7657270470802501\n",
      "Epoch 49 | Train Loss 0.5778697607240506\n"
     ]
    },
    {
     "name": "stderr",
     "output_type": "stream",
     "text": [
      "100%|██████████| 560/560 [01:37<00:00,  5.74it/s]\n"
     ]
    },
    {
     "name": "stdout",
     "output_type": "stream",
     "text": [
      "\n",
      " Confusion matrix: \n",
      " [[31116 12092]\n",
      " [ 4734 23692]]\n",
      "F1 Score: 0.7379535897835228\n",
      "Accuracy: 0.7651115392132227\n",
      "Precision: 0.8334623232252164\n",
      "Recall: 0.6620836127878381\n",
      "ROC AUC: 0.7650167017914087\n",
      "Epoch 50 | Train Loss 0.5785901815231357\n",
      "[[0.38192254]\n",
      " [0.9139028 ]\n",
      " [0.31469983]\n",
      " [0.3263422 ]\n",
      " [0.3752913 ]\n",
      " [0.3113933 ]\n",
      " [0.32710177]\n",
      " [0.3152208 ]\n",
      " [0.36880678]\n",
      " [0.31349397]]\n",
      "[0. 1. 0. 0. 0. 0. 0. 0. 0. 0.]\n",
      "[0 1 0 0 0 0 0 0 0 0]\n",
      "\n",
      " Confusion matrix: \n",
      " [[3563   70]\n",
      " [ 271   95]]\n",
      "F1 Score: 0.3578154425612053\n",
      "Accuracy: 0.9147286821705426\n",
      "Precision: 0.25956284153005466\n",
      "Recall: 0.5757575757575758\n",
      "ROC AUC: 0.7525371081709109\n",
      "Epoch 50 | Test Loss 0.482346479780972\n"
     ]
    },
    {
     "name": "stderr",
     "output_type": "stream",
     "text": [
      "100%|██████████| 560/560 [01:38<00:00,  5.71it/s]\n"
     ]
    },
    {
     "name": "stdout",
     "output_type": "stream",
     "text": [
      "\n",
      " Confusion matrix: \n",
      " [[31208 12102]\n",
      " [ 4642 23682]]\n",
      "F1 Score: 0.7388157484245337\n",
      "Accuracy: 0.7662562470335316\n",
      "Precision: 0.8361107188250247\n",
      "Recall: 0.6618041582830315\n",
      "ROC AUC: 0.7661600986673178\n",
      "Epoch 51 | Train Loss 0.5788953455963305\n"
     ]
    },
    {
     "name": "stderr",
     "output_type": "stream",
     "text": [
      "100%|██████████| 560/560 [01:38<00:00,  5.67it/s]\n"
     ]
    },
    {
     "name": "stdout",
     "output_type": "stream",
     "text": [
      "\n",
      " Confusion matrix: \n",
      " [[31180 12110]\n",
      " [ 4670 23674]]\n",
      "F1 Score: 0.7383358283433135\n",
      "Accuracy: 0.7657536923807131\n",
      "Precision: 0.8352384984476432\n",
      "Recall: 0.6615805946791862\n",
      "ROC AUC: 0.7656578008263434\n",
      "Epoch 52 | Train Loss 0.5776332884494747\n"
     ]
    },
    {
     "name": "stderr",
     "output_type": "stream",
     "text": [
      "100%|██████████| 560/560 [01:39<00:00,  5.65it/s]\n"
     ]
    },
    {
     "name": "stdout",
     "output_type": "stream",
     "text": [
      "\n",
      " Confusion matrix: \n",
      " [[31053 12025]\n",
      " [ 4797 23759]]\n",
      "F1 Score: 0.7385452284737333\n",
      "Accuracy: 0.7651673786190915\n",
      "Precision: 0.8320142877153663\n",
      "Recall: 0.6639559579700425\n",
      "ROC AUC: 0.7650742132946446\n",
      "Epoch 53 | Train Loss 0.5792642094194889\n"
     ]
    },
    {
     "name": "stderr",
     "output_type": "stream",
     "text": [
      "100%|██████████| 560/560 [01:38<00:00,  5.70it/s]\n"
     ]
    },
    {
     "name": "stdout",
     "output_type": "stream",
     "text": [
      "\n",
      " Confusion matrix: \n",
      " [[31162 12064]\n",
      " [ 4688 23720]]\n",
      "F1 Score: 0.7390329012961117\n",
      "Accuracy: 0.7661445682217941\n",
      "Precision: 0.8349760630808223\n",
      "Recall: 0.6628660854012967\n",
      "ROC AUC: 0.7660495001622941\n",
      "Epoch 54 | Train Loss 0.5799320964408773\n"
     ]
    },
    {
     "name": "stderr",
     "output_type": "stream",
     "text": [
      "100%|██████████| 560/560 [01:38<00:00,  5.69it/s]\n"
     ]
    },
    {
     "name": "stdout",
     "output_type": "stream",
     "text": [
      "\n",
      " Confusion matrix: \n",
      " [[31192 12141]\n",
      " [ 4658 23643]]\n",
      "F1 Score: 0.7378637746742607\n",
      "Accuracy: 0.7654884552028366\n",
      "Precision: 0.8354121762481891\n",
      "Recall: 0.6607142857142857\n",
      "ROC AUC: 0.7653920103606295\n",
      "Epoch 55 | Train Loss 0.5787247826478311\n",
      "[[0.34917766]\n",
      " [0.4412232 ]\n",
      " [0.31254733]\n",
      " [0.31542248]\n",
      " [0.31040046]\n",
      " [0.3730923 ]\n",
      " [0.76589406]\n",
      " [0.3281939 ]\n",
      " [0.3193451 ]\n",
      " [0.31553233]]\n",
      "[0. 0. 0. 0. 0. 0. 1. 0. 0. 0.]\n",
      "[0 0 0 0 0 0 0 0 0 0]\n",
      "\n",
      " Confusion matrix: \n",
      " [[3554   69]\n",
      " [ 280   96]]\n",
      "F1 Score: 0.35489833641404805\n",
      "Accuracy: 0.9127281820455114\n",
      "Precision: 0.2553191489361702\n",
      "Recall: 0.5818181818181818\n",
      "ROC AUC: 0.7543937022810262\n",
      "Epoch 55 | Test Loss 0.4805914629250765\n"
     ]
    },
    {
     "name": "stderr",
     "output_type": "stream",
     "text": [
      "100%|██████████| 560/560 [01:38<00:00,  5.70it/s]\n"
     ]
    },
    {
     "name": "stdout",
     "output_type": "stream",
     "text": [
      "\n",
      " Confusion matrix: \n",
      " [[31074 12148]\n",
      " [ 4776 23636]]\n",
      "F1 Score: 0.7363698672814504\n",
      "Accuracy: 0.7637434737694391\n",
      "Precision: 0.8319020132338448\n",
      "Recall: 0.660518667560921\n",
      "ROC AUC: 0.7636484551193726\n",
      "Epoch 56 | Train Loss 0.5797636387071439\n"
     ]
    },
    {
     "name": "stderr",
     "output_type": "stream",
     "text": [
      "100%|██████████| 560/560 [01:37<00:00,  5.73it/s]\n"
     ]
    },
    {
     "name": "stdout",
     "output_type": "stream",
     "text": [
      "\n",
      " Confusion matrix: \n",
      " [[31160 12160]\n",
      " [ 4690 23624]]\n",
      "F1 Score: 0.7371212830353522\n",
      "Accuracy: 0.7647765027780105\n",
      "Precision: 0.834357561630289\n",
      "Recall: 0.6601833221551532\n",
      "ROC AUC: 0.7646802245364329\n",
      "Epoch 57 | Train Loss 0.5783633925552879\n"
     ]
    },
    {
     "name": "stderr",
     "output_type": "stream",
     "text": [
      "100%|██████████| 560/560 [01:38<00:00,  5.71it/s]\n"
     ]
    },
    {
     "name": "stdout",
     "output_type": "stream",
     "text": [
      "\n",
      " Confusion matrix: \n",
      " [[31162 12082]\n",
      " [ 4688 23702]]\n",
      "F1 Score: 0.7386792158818213\n",
      "Accuracy: 0.7658932908953848\n",
      "Precision: 0.8348714336033815\n",
      "Recall: 0.6623630672926447\n",
      "ROC AUC: 0.7657979911079682\n",
      "Epoch 58 | Train Loss 0.5797940749675036\n"
     ]
    },
    {
     "name": "stderr",
     "output_type": "stream",
     "text": [
      "100%|██████████| 560/560 [01:38<00:00,  5.71it/s]\n"
     ]
    },
    {
     "name": "stdout",
     "output_type": "stream",
     "text": [
      "\n",
      " Confusion matrix: \n",
      " [[31095 12103]\n",
      " [ 4755 23681]]\n",
      "F1 Score: 0.7374961071317346\n",
      "Accuracy: 0.764664823966273\n",
      "Precision: 0.8327823885215924\n",
      "Recall: 0.6617762128325508\n",
      "ROC AUC: 0.7645701147844762\n",
      "Epoch 59 | Train Loss 0.5794238681771926\n"
     ]
    },
    {
     "name": "stderr",
     "output_type": "stream",
     "text": [
      "100%|██████████| 560/560 [01:37<00:00,  5.75it/s]\n"
     ]
    },
    {
     "name": "stdout",
     "output_type": "stream",
     "text": [
      "\n",
      " Confusion matrix: \n",
      " [[31244 12173]\n",
      " [ 4606 23611]]\n",
      "F1 Score: 0.737832221371541\n",
      "Accuracy: 0.7657676522321802\n",
      "Precision: 0.8367650707020591\n",
      "Recall: 0.6598200312989045\n",
      "ROC AUC: 0.7656701272254633\n",
      "Epoch 60 | Train Loss 0.5787652636745146\n",
      "[[0.4034029 ]\n",
      " [0.33319646]\n",
      " [0.3330426 ]\n",
      " [0.31293255]\n",
      " [0.3135286 ]\n",
      " [0.7968019 ]\n",
      " [0.31428275]\n",
      " [0.37942782]\n",
      " [0.31654552]\n",
      " [0.86023915]]\n",
      "[0. 0. 0. 0. 0. 1. 0. 0. 0. 1.]\n",
      "[0 0 0 0 0 0 0 0 0 1]\n",
      "\n",
      " Confusion matrix: \n",
      " [[3570   70]\n",
      " [ 264   95]]\n",
      "F1 Score: 0.3625954198473283\n",
      "Accuracy: 0.916479119779945\n",
      "Precision: 0.2646239554317549\n",
      "Recall: 0.5757575757575758\n",
      "ROC AUC: 0.7534499928866126\n",
      "Epoch 60 | Test Loss 0.4784613074734807\n"
     ]
    },
    {
     "name": "stderr",
     "output_type": "stream",
     "text": [
      "2024/05/05 03:27:13 WARNING mlflow.utils.environment: Encountered an unexpected error while inferring pip requirements (model URI: C:\\Users\\User\\AppData\\Local\\Temp\\tmpucj7_1nf\\model\\data, flavor: pytorch). Fall back to return ['torch==2.2.1', 'cloudpickle==2.2.1']. Set logging level to DEBUG to see the full traceback. \n",
      "100%|██████████| 560/560 [01:37<00:00,  5.76it/s]\n"
     ]
    },
    {
     "name": "stdout",
     "output_type": "stream",
     "text": [
      "\n",
      " Confusion matrix: \n",
      " [[31178 12084]\n",
      " [ 4672 23700]]\n",
      "F1 Score: 0.7388241162167218\n",
      "Accuracy: 0.7660887288159254\n",
      "Precision: 0.8353306076413365\n",
      "Recall: 0.6623071763916835\n",
      "ROC AUC: 0.7659931976798027\n",
      "Epoch 61 | Train Loss 0.5784905996705805\n"
     ]
    },
    {
     "name": "stderr",
     "output_type": "stream",
     "text": [
      "100%|██████████| 560/560 [01:37<00:00,  5.72it/s]\n"
     ]
    },
    {
     "name": "stdout",
     "output_type": "stream",
     "text": [
      "\n",
      " Confusion matrix: \n",
      " [[31146 12089]\n",
      " [ 4704 23695]]\n",
      "F1 Score: 0.7383575089977096\n",
      "Accuracy: 0.7655722143116397\n",
      "Precision: 0.8343603648015775\n",
      "Recall: 0.6621674491392802\n",
      "ROC AUC: 0.7654770300089706\n",
      "Epoch 62 | Train Loss 0.578100351829614\n"
     ]
    },
    {
     "name": "stderr",
     "output_type": "stream",
     "text": [
      "100%|██████████| 560/560 [01:37<00:00,  5.72it/s]\n"
     ]
    },
    {
     "name": "stdout",
     "output_type": "stream",
     "text": [
      "\n",
      " Confusion matrix: \n",
      " [[31199 12139]\n",
      " [ 4651 23645]]\n",
      "F1 Score: 0.7379837702871411\n",
      "Accuracy: 0.7656140938660413\n",
      "Precision: 0.8356304778060504\n",
      "Recall: 0.6607701766152471\n",
      "ROC AUC: 0.7655175848208733\n",
      "Epoch 63 | Train Loss 0.5799895150320871\n"
     ]
    },
    {
     "name": "stderr",
     "output_type": "stream",
     "text": [
      "100%|██████████| 560/560 [01:37<00:00,  5.73it/s]\n"
     ]
    },
    {
     "name": "stdout",
     "output_type": "stream",
     "text": [
      "\n",
      " Confusion matrix: \n",
      " [[31195 12039]\n",
      " [ 4655 23745]]\n",
      "F1 Score: 0.7399040259254643\n",
      "Accuracy: 0.7669542396068906\n",
      "Precision: 0.8360915492957747\n",
      "Recall: 0.6635647216633133\n",
      "ROC AUC: 0.7668590693393275\n",
      "Epoch 64 | Train Loss 0.5784163070044347\n"
     ]
    },
    {
     "name": "stderr",
     "output_type": "stream",
     "text": [
      "100%|██████████| 560/560 [01:38<00:00,  5.71it/s]\n"
     ]
    },
    {
     "name": "stdout",
     "output_type": "stream",
     "text": [
      "\n",
      " Confusion matrix: \n",
      " [[31209 12105]\n",
      " [ 4641 23679]]\n",
      "F1 Score: 0.7387682515911643\n",
      "Accuracy: 0.7662283273305972\n",
      "Precision: 0.8361228813559322\n",
      "Recall: 0.6617203219315896\n",
      "ROC AUC: 0.7661321274929915\n",
      "Epoch 65 | Train Loss 0.5785298279885734\n",
      "[[0.31594193]\n",
      " [0.31764314]\n",
      " [0.3203764 ]\n",
      " [0.43805185]\n",
      " [0.35925007]\n",
      " [0.32391408]\n",
      " [0.31532913]\n",
      " [0.37948462]\n",
      " [0.61268485]\n",
      " [0.35105065]]\n",
      "[0. 0. 0. 0. 0. 0. 0. 0. 1. 0.]\n",
      "[0 0 0 0 0 0 0 0 0 0]\n",
      "\n",
      " Confusion matrix: \n",
      " [[3551   69]\n",
      " [ 283   96]]\n",
      "F1 Score: 0.35294117647058826\n",
      "Accuracy: 0.9119779944986247\n",
      "Precision: 0.2532981530343008\n",
      "Recall: 0.5818181818181818\n",
      "ROC AUC: 0.7540024659742969\n",
      "Epoch 65 | Test Loss 0.48417026922106743\n"
     ]
    },
    {
     "name": "stderr",
     "output_type": "stream",
     "text": [
      "100%|██████████| 560/560 [01:37<00:00,  5.73it/s]\n"
     ]
    },
    {
     "name": "stdout",
     "output_type": "stream",
     "text": [
      "\n",
      " Confusion matrix: \n",
      " [[31152 12124]\n",
      " [ 4698 23660]]\n",
      "F1 Score: 0.7377381434941224\n",
      "Accuracy: 0.7651673786190915\n",
      "Precision: 0.8343324635023627\n",
      "Recall: 0.661189358372457\n",
      "ROC AUC: 0.7650716666339271\n",
      "Epoch 66 | Train Loss 0.5784349000879696\n"
     ]
    },
    {
     "name": "stderr",
     "output_type": "stream",
     "text": [
      "100%|██████████| 560/560 [01:37<00:00,  5.74it/s]\n"
     ]
    },
    {
     "name": "stdout",
     "output_type": "stream",
     "text": [
      "\n",
      " Confusion matrix: \n",
      " [[31079 12175]\n",
      " [ 4771 23609]]\n",
      "F1 Score: 0.735895517735802\n",
      "Accuracy: 0.7634363570371612\n",
      "Precision: 0.8318886539816772\n",
      "Recall: 0.6597641403979432\n",
      "ROC AUC: 0.7633409265448573\n",
      "Epoch 67 | Train Loss 0.5785618785768747\n"
     ]
    },
    {
     "name": "stderr",
     "output_type": "stream",
     "text": [
      "100%|██████████| 560/560 [01:37<00:00,  5.72it/s]\n"
     ]
    },
    {
     "name": "stdout",
     "output_type": "stream",
     "text": [
      "\n",
      " Confusion matrix: \n",
      " [[31092 12122]\n",
      " [ 4758 23662]]\n",
      "F1 Score: 0.7370880318983241\n",
      "Accuracy: 0.764357707233995\n",
      "Precision: 0.8325826882477129\n",
      "Recall: 0.6612452492734183\n",
      "ROC AUC: 0.7642627920007259\n",
      "Epoch 68 | Train Loss 0.578301641451461\n"
     ]
    },
    {
     "name": "stderr",
     "output_type": "stream",
     "text": [
      "100%|██████████| 560/560 [01:37<00:00,  5.74it/s]\n"
     ]
    },
    {
     "name": "stdout",
     "output_type": "stream",
     "text": [
      "\n",
      " Confusion matrix: \n",
      " [[31108 12162]\n",
      " [ 4742 23622]]\n",
      "F1 Score: 0.7364843798715471\n",
      "Accuracy: 0.7640226707987827\n",
      "Precision: 0.8328162459455648\n",
      "Recall: 0.6601274312541918\n",
      "ROC AUC: 0.7639270350134278\n",
      "Epoch 69 | Train Loss 0.5803053666438375\n"
     ]
    },
    {
     "name": "stderr",
     "output_type": "stream",
     "text": [
      "100%|██████████| 560/560 [01:37<00:00,  5.72it/s]\n"
     ]
    },
    {
     "name": "stdout",
     "output_type": "stream",
     "text": [
      "\n",
      " Confusion matrix: \n",
      " [[31089 12102]\n",
      " [ 4761 23682]]\n",
      "F1 Score: 0.7374468681395674\n",
      "Accuracy: 0.7645950247089371\n",
      "Precision: 0.8326125936082692\n",
      "Recall: 0.6618041582830315\n",
      "ROC AUC: 0.7645004055013485\n",
      "Epoch 70 | Train Loss 0.5769969245684998\n",
      "[[0.31153294]\n",
      " [0.42704546]\n",
      " [0.3155049 ]\n",
      " [0.31551152]\n",
      " [0.33294934]\n",
      " [0.3249357 ]\n",
      " [0.32974732]\n",
      " [0.32126695]\n",
      " [0.32773158]\n",
      " [0.3181172 ]]\n",
      "[0. 0. 0. 0. 0. 0. 0. 0. 0. 0.]\n",
      "[0 0 0 0 0 0 0 0 0 0]\n",
      "\n",
      " Confusion matrix: \n",
      " [[3569   72]\n",
      " [ 265   93]]\n",
      "F1 Score: 0.3556405353728489\n",
      "Accuracy: 0.9157289322330583\n",
      "Precision: 0.25977653631284914\n",
      "Recall: 0.5636363636363636\n",
      "ROC AUC: 0.7472589747237635\n",
      "Epoch 70 | Test Loss 0.4806414069607854\n"
     ]
    },
    {
     "name": "stderr",
     "output_type": "stream",
     "text": [
      "100%|██████████| 560/560 [01:38<00:00,  5.70it/s]\n"
     ]
    },
    {
     "name": "stdout",
     "output_type": "stream",
     "text": [
      "\n",
      " Confusion matrix: \n",
      " [[31130 12081]\n",
      " [ 4720 23703]]\n",
      "F1 Score: 0.7383307116046536\n",
      "Accuracy: 0.7654605354999022\n",
      "Precision: 0.8339373042958168\n",
      "Recall: 0.6623910127431254\n",
      "ROC AUC: 0.7653656597885782\n",
      "Epoch 71 | Train Loss 0.579013393925769\n"
     ]
    },
    {
     "name": "stderr",
     "output_type": "stream",
     "text": [
      "100%|██████████| 560/560 [01:38<00:00,  5.71it/s]\n"
     ]
    },
    {
     "name": "stdout",
     "output_type": "stream",
     "text": [
      "\n",
      " Confusion matrix: \n",
      " [[31116 12133]\n",
      " [ 4734 23651]]\n",
      "F1 Score: 0.7371472206205489\n",
      "Accuracy: 0.7645391853030684\n",
      "Precision: 0.8332217720627092\n",
      "Recall: 0.660937849318131\n",
      "ROC AUC: 0.7644438200565551\n",
      "Epoch 72 | Train Loss 0.5796883945486375\n"
     ]
    },
    {
     "name": "stderr",
     "output_type": "stream",
     "text": [
      "100%|██████████| 560/560 [01:37<00:00,  5.72it/s]\n"
     ]
    },
    {
     "name": "stdout",
     "output_type": "stream",
     "text": [
      "\n",
      " Confusion matrix: \n",
      " [[31084 12061]\n",
      " [ 4766 23723]]\n",
      "F1 Score: 0.7381948874332924\n",
      "Accuracy: 0.7650975793617556\n",
      "Precision: 0.8327073607357226\n",
      "Recall: 0.6629499217527387\n",
      "ROC AUC: 0.7650035522292286\n",
      "Epoch 73 | Train Loss 0.5788827502301761\n"
     ]
    },
    {
     "name": "stderr",
     "output_type": "stream",
     "text": [
      "100%|██████████| 560/560 [01:38<00:00,  5.71it/s]\n"
     ]
    },
    {
     "name": "stdout",
     "output_type": "stream",
     "text": [
      "\n",
      " Confusion matrix: \n",
      " [[31059 12101]\n",
      " [ 4791 23683]]\n",
      "F1 Score: 0.7371222260263314\n",
      "Accuracy: 0.7641901890163889\n",
      "Precision: 0.8317412376202852\n",
      "Recall: 0.6618321037335122\n",
      "ROC AUC: 0.7640959681847477\n",
      "Epoch 74 | Train Loss 0.580104690257992\n"
     ]
    },
    {
     "name": "stderr",
     "output_type": "stream",
     "text": [
      "100%|██████████| 560/560 [01:37<00:00,  5.72it/s]\n"
     ]
    },
    {
     "name": "stdout",
     "output_type": "stream",
     "text": [
      "\n",
      " Confusion matrix: \n",
      " [[31150 12072]\n",
      " [ 4700 23712]]\n",
      "F1 Score: 0.7387376160508443\n",
      "Accuracy: 0.7658653711924505\n",
      "Precision: 0.8345769393214135\n",
      "Recall: 0.6626425217974514\n",
      "ROC AUC: 0.765770354343635\n",
      "Epoch 75 | Train Loss 0.5780380688075508\n",
      "[[0.6052732 ]\n",
      " [0.31305274]\n",
      " [0.31159806]\n",
      " [0.31512785]\n",
      " [0.32610285]\n",
      " [0.40235254]\n",
      " [0.44090086]\n",
      " [0.33298084]\n",
      " [0.3594372 ]\n",
      " [0.61840117]]\n",
      "[1. 0. 0. 0. 0. 0. 0. 0. 0. 1.]\n",
      "[0 0 0 0 0 0 0 1 0 0]\n",
      "\n",
      " Confusion matrix: \n",
      " [[3562   69]\n",
      " [ 272   96]]\n",
      "F1 Score: 0.36022514071294554\n",
      "Accuracy: 0.9147286821705426\n",
      "Precision: 0.2608695652173913\n",
      "Recall: 0.5818181818181818\n",
      "ROC AUC: 0.7554369990989709\n",
      "Epoch 75 | Test Loss 0.48236100003123283\n"
     ]
    },
    {
     "name": "stderr",
     "output_type": "stream",
     "text": [
      "100%|██████████| 560/560 [01:38<00:00,  5.70it/s]\n"
     ]
    },
    {
     "name": "stdout",
     "output_type": "stream",
     "text": [
      "\n",
      " Confusion matrix: \n",
      " [[31068 12105]\n",
      " [ 4782 23679]]\n",
      "F1 Score: 0.7371468596777958\n",
      "Accuracy: 0.7642599882737248\n",
      "Precision: 0.8319806050384737\n",
      "Recall: 0.6617203219315896\n",
      "ROC AUC: 0.7641656002963387\n",
      "Epoch 76 | Train Loss 0.5799849211637463\n"
     ]
    },
    {
     "name": "stderr",
     "output_type": "stream",
     "text": [
      "100%|██████████| 560/560 [01:38<00:00,  5.70it/s]\n"
     ]
    },
    {
     "name": "stdout",
     "output_type": "stream",
     "text": [
      "\n",
      " Confusion matrix: \n",
      " [[31107 12163]\n",
      " [ 4743 23621]]\n",
      "F1 Score: 0.7364532019704433\n",
      "Accuracy: 0.7639947510958484\n",
      "Precision: 0.8327809899873079\n",
      "Recall: 0.6600994858037111\n",
      "ROC AUC: 0.7638991152867929\n",
      "Epoch 77 | Train Loss 0.5779494860342571\n"
     ]
    },
    {
     "name": "stderr",
     "output_type": "stream",
     "text": [
      "100%|██████████| 560/560 [01:37<00:00,  5.72it/s]\n"
     ]
    },
    {
     "name": "stdout",
     "output_type": "stream",
     "text": [
      "\n",
      " Confusion matrix: \n",
      " [[31024 12128]\n",
      " [ 4826 23656]]\n",
      "F1 Score: 0.7361902094420067\n",
      "Accuracy: 0.7633246782254237\n",
      "Precision: 0.8305596517098518\n",
      "Recall: 0.6610775765705343\n",
      "ROC AUC: 0.7632305595544443\n",
      "Epoch 78 | Train Loss 0.5817800137081317\n"
     ]
    },
    {
     "name": "stderr",
     "output_type": "stream",
     "text": [
      "100%|██████████| 560/560 [01:37<00:00,  5.72it/s]\n"
     ]
    },
    {
     "name": "stdout",
     "output_type": "stream",
     "text": [
      "\n",
      " Confusion matrix: \n",
      " [[31079 12175]\n",
      " [ 4771 23609]]\n",
      "F1 Score: 0.735895517735802\n",
      "Accuracy: 0.7634363570371612\n",
      "Precision: 0.8318886539816772\n",
      "Recall: 0.6597641403979432\n",
      "ROC AUC: 0.7633409265448573\n",
      "Epoch 79 | Train Loss 0.5794302491205079\n"
     ]
    },
    {
     "name": "stderr",
     "output_type": "stream",
     "text": [
      "100%|██████████| 560/560 [01:38<00:00,  5.68it/s]\n"
     ]
    },
    {
     "name": "stdout",
     "output_type": "stream",
     "text": [
      "\n",
      " Confusion matrix: \n",
      " [[31114 12023]\n",
      " [ 4736 23761]]\n",
      "F1 Score: 0.7392853253683047\n",
      "Accuracy: 0.7660468492615239\n",
      "Precision: 0.8338070674106046\n",
      "Recall: 0.6640118488710038\n",
      "ROC AUC: 0.765952925830202\n",
      "Epoch 80 | Train Loss 0.5795821356454066\n",
      "[[0.31308913]\n",
      " [0.65107834]\n",
      " [0.7792675 ]\n",
      " [0.32542124]\n",
      " [0.38921604]\n",
      " [0.32566953]\n",
      " [0.3142991 ]\n",
      " [0.33089823]\n",
      " [0.34727338]\n",
      " [0.32620665]]\n",
      "[0. 1. 1. 0. 0. 0. 0. 0. 0. 0.]\n",
      "[0 0 1 0 0 0 0 0 0 0]\n",
      "\n",
      " Confusion matrix: \n",
      " [[3557   70]\n",
      " [ 277   95]]\n",
      "F1 Score: 0.3538175046554935\n",
      "Accuracy: 0.9132283070767692\n",
      "Precision: 0.2553763440860215\n",
      "Recall: 0.5757575757575758\n",
      "ROC AUC: 0.7517546355574525\n",
      "Epoch 80 | Test Loss 0.47971322294324636\n"
     ]
    },
    {
     "name": "stderr",
     "output_type": "stream",
     "text": [
      "100%|██████████| 560/560 [01:38<00:00,  5.66it/s]\n"
     ]
    },
    {
     "name": "stdout",
     "output_type": "stream",
     "text": [
      "\n",
      " Confusion matrix: \n",
      " [[31063 12124]\n",
      " [ 4787 23660]]\n",
      "F1 Score: 0.736715915990721\n",
      "Accuracy: 0.7639249518385124\n",
      "Precision: 0.8317221499630892\n",
      "Recall: 0.661189358372457\n",
      "ROC AUC: 0.7638303835097989\n",
      "Epoch 81 | Train Loss 0.579021812762533\n"
     ]
    },
    {
     "name": "stderr",
     "output_type": "stream",
     "text": [
      "100%|██████████| 560/560 [01:38<00:00,  5.69it/s]\n"
     ]
    },
    {
     "name": "stdout",
     "output_type": "stream",
     "text": [
      "\n",
      " Confusion matrix: \n",
      " [[31184 12117]\n",
      " [ 4666 23667]]\n",
      "F1 Score: 0.7382441474180014\n",
      "Accuracy: 0.7657118128263115\n",
      "Precision: 0.8353157095965835\n",
      "Recall: 0.6613849765258216\n",
      "ROC AUC: 0.7656157797552399\n",
      "Epoch 82 | Train Loss 0.5803482031183583\n"
     ]
    },
    {
     "name": "stderr",
     "output_type": "stream",
     "text": [
      "100%|██████████| 560/560 [01:38<00:00,  5.68it/s]\n"
     ]
    },
    {
     "name": "stdout",
     "output_type": "stream",
     "text": [
      "\n",
      " Confusion matrix: \n",
      " [[31024 12137]\n",
      " [ 4826 23647]]\n",
      "F1 Score: 0.7360131970057737\n",
      "Accuracy: 0.763199039562219\n",
      "Precision: 0.8305060934920803\n",
      "Recall: 0.6608260675162083\n",
      "ROC AUC: 0.7631048050272813\n",
      "Epoch 83 | Train Loss 0.5801978293806315\n"
     ]
    },
    {
     "name": "stderr",
     "output_type": "stream",
     "text": [
      "100%|██████████| 560/560 [01:38<00:00,  5.70it/s]\n"
     ]
    },
    {
     "name": "stdout",
     "output_type": "stream",
     "text": [
      "\n",
      " Confusion matrix: \n",
      " [[31131 12096]\n",
      " [ 4719 23688]]\n",
      "F1 Score: 0.7380473898210028\n",
      "Accuracy: 0.7652650975793618\n",
      "Precision: 0.833878973492449\n",
      "Recall: 0.6619718309859155\n",
      "ROC AUC: 0.7651700159113678\n",
      "Epoch 84 | Train Loss 0.5789551883403744\n"
     ]
    },
    {
     "name": "stderr",
     "output_type": "stream",
     "text": [
      "100%|██████████| 560/560 [01:38<00:00,  5.71it/s]\n"
     ]
    },
    {
     "name": "stdout",
     "output_type": "stream",
     "text": [
      "\n",
      " Confusion matrix: \n",
      " [[31104 12067]\n",
      " [ 4746 23717]]\n",
      "F1 Score: 0.7383068470123119\n",
      "Accuracy: 0.7652930172822962\n",
      "Precision: 0.8332572111161859\n",
      "Recall: 0.6627822490498547\n",
      "ROC AUC: 0.7651986559056805\n",
      "Epoch 85 | Train Loss 0.5800852702132293\n",
      "[[0.3980069 ]\n",
      " [0.31516892]\n",
      " [0.48818523]\n",
      " [0.31509578]\n",
      " [0.31123707]\n",
      " [0.31192628]\n",
      " [0.32270736]\n",
      " [0.61258   ]\n",
      " [0.81454223]\n",
      " [0.32334203]]\n",
      "[0. 0. 0. 0. 0. 0. 0. 1. 1. 0.]\n",
      "[0 0 0 0 0 0 0 0 0 0]\n",
      "\n",
      " Confusion matrix: \n",
      " [[3567   72]\n",
      " [ 267   93]]\n",
      "F1 Score: 0.35428571428571426\n",
      "Accuracy: 0.9152288072018004\n",
      "Precision: 0.25833333333333336\n",
      "Recall: 0.5636363636363636\n",
      "ROC AUC: 0.7469981505192772\n",
      "Epoch 85 | Test Loss 0.4789862213656306\n"
     ]
    },
    {
     "name": "stderr",
     "output_type": "stream",
     "text": [
      "100%|██████████| 560/560 [01:37<00:00,  5.71it/s]\n"
     ]
    },
    {
     "name": "stdout",
     "output_type": "stream",
     "text": [
      "\n",
      " Confusion matrix: \n",
      " [[31157 12131]\n",
      " [ 4693 23653]]\n",
      "F1 Score: 0.7376578824263216\n",
      "Accuracy: 0.7651394589161571\n",
      "Precision: 0.8344387215127355\n",
      "Recall: 0.6609937402190923\n",
      "ROC AUC: 0.7650435925642184\n",
      "Epoch 86 | Train Loss 0.5794247413852385\n"
     ]
    },
    {
     "name": "stderr",
     "output_type": "stream",
     "text": [
      "100%|██████████| 560/560 [01:37<00:00,  5.73it/s]\n"
     ]
    },
    {
     "name": "stdout",
     "output_type": "stream",
     "text": [
      "\n",
      " Confusion matrix: \n",
      " [[31176 12094]\n",
      " [ 4674 23690]]\n",
      "F1 Score: 0.7386044771465986\n",
      "Accuracy: 0.7659212105983192\n",
      "Precision: 0.835213651107037\n",
      "Recall: 0.6620277218868769\n",
      "ROC AUC: 0.76582557642461\n",
      "Epoch 87 | Train Loss 0.579406535040055\n"
     ]
    },
    {
     "name": "stderr",
     "output_type": "stream",
     "text": [
      "100%|██████████| 560/560 [01:37<00:00,  5.72it/s]\n"
     ]
    },
    {
     "name": "stdout",
     "output_type": "stream",
     "text": [
      "\n",
      " Confusion matrix: \n",
      " [[31160 12070]\n",
      " [ 4690 23714]]\n",
      "F1 Score: 0.7388920047360877\n",
      "Accuracy: 0.7660328894100566\n",
      "Precision: 0.8348824109280383\n",
      "Recall: 0.6626984126984127\n",
      "ROC AUC: 0.7659377698080626\n",
      "Epoch 88 | Train Loss 0.5786571902355977\n"
     ]
    },
    {
     "name": "stderr",
     "output_type": "stream",
     "text": [
      "100%|██████████| 560/560 [01:37<00:00,  5.72it/s]\n"
     ]
    },
    {
     "name": "stdout",
     "output_type": "stream",
     "text": [
      "\n",
      " Confusion matrix: \n",
      " [[31103 12051]\n",
      " [ 4747 23733]]\n",
      "F1 Score: 0.7386094858707831\n",
      "Accuracy: 0.7655024150543038\n",
      "Precision: 0.8333216292134832\n",
      "Recall: 0.6632293762575453\n",
      "ROC AUC: 0.7654082725081311\n",
      "Epoch 89 | Train Loss 0.5791285020432302\n"
     ]
    },
    {
     "name": "stderr",
     "output_type": "stream",
     "text": [
      "100%|██████████| 560/560 [01:38<00:00,  5.69it/s]\n"
     ]
    },
    {
     "name": "stdout",
     "output_type": "stream",
     "text": [
      "\n",
      " Confusion matrix: \n",
      " [[31087 12128]\n",
      " [ 4763 23656]]\n",
      "F1 Score: 0.736912605329969\n",
      "Accuracy: 0.764204148867856\n",
      "Precision: 0.8324008585805271\n",
      "Recall: 0.6610775765705343\n",
      "ROC AUC: 0.7641092206423103\n",
      "Epoch 90 | Train Loss 0.5804503226386649\n",
      "[[0.34221634]\n",
      " [0.34662813]\n",
      " [0.31373096]\n",
      " [0.3868514 ]\n",
      " [0.3300547 ]\n",
      " [0.37674677]\n",
      " [0.35462773]\n",
      " [0.3140185 ]\n",
      " [0.31518355]\n",
      " [0.40549538]]\n",
      "[0. 0. 0. 0. 0. 0. 0. 0. 0. 0.]\n",
      "[0 0 0 0 0 0 0 0 0 0]\n",
      "\n",
      " Confusion matrix: \n",
      " [[3563   70]\n",
      " [ 271   95]]\n",
      "F1 Score: 0.3578154425612053\n",
      "Accuracy: 0.9147286821705426\n",
      "Precision: 0.25956284153005466\n",
      "Recall: 0.5757575757575758\n",
      "ROC AUC: 0.7525371081709109\n",
      "Epoch 90 | Test Loss 0.47891759499907494\n"
     ]
    },
    {
     "name": "stderr",
     "output_type": "stream",
     "text": [
      "100%|██████████| 560/560 [01:38<00:00,  5.70it/s]\n"
     ]
    },
    {
     "name": "stdout",
     "output_type": "stream",
     "text": [
      "\n",
      " Confusion matrix: \n",
      " [[31134 12084]\n",
      " [ 4716 23700]]\n",
      "F1 Score: 0.7383177570093459\n",
      "Accuracy: 0.7654744953513695\n",
      "Precision: 0.8340371621621622\n",
      "Recall: 0.6623071763916835\n",
      "ROC AUC: 0.7653795296184358\n",
      "Epoch 91 | Train Loss 0.5795530883861439\n"
     ]
    },
    {
     "name": "stderr",
     "output_type": "stream",
     "text": [
      "100%|██████████| 560/560 [01:38<00:00,  5.71it/s]\n"
     ]
    },
    {
     "name": "stdout",
     "output_type": "stream",
     "text": [
      "\n",
      " Confusion matrix: \n",
      " [[31084 12042]\n",
      " [ 4766 23742]]\n",
      "F1 Score: 0.738567784483295\n",
      "Accuracy: 0.765362816539632\n",
      "Precision: 0.8328188578644591\n",
      "Recall: 0.6634808853118712\n",
      "ROC AUC: 0.7652690340087948\n",
      "Epoch 92 | Train Loss 0.5779482690883534\n"
     ]
    },
    {
     "name": "stderr",
     "output_type": "stream",
     "text": [
      "100%|██████████| 560/560 [01:37<00:00,  5.72it/s]\n"
     ]
    },
    {
     "name": "stdout",
     "output_type": "stream",
     "text": [
      "\n",
      " Confusion matrix: \n",
      " [[31134 12067]\n",
      " [ 4716 23717]]\n",
      "F1 Score: 0.7386517588800473\n",
      "Accuracy: 0.7657118128263115\n",
      "Precision: 0.8341363908134913\n",
      "Recall: 0.6627822490498547\n",
      "ROC AUC: 0.7656170659475214\n",
      "Epoch 93 | Train Loss 0.5783226279275758\n"
     ]
    },
    {
     "name": "stderr",
     "output_type": "stream",
     "text": [
      "100%|██████████| 560/560 [01:38<00:00,  5.71it/s]\n"
     ]
    },
    {
     "name": "stdout",
     "output_type": "stream",
     "text": [
      "\n",
      " Confusion matrix: \n",
      " [[31236 12182]\n",
      " [ 4614 23602]]\n",
      "F1 Score: 0.7375625\n",
      "Accuracy: 0.7655303347572382\n",
      "Precision: 0.8364757584349305\n",
      "Recall: 0.6595685222445786\n",
      "ROC AUC: 0.7654327966871429\n",
      "Epoch 94 | Train Loss 0.579058816869344\n"
     ]
    },
    {
     "name": "stderr",
     "output_type": "stream",
     "text": [
      "100%|██████████| 560/560 [01:38<00:00,  5.71it/s]\n"
     ]
    },
    {
     "name": "stdout",
     "output_type": "stream",
     "text": [
      "\n",
      " Confusion matrix: \n",
      " [[31140 12032]\n",
      " [ 4710 23752]]\n",
      "F1 Score: 0.7394079008809887\n",
      "Accuracy: 0.7662841667364659\n",
      "Precision: 0.8345161970346426\n",
      "Recall: 0.6637603398166778\n",
      "ROC AUC: 0.7661897933393013\n",
      "Epoch 95 | Train Loss 0.5774757537458625\n",
      "[[0.3337515 ]\n",
      " [0.36252496]\n",
      " [0.3162093 ]\n",
      " [0.31468612]\n",
      " [0.31134328]\n",
      " [0.32570732]\n",
      " [0.33650818]\n",
      " [0.7466817 ]\n",
      " [0.3117134 ]\n",
      " [0.3115732 ]]\n",
      "[0. 0. 0. 0. 0. 0. 0. 1. 0. 0.]\n",
      "[0 0 0 0 0 0 0 1 0 0]\n",
      "\n",
      " Confusion matrix: \n",
      " [[3558   70]\n",
      " [ 276   95]]\n",
      "F1 Score: 0.35447761194029853\n",
      "Accuracy: 0.9134783695923981\n",
      "Precision: 0.2560646900269542\n",
      "Recall: 0.5757575757575758\n",
      "ROC AUC: 0.7518850476596954\n",
      "Epoch 95 | Test Loss 0.48153111431747675\n"
     ]
    },
    {
     "name": "stderr",
     "output_type": "stream",
     "text": [
      "100%|██████████| 560/560 [01:37<00:00,  5.72it/s]\n"
     ]
    },
    {
     "name": "stdout",
     "output_type": "stream",
     "text": [
      "\n",
      " Confusion matrix: \n",
      " [[31070 12112]\n",
      " [ 4780 23672]]\n",
      "F1 Score: 0.7370321937854164\n",
      "Accuracy: 0.7641901890163889\n",
      "Precision: 0.8319977505974976\n",
      "Recall: 0.6615247037782249\n",
      "ROC AUC: 0.7640956852224459\n",
      "Epoch 96 | Train Loss 0.5791123459381716\n"
     ]
    },
    {
     "name": "stderr",
     "output_type": "stream",
     "text": [
      "100%|██████████| 560/560 [01:38<00:00,  5.71it/s]\n"
     ]
    },
    {
     "name": "stdout",
     "output_type": "stream",
     "text": [
      "\n",
      " Confusion matrix: \n",
      " [[31014 12079]\n",
      " [ 4836 23705]]\n",
      "F1 Score: 0.7370384764865915\n",
      "Accuracy: 0.7638691124326438\n",
      "Precision: 0.830559545916401\n",
      "Recall: 0.6624469036440868\n",
      "ROC AUC: 0.7637757530772735\n",
      "Epoch 97 | Train Loss 0.5798484445682593\n"
     ]
    },
    {
     "name": "stderr",
     "output_type": "stream",
     "text": [
      "100%|██████████| 560/560 [01:37<00:00,  5.73it/s]\n"
     ]
    },
    {
     "name": "stdout",
     "output_type": "stream",
     "text": [
      "\n",
      " Confusion matrix: \n",
      " [[31200 12118]\n",
      " [ 4650 23666]]\n",
      "F1 Score: 0.738408736349454\n",
      "Accuracy: 0.7659212105983192\n",
      "Precision: 0.8357818900974714\n",
      "Recall: 0.6613570310753409\n",
      "ROC AUC: 0.7658249590523148\n",
      "Epoch 98 | Train Loss 0.5782033606831517\n"
     ]
    },
    {
     "name": "stderr",
     "output_type": "stream",
     "text": [
      "100%|██████████| 560/560 [01:37<00:00,  5.73it/s]\n"
     ]
    },
    {
     "name": "stdout",
     "output_type": "stream",
     "text": [
      "\n",
      " Confusion matrix: \n",
      " [[31111 12116]\n",
      " [ 4739 23668]]\n",
      "F1 Score: 0.7374242495053824\n",
      "Accuracy: 0.7647067035206745\n",
      "Precision: 0.8331749216742352\n",
      "Recall: 0.6614129219763023\n",
      "ROC AUC: 0.7646116213786671\n",
      "Epoch 99 | Train Loss 0.5789577857724257\n"
     ]
    },
    {
     "name": "stderr",
     "output_type": "stream",
     "text": [
      "100%|██████████| 560/560 [01:37<00:00,  5.73it/s]\n"
     ]
    },
    {
     "name": "stdout",
     "output_type": "stream",
     "text": [
      "\n",
      " Confusion matrix: \n",
      " [[31129 12094]\n",
      " [ 4721 23690]]\n",
      "F1 Score: 0.7380637121271127\n",
      "Accuracy: 0.7652650975793618\n",
      "Precision: 0.8338319664918518\n",
      "Recall: 0.6620277218868769\n",
      "ROC AUC: 0.7651700673590591\n",
      "Epoch 100 | Train Loss 0.5795951812927213\n",
      "[[0.37583944]\n",
      " [0.3217409 ]\n",
      " [0.34452656]\n",
      " [0.31362948]\n",
      " [0.31254685]\n",
      " [0.3108663 ]\n",
      " [0.31789652]\n",
      " [0.39216313]\n",
      " [0.31675166]\n",
      " [0.3114099 ]]\n",
      "[0. 0. 0. 0. 0. 0. 0. 0. 0. 0.]\n",
      "[0 0 0 0 0 0 0 0 0 0]\n",
      "\n",
      " Confusion matrix: \n",
      " [[3552   70]\n",
      " [ 282   95]]\n",
      "F1 Score: 0.3505535055350554\n",
      "Accuracy: 0.9119779944986247\n",
      "Precision: 0.2519893899204244\n",
      "Recall: 0.5757575757575758\n",
      "ROC AUC: 0.751102575046237\n",
      "Epoch 100 | Test Loss 0.4796637538820505\n"
     ]
    },
    {
     "name": "stderr",
     "output_type": "stream",
     "text": [
      "100%|██████████| 560/560 [01:37<00:00,  5.72it/s]\n"
     ]
    },
    {
     "name": "stdout",
     "output_type": "stream",
     "text": [
      "\n",
      " Confusion matrix: \n",
      " [[31136 12087]\n",
      " [ 4714 23697]]\n",
      "F1 Score: 0.7382817976477919\n",
      "Accuracy: 0.7654605354999022\n",
      "Precision: 0.8340783499348844\n",
      "Recall: 0.6622233400402414\n",
      "ROC AUC: 0.7653655054455042\n",
      "Epoch 101 | Train Loss 0.5788937396769013\n"
     ]
    },
    {
     "name": "stderr",
     "output_type": "stream",
     "text": [
      "100%|██████████| 560/560 [01:38<00:00,  5.71it/s]\n"
     ]
    },
    {
     "name": "stdout",
     "output_type": "stream",
     "text": [
      "\n",
      " Confusion matrix: \n",
      " [[31146 12088]\n",
      " [ 4704 23696]]\n",
      "F1 Score: 0.7383771656487598\n",
      "Accuracy: 0.7655861741631069\n",
      "Precision: 0.8343661971830986\n",
      "Recall: 0.6621953945897607\n",
      "ROC AUC: 0.7654910027342109\n",
      "Epoch 102 | Train Loss 0.5800722369125911\n"
     ]
    },
    {
     "name": "stderr",
     "output_type": "stream",
     "text": [
      "100%|██████████| 560/560 [01:38<00:00,  5.71it/s]\n"
     ]
    },
    {
     "name": "stdout",
     "output_type": "stream",
     "text": [
      "\n",
      " Confusion matrix: \n",
      " [[31184 12113]\n",
      " [ 4666 23671]]\n",
      "F1 Score: 0.7383228583459397\n",
      "Accuracy: 0.7657676522321802\n",
      "Precision: 0.8353389561350884\n",
      "Recall: 0.6614967583277442\n",
      "ROC AUC: 0.7656716706562012\n",
      "Epoch 103 | Train Loss 0.5789489351745163\n"
     ]
    },
    {
     "name": "stderr",
     "output_type": "stream",
     "text": [
      "100%|██████████| 560/560 [01:37<00:00,  5.74it/s]\n"
     ]
    },
    {
     "name": "stdout",
     "output_type": "stream",
     "text": [
      "\n",
      " Confusion matrix: \n",
      " [[31154 12180]\n",
      " [ 4696 23604]]\n",
      "F1 Score: 0.7366581361962424\n",
      "Accuracy: 0.7644135466398637\n",
      "Precision: 0.8340636042402827\n",
      "Recall: 0.6596244131455399\n",
      "ROC AUC: 0.7643170880232582\n",
      "Epoch 104 | Train Loss 0.578499596832054\n"
     ]
    },
    {
     "name": "stderr",
     "output_type": "stream",
     "text": [
      "100%|██████████| 560/560 [01:38<00:00,  5.71it/s]\n"
     ]
    },
    {
     "name": "stdout",
     "output_type": "stream",
     "text": [
      "\n",
      " Confusion matrix: \n",
      " [[31111 12136]\n",
      " [ 4739 23648]]\n",
      "F1 Score: 0.7370307459755964\n",
      "Accuracy: 0.764427506491331\n",
      "Precision: 0.8330573854229049\n",
      "Recall: 0.660854012966689\n",
      "ROC AUC: 0.7643321668738605\n",
      "Epoch 105 | Train Loss 0.5780931207750525\n",
      "[[0.3190761 ]\n",
      " [0.40115267]\n",
      " [0.31358054]\n",
      " [0.45361   ]\n",
      " [0.31826475]\n",
      " [0.31657094]\n",
      " [0.3149619 ]\n",
      " [0.32294685]\n",
      " [0.31237772]\n",
      " [0.31164613]]\n",
      "[0. 0. 0. 0. 0. 0. 0. 0. 0. 0.]\n",
      "[0 0 0 0 0 0 0 0 0 0]\n",
      "\n",
      " Confusion matrix: \n",
      " [[3576   72]\n",
      " [ 258   93]]\n",
      "F1 Score: 0.3604651162790697\n",
      "Accuracy: 0.9174793698424606\n",
      "Precision: 0.26495726495726496\n",
      "Recall: 0.5636363636363636\n",
      "ROC AUC: 0.7481718594394651\n",
      "Epoch 105 | Test Loss 0.4784134468063712\n"
     ]
    },
    {
     "name": "stderr",
     "output_type": "stream",
     "text": [
      "2024/05/05 04:41:33 WARNING mlflow.utils.environment: Encountered an unexpected error while inferring pip requirements (model URI: C:\\Users\\User\\AppData\\Local\\Temp\\tmpbjfqe5h6\\model\\data, flavor: pytorch). Fall back to return ['torch==2.2.1', 'cloudpickle==2.2.1']. Set logging level to DEBUG to see the full traceback. \n",
      "100%|██████████| 560/560 [01:37<00:00,  5.74it/s]\n"
     ]
    },
    {
     "name": "stdout",
     "output_type": "stream",
     "text": [
      "\n",
      " Confusion matrix: \n",
      " [[31230 12112]\n",
      " [ 4620 23672]]\n",
      "F1 Score: 0.738872588800799\n",
      "Accuracy: 0.7664237652511378\n",
      "Precision: 0.8367029548989113\n",
      "Recall: 0.6615247037782249\n",
      "ROC AUC: 0.7663272054455978\n",
      "Epoch 106 | Train Loss 0.5797693143997874\n"
     ]
    },
    {
     "name": "stderr",
     "output_type": "stream",
     "text": [
      "100%|██████████| 560/560 [01:37<00:00,  5.72it/s]\n"
     ]
    },
    {
     "name": "stdout",
     "output_type": "stream",
     "text": [
      "\n",
      " Confusion matrix: \n",
      " [[31156 12073]\n",
      " [ 4694 23711]]\n",
      "F1 Score: 0.7387870195827946\n",
      "Accuracy: 0.7659351704497864\n",
      "Precision: 0.8347474036261222\n",
      "Recall: 0.6626145763469707\n",
      "ROC AUC: 0.7658400636267629\n",
      "Epoch 107 | Train Loss 0.5798265813716821\n"
     ]
    },
    {
     "name": "stderr",
     "output_type": "stream",
     "text": [
      "100%|██████████| 560/560 [01:37<00:00,  5.71it/s]\n"
     ]
    },
    {
     "name": "stdout",
     "output_type": "stream",
     "text": [
      "\n",
      " Confusion matrix: \n",
      " [[31144 12119]\n",
      " [ 4706 23665]]\n",
      "F1 Score: 0.7377445249785676\n",
      "Accuracy: 0.76512549906469\n",
      "Precision: 0.8341263966726588\n",
      "Recall: 0.6613290856248603\n",
      "ROC AUC: 0.7650299542489714\n",
      "Epoch 108 | Train Loss 0.5781684886131968\n"
     ]
    },
    {
     "name": "stderr",
     "output_type": "stream",
     "text": [
      "100%|██████████| 560/560 [01:37<00:00,  5.73it/s]\n"
     ]
    },
    {
     "name": "stdout",
     "output_type": "stream",
     "text": [
      "\n",
      " Confusion matrix: \n",
      " [[31135 12086]\n",
      " [ 4715 23698]]\n",
      "F1 Score: 0.7382899512438276\n",
      "Accuracy: 0.7654605354999022\n",
      "Precision: 0.834054834054834\n",
      "Recall: 0.6622512854907221\n",
      "ROC AUC: 0.7653655311693499\n",
      "Epoch 109 | Train Loss 0.5789699685892888\n"
     ]
    },
    {
     "name": "stderr",
     "output_type": "stream",
     "text": [
      "100%|██████████| 560/560 [01:37<00:00,  5.71it/s]\n"
     ]
    },
    {
     "name": "stdout",
     "output_type": "stream",
     "text": [
      "\n",
      " Confusion matrix: \n",
      " [[31174 12075]\n",
      " [ 4676 23709]]\n",
      "F1 Score: 0.738954947092833\n",
      "Accuracy: 0.7661585280732613\n",
      "Precision: 0.835265104808878\n",
      "Recall: 0.6625586854460094\n",
      "ROC AUC: 0.7660631642013868\n",
      "Epoch 110 | Train Loss 0.5795301229293858\n",
      "[[0.31569657]\n",
      " [0.31557047]\n",
      " [0.3143049 ]\n",
      " [0.53074425]\n",
      " [0.33228716]\n",
      " [0.32040364]\n",
      " [0.32073286]\n",
      " [0.31976122]\n",
      " [0.31405804]\n",
      " [0.34115398]]\n",
      "[0. 0. 0. 1. 0. 0. 0. 0. 0. 0.]\n",
      "[0 0 0 0 0 0 0 0 0 0]\n",
      "\n",
      " Confusion matrix: \n",
      " [[3555   69]\n",
      " [ 279   96]]\n",
      "F1 Score: 0.35555555555555557\n",
      "Accuracy: 0.9129782445611403\n",
      "Precision: 0.256\n",
      "Recall: 0.5818181818181818\n",
      "ROC AUC: 0.7545241143832693\n",
      "Epoch 110 | Test Loss 0.4825329966843128\n"
     ]
    },
    {
     "name": "stderr",
     "output_type": "stream",
     "text": [
      "100%|██████████| 560/560 [01:38<00:00,  5.69it/s]\n"
     ]
    },
    {
     "name": "stdout",
     "output_type": "stream",
     "text": [
      "\n",
      " Confusion matrix: \n",
      " [[31123 12076]\n",
      " [ 4727 23708]]\n",
      "F1 Score: 0.7383484638502624\n",
      "Accuracy: 0.765432615796968\n",
      "Precision: 0.8337612097766837\n",
      "Recall: 0.6625307399955287\n",
      "ROC AUC: 0.7653378944050168\n",
      "Epoch 111 | Train Loss 0.5763713129396949\n"
     ]
    },
    {
     "name": "stderr",
     "output_type": "stream",
     "text": [
      "100%|██████████| 560/560 [01:37<00:00,  5.73it/s]\n"
     ]
    },
    {
     "name": "stdout",
     "output_type": "stream",
     "text": [
      "\n",
      " Confusion matrix: \n",
      " [[31214 12148]\n",
      " [ 4636 23636]]\n",
      "F1 Score: 0.7379792681403771\n",
      "Accuracy: 0.7656978529748444\n",
      "Precision: 0.8360215053763441\n",
      "Recall: 0.660518667560921\n",
      "ROC AUC: 0.7656010353146308\n",
      "Epoch 112 | Train Loss 0.5788726241460869\n"
     ]
    },
    {
     "name": "stderr",
     "output_type": "stream",
     "text": [
      "100%|██████████| 560/560 [01:38<00:00,  5.71it/s]\n"
     ]
    },
    {
     "name": "stdout",
     "output_type": "stream",
     "text": [
      "\n",
      " Confusion matrix: \n",
      " [[31103 12085]\n",
      " [ 4747 23699]]\n",
      "F1 Score: 0.7379417717577457\n",
      "Accuracy: 0.7650277801044197\n",
      "Precision: 0.8331224073683471\n",
      "Recall: 0.6622792309412028\n",
      "ROC AUC: 0.7649331998499599\n",
      "Epoch 113 | Train Loss 0.5788088939551796\n"
     ]
    },
    {
     "name": "stderr",
     "output_type": "stream",
     "text": [
      "100%|██████████| 560/560 [01:37<00:00,  5.72it/s]\n"
     ]
    },
    {
     "name": "stdout",
     "output_type": "stream",
     "text": [
      "\n",
      " Confusion matrix: \n",
      " [[31166 12093]\n",
      " [ 4684 23691]]\n",
      "F1 Score: 0.738509016661731\n",
      "Accuracy: 0.7657955719351146\n",
      "Precision: 0.8349251101321586\n",
      "Recall: 0.6620556673373574\n",
      "ROC AUC: 0.7657000791359032\n",
      "Epoch 114 | Train Loss 0.5767615181526967\n"
     ]
    },
    {
     "name": "stderr",
     "output_type": "stream",
     "text": [
      "100%|██████████| 560/560 [01:37<00:00,  5.74it/s]\n"
     ]
    },
    {
     "name": "stdout",
     "output_type": "stream",
     "text": [
      "\n",
      " Confusion matrix: \n",
      " [[31173 12083]\n",
      " [ 4677 23701]]\n",
      "F1 Score: 0.7387861974377357\n",
      "Accuracy: 0.7660328894100566\n",
      "Precision: 0.8351892310945098\n",
      "Recall: 0.6623351218421641\n",
      "ROC AUC: 0.7659374353980695\n",
      "Epoch 115 | Train Loss 0.5798563754452126\n",
      "[[0.3146133 ]\n",
      " [0.31186393]\n",
      " [0.39914605]\n",
      " [0.32933885]\n",
      " [0.31767893]\n",
      " [0.6706853 ]\n",
      " [0.5481671 ]\n",
      " [0.3216714 ]\n",
      " [0.31310168]\n",
      " [0.31657776]]\n",
      "[0. 0. 0. 0. 0. 1. 1. 0. 0. 0.]\n",
      "[0 0 0 0 0 0 0 0 0 0]\n",
      "\n",
      " Confusion matrix: \n",
      " [[3567   73]\n",
      " [ 267   92]]\n",
      "F1 Score: 0.35114503816793896\n",
      "Accuracy: 0.9149787446861716\n",
      "Precision: 0.2562674094707521\n",
      "Recall: 0.5575757575757576\n",
      "ROC AUC: 0.7439678474889743\n",
      "Epoch 115 | Test Loss 0.4781075157225132\n"
     ]
    },
    {
     "name": "stderr",
     "output_type": "stream",
     "text": [
      "2024/05/05 04:58:08 WARNING mlflow.utils.environment: Encountered an unexpected error while inferring pip requirements (model URI: C:\\Users\\User\\AppData\\Local\\Temp\\tmpunkrzkbg\\model\\data, flavor: pytorch). Fall back to return ['torch==2.2.1', 'cloudpickle==2.2.1']. Set logging level to DEBUG to see the full traceback. \n",
      "100%|██████████| 560/560 [01:38<00:00,  5.69it/s]\n"
     ]
    },
    {
     "name": "stdout",
     "output_type": "stream",
     "text": [
      "\n",
      " Confusion matrix: \n",
      " [[31127 12099]\n",
      " [ 4723 23685]]\n",
      "F1 Score: 0.7379424227318045\n",
      "Accuracy: 0.7651673786190915\n",
      "Precision: 0.8337440157702056\n",
      "Recall: 0.6618879946344735\n",
      "ROC AUC: 0.765072309730068\n",
      "Epoch 116 | Train Loss 0.5777407485991717\n"
     ]
    },
    {
     "name": "stderr",
     "output_type": "stream",
     "text": [
      "100%|██████████| 560/560 [01:38<00:00,  5.67it/s]\n"
     ]
    },
    {
     "name": "stdout",
     "output_type": "stream",
     "text": [
      "\n",
      " Confusion matrix: \n",
      " [[31171 12178]\n",
      " [ 4679 23606]]\n",
      "F1 Score: 0.736893037194275\n",
      "Accuracy: 0.7646787838177401\n",
      "Precision: 0.834576630722998\n",
      "Recall: 0.6596803040465012\n",
      "ROC AUC: 0.7645821324974487\n",
      "Epoch 117 | Train Loss 0.5793151939553874\n"
     ]
    },
    {
     "name": "stderr",
     "output_type": "stream",
     "text": [
      "100%|██████████| 560/560 [01:38<00:00,  5.67it/s]\n"
     ]
    },
    {
     "name": "stdout",
     "output_type": "stream",
     "text": [
      "\n",
      " Confusion matrix: \n",
      " [[31129 12096]\n",
      " [ 4721 23688]]\n",
      "F1 Score: 0.7380243951832756\n",
      "Accuracy: 0.7652371778764274\n",
      "Precision: 0.8338202682248583\n",
      "Recall: 0.6619718309859155\n",
      "ROC AUC: 0.7651421219085784\n",
      "Epoch 118 | Train Loss 0.5776138976216316\n"
     ]
    },
    {
     "name": "stderr",
     "output_type": "stream",
     "text": [
      "100%|██████████| 560/560 [01:38<00:00,  5.67it/s]\n"
     ]
    },
    {
     "name": "stdout",
     "output_type": "stream",
     "text": [
      "\n",
      " Confusion matrix: \n",
      " [[31224 12054]\n",
      " [ 4626 23730]]\n",
      "F1 Score: 0.7399438727782974\n",
      "Accuracy: 0.7671496775274311\n",
      "Precision: 0.8368599238256453\n",
      "Recall: 0.6631455399061033\n",
      "ROC AUC: 0.7670539415011688\n",
      "Epoch 119 | Train Loss 0.5760394100099802\n"
     ]
    },
    {
     "name": "stderr",
     "output_type": "stream",
     "text": [
      "100%|██████████| 560/560 [01:38<00:00,  5.67it/s]\n"
     ]
    },
    {
     "name": "stdout",
     "output_type": "stream",
     "text": [
      "\n",
      " Confusion matrix: \n",
      " [[31111 12053]\n",
      " [ 4739 23731]]\n",
      "F1 Score: 0.7386621844554423\n",
      "Accuracy: 0.7655861741631069\n",
      "Precision: 0.8335440814892869\n",
      "Recall: 0.6631734853565839\n",
      "ROC AUC: 0.765491903068808\n",
      "Epoch 120 | Train Loss 0.5799134453492505\n",
      "[[0.31881884]\n",
      " [0.39629203]\n",
      " [0.85688144]\n",
      " [0.3355302 ]\n",
      " [0.40845862]\n",
      " [0.6289921 ]\n",
      " [0.3199279 ]\n",
      " [0.3153459 ]\n",
      " [0.3120693 ]\n",
      " [0.32206655]]\n",
      "[0. 0. 1. 0. 0. 1. 0. 0. 0. 0.]\n",
      "[0 0 0 0 0 0 0 0 0 0]\n",
      "\n",
      " Confusion matrix: \n",
      " [[3555   69]\n",
      " [ 279   96]]\n",
      "F1 Score: 0.35555555555555557\n",
      "Accuracy: 0.9129782445611403\n",
      "Precision: 0.256\n",
      "Recall: 0.5818181818181818\n",
      "ROC AUC: 0.7545241143832693\n",
      "Epoch 120 | Test Loss 0.48019166104495525\n"
     ]
    },
    {
     "name": "stderr",
     "output_type": "stream",
     "text": [
      "  9%|▉         | 51/560 [00:08<01:41,  5.02it/s]"
     ]
    }
   ],
   "source": [
    "def count_parameters(model):\n",
    "    return sum(p.numel() for p in model.parameters() if p.requires_grad)\n",
    "\n",
    "\n",
    "def train_one_epoch(epoch, model, train_loader, optimizer, loss_fn):\n",
    "    \n",
    "    all_preds = []\n",
    "    all_labels = []\n",
    "    running_loss = 0.0\n",
    "    step = 0\n",
    "    for _, batch in enumerate(tqdm(train_loader)):\n",
    "        \n",
    "        batch.to(device)  \n",
    "        \n",
    "        optimizer.zero_grad() \n",
    "        \n",
    "        pred = model(batch.x.float(), \n",
    "                                batch.edge_attr.float(),\n",
    "                                batch.edge_index, \n",
    "                                batch.batch) \n",
    "        \n",
    "        loss = loss_fn(torch.squeeze(pred), batch.y.float())\n",
    "        loss.backward()  \n",
    "        optimizer.step()  \n",
    "        \n",
    "        running_loss += loss.item()\n",
    "        step += 1\n",
    "        all_preds.append(np.rint(torch.sigmoid(pred).cpu().detach().numpy()))\n",
    "        all_labels.append(batch.y.cpu().detach().numpy())\n",
    "    all_preds = np.concatenate(all_preds).ravel()\n",
    "    all_labels = np.concatenate(all_labels).ravel()\n",
    "    calculate_metrics(all_preds, all_labels, epoch, \"train\")\n",
    "    return running_loss/step\n",
    "\n",
    "def test(epoch, model, test_loader, loss_fn):\n",
    "    all_preds = []\n",
    "    all_preds_raw = []\n",
    "    all_labels = []\n",
    "    running_loss = 0.0\n",
    "    step = 0\n",
    "    for batch in test_loader:\n",
    "        batch.to(device)  \n",
    "        pred = model(batch.x.float(), \n",
    "                        batch.edge_attr.float(),\n",
    "                        batch.edge_index, \n",
    "                        batch.batch) \n",
    "        loss = loss_fn(torch.squeeze(pred), batch.y.float())\n",
    "\n",
    "        running_loss += loss.item()\n",
    "        step += 1\n",
    "        all_preds.append(np.rint(torch.sigmoid(pred).cpu().detach().numpy()))\n",
    "        all_preds_raw.append(torch.sigmoid(pred).cpu().detach().numpy())\n",
    "        all_labels.append(batch.y.cpu().detach().numpy())\n",
    "    \n",
    "    all_preds = np.concatenate(all_preds).ravel()\n",
    "    all_labels = np.concatenate(all_labels).ravel()\n",
    "    print(all_preds_raw[0][:10])\n",
    "    print(all_preds[:10])\n",
    "    print(all_labels[:10])\n",
    "    calculate_metrics(all_preds, all_labels, epoch, \"test\")\n",
    "    log_conf_matrix(all_preds, all_labels, epoch)\n",
    "    return running_loss/step\n",
    "\n",
    "def log_conf_matrix(y_pred, y_true, epoch):\n",
    "    \n",
    "    file_path = f'images/cm_{epoch}.png'\n",
    "    cm = confusion_matrix(y_pred, y_true)\n",
    "    classes = [\"0\", \"1\"]\n",
    "    df_cfm = pd.DataFrame(cm, index = classes, columns = classes)\n",
    "    plt.figure(figsize = (10,7))\n",
    "    cfm_plot = sns.heatmap(df_cfm, annot=True, cmap='Blues', fmt='g')\n",
    "    cfm_plot.figure.savefig(file_path)\n",
    "    if(os.path.exists(file_path)):\n",
    "        mlflow.log_artifact(f\"images/cm_{epoch}.png\")\n",
    "    else:\n",
    "        print(\"image not found\")\n",
    "    \n",
    "\n",
    "def calculate_metrics(y_pred, y_true, epoch, type):\n",
    "    print(f\"\\n Confusion matrix: \\n {confusion_matrix(y_pred, y_true)}\")\n",
    "    print(f\"F1 Score: {f1_score(y_true, y_pred)}\")\n",
    "    accuracy = accuracy_score(y_true, y_pred)\n",
    "    print(f\"Accuracy: {accuracy}\")\n",
    "    prec = precision_score(y_true, y_pred)\n",
    "    rec = recall_score(y_true, y_pred)\n",
    "    print(f\"Precision: {prec}\")\n",
    "    print(f\"Recall: {rec}\")\n",
    "    mlflow.log_metric(key=f\"Precision-{type}\", value=float(prec), step=epoch)\n",
    "    mlflow.log_metric(key=f\"Recall-{type}\", value=float(rec), step=epoch)\n",
    "    mlflow.log_metric(key=f\"Accuracy-{type}\", value=float(accuracy), step=epoch)\n",
    "    try:\n",
    "        roc = roc_auc_score(y_true, y_pred)\n",
    "        print(f\"ROC AUC: {roc}\")\n",
    "        mlflow.log_metric(key=f\"ROC-AUC-{type}\", value=float(roc), step=epoch)\n",
    "    except:\n",
    "        mlflow.log_metric(key=f\"ROC-AUC-{type}\", value=float(0), step=epoch)\n",
    "        print(f\"ROC AUC: notdefined\")\n",
    "\n",
    "\n",
    "from mango import scheduler, tuner\n",
    "from mango.tuner import Tuner\n",
    "from config import HYPERPARAMETERS, BEST_PARAMETERS,SIGNATURE\n",
    "\n",
    "def run_one_training(params):\n",
    "    params = params[0]\n",
    "    with mlflow.start_run() as run:\n",
    "        \n",
    "        for key in params.keys():\n",
    "            mlflow.log_param(key, params[key])\n",
    "\n",
    "        \n",
    "        train_dataset = MoleculeDataset(root=\"data/\", filename=\"HIV_train_oversampled.csv\")\n",
    "        test_dataset = MoleculeDataset(root=\"data/\", filename=\"HIV_test.csv\", test=True)\n",
    "        params[\"model_edge_dim\"] = train_dataset[0].edge_attr.shape[1]\n",
    "\n",
    "        \n",
    "        train_loader = DataLoader(train_dataset, batch_size=params[\"batch_size\"], shuffle=True)\n",
    "        test_loader = DataLoader(test_dataset, batch_size=params[\"batch_size\"], shuffle=True)\n",
    "\n",
    "        \n",
    "        model_params = {k: v for k, v in params.items() if k.startswith(\"model_\")}\n",
    "        model = GNN(feature_size=train_dataset[0].x.shape[1], model_params=model_params) \n",
    "        model = model.to(device)\n",
    "        print(f\"Number of parameters: {count_parameters(model)}\")\n",
    "        mlflow.log_param(\"num_params\", count_parameters(model))\n",
    "\n",
    "    \n",
    "        weight = torch.tensor([params[\"pos_weight\"]], dtype=torch.float32).to(device)\n",
    "        loss_fn = torch.nn.BCEWithLogitsLoss(pos_weight=weight)\n",
    "        optimizer = torch.optim.SGD(model.parameters(), \n",
    "                                    lr=params[\"learning_rate\"],\n",
    "                                    momentum=params[\"sgd_momentum\"],\n",
    "                                    weight_decay=params[\"weight_decay\"])\n",
    "        scheduler = torch.optim.lr_scheduler.ExponentialLR(optimizer, gamma=params[\"scheduler_gamma\"])\n",
    "        \n",
    "        \n",
    "        best_loss = 1000\n",
    "        early_stopping_counter = 0\n",
    "        for epoch in range(300): \n",
    "            if early_stopping_counter <= 10: \n",
    "                \n",
    "                model.train()\n",
    "                loss = train_one_epoch(epoch, model, train_loader, optimizer, loss_fn)\n",
    "                print(f\"Epoch {epoch} | Train Loss {loss}\")\n",
    "                mlflow.log_metric(key=\"Train loss\", value=float(loss), step=epoch)\n",
    "\n",
    "                \n",
    "                model.eval()\n",
    "                if epoch % 5 == 0:\n",
    "                    loss = test(epoch, model, test_loader, loss_fn)\n",
    "                    print(f\"Epoch {epoch} | Test Loss {loss}\")\n",
    "                    mlflow.log_metric(key=\"Test loss\", value=float(loss), step=epoch)\n",
    "                    \n",
    "                    \n",
    "                    if float(loss) < best_loss:\n",
    "                        best_loss = loss\n",
    "                        \n",
    "                        mlflow.pytorch.log_model(model, \"model\", signature=SIGNATURE)\n",
    "                        early_stopping_counter = 0\n",
    "                    else:\n",
    "                        early_stopping_counter += 1\n",
    "\n",
    "                scheduler.step()\n",
    "            else:\n",
    "                \n",
    "                return [best_loss]\n",
    "    print(f\"Finishing training with best test loss: {best_loss}\")\n",
    "    return [best_loss]\n",
    "\n",
    "\n",
    "\n",
    "config = dict()\n",
    "config[\"optimizer\"] = \"Bayesian\"\n",
    "config[\"num_iteration\"] = 100\n",
    "\n",
    "tuner = Tuner(BEST_PARAMETERS, \n",
    "              objective=run_one_training,\n",
    "              conf_dict=config) \n",
    "results = tuner.minimize()"
   ]
  },
  {
   "cell_type": "code",
   "execution_count": null,
   "id": "405938ee",
   "metadata": {},
   "outputs": [],
   "source": []
  },
  {
   "cell_type": "code",
   "execution_count": null,
   "id": "e5f0f216",
   "metadata": {},
   "outputs": [],
   "source": []
  }
 ],
 "metadata": {
  "kernelspec": {
   "display_name": "Python 3 (ipykernel)",
   "language": "python",
   "name": "python3"
  },
  "language_info": {
   "codemirror_mode": {
    "name": "ipython",
    "version": 3
   },
   "file_extension": ".py",
   "mimetype": "text/x-python",
   "name": "python",
   "nbconvert_exporter": "python",
   "pygments_lexer": "ipython3",
   "version": "3.11.5"
  }
 },
 "nbformat": 4,
 "nbformat_minor": 5
}
