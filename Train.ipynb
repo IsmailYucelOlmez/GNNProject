{
 "cells": [
  {
   "cell_type": "code",
   "execution_count": 6,
   "id": "1f237f9c",
   "metadata": {},
   "outputs": [],
   "source": [
    "import torch \n",
    "from torch_geometric.data import DataLoader\n",
    "from sklearn.metrics import confusion_matrix, f1_score, \\\n",
    "    accuracy_score, precision_score, recall_score, roc_auc_score\n",
    "import numpy as np\n",
    "from tqdm import tqdm\n",
    "import import_ipynb\n",
    "from Dataset import MoleculeDataset \n",
    "from Model import GNN\n",
    "import mlflow.pytorchnp\n",
    "\n",
    "device = torch.device(\"cuda:0\" if torch.cuda.is_available() else \"cpu\")\n",
    "\n",
    "mlflow.set_tracking_uri(\"http://localhost:5000\")\n"
   ]
  },
  {
   "cell_type": "code",
   "execution_count": null,
   "id": "6e0d68a8",
   "metadata": {},
   "outputs": [
    {
     "name": "stdout",
     "output_type": "stream",
     "text": [
      "Running hyperparameter search...\n",
      "Loading dataset...\n",
      "Loading model...\n",
      "Number of parameters: 33137\n"
     ]
    },
    {
     "name": "stderr",
     "output_type": "stream",
     "text": [
      "100%|██████████| 1286/1286 [00:49<00:00, 25.74it/s]\n"
     ]
    },
    {
     "name": "stdout",
     "output_type": "stream",
     "text": [
      "\n",
      " Confusion matrix: \n",
      " [[39064  1422]\n",
      " [  620    21]]\n",
      "F1 Score: 0.02015355086372361\n",
      "Accuracy: 0.9503489192014978\n",
      "Precision: 0.0327613104524181\n",
      "Recall: 0.014553014553014554\n",
      "ROC AUC: 0.49946479474752836\n",
      "Epoch 0 | Train Loss 0.2668248330203825\n",
      "[[0.16080391]\n",
      " [0.14538158]\n",
      " [0.1551345 ]\n",
      " [0.16296472]\n",
      " [0.1430269 ]\n",
      " [0.13044773]\n",
      " [0.17981192]\n",
      " [0.0990032 ]\n",
      " [0.14161502]\n",
      " [0.13394845]]\n",
      "[0. 0. 0. 0. 0. 0. 0. 0. 0. 0.]\n",
      "[0 0 0 0 0 0 0 0 0 0]\n",
      "\n",
      " Confusion matrix: \n",
      " [[39684  1443]\n",
      " [    0     0]]\n",
      "F1 Score: 0.0\n",
      "Accuracy: 0.9649135604347508\n",
      "Precision: 0.0\n",
      "Recall: 0.0\n",
      "ROC AUC: 0.5\n",
      "Epoch 0 | Test Loss 0.2262515065319616\n"
     ]
    },
    {
     "name": "stderr",
     "output_type": "stream",
     "text": [
      "2024/04/24 20:00:42 WARNING mlflow.utils.environment: Encountered an unexpected error while inferring pip requirements (model URI: C:\\Users\\User\\AppData\\Local\\Temp\\tmp_ydx5gml\\model\\data, flavor: pytorch). Fall back to return ['torch==2.2.1', 'cloudpickle==2.2.1']. Set logging level to DEBUG to see the full traceback. \n",
      "100%|██████████| 1286/1286 [00:50<00:00, 25.55it/s]\n"
     ]
    },
    {
     "name": "stdout",
     "output_type": "stream",
     "text": [
      "\n",
      " Confusion matrix: \n",
      " [[39684  1443]\n",
      " [    0     0]]\n",
      "F1 Score: 0.0\n",
      "Accuracy: 0.9649135604347508\n",
      "Precision: 0.0\n",
      "Recall: 0.0\n",
      "ROC AUC: 0.5\n",
      "Epoch 1 | Train Loss 0.20674607478383447\n"
     ]
    },
    {
     "name": "stderr",
     "output_type": "stream",
     "text": [
      "100%|██████████| 1286/1286 [00:50<00:00, 25.35it/s]\n"
     ]
    },
    {
     "name": "stdout",
     "output_type": "stream",
     "text": [
      "\n",
      " Confusion matrix: \n",
      " [[39684  1443]\n",
      " [    0     0]]\n",
      "F1 Score: 0.0\n",
      "Accuracy: 0.9649135604347508\n",
      "Precision: 0.0\n",
      "Recall: 0.0\n",
      "ROC AUC: 0.5\n",
      "Epoch 2 | Train Loss 0.18988362468582104\n"
     ]
    },
    {
     "name": "stderr",
     "output_type": "stream",
     "text": [
      "100%|██████████| 1286/1286 [00:51<00:00, 24.99it/s]\n"
     ]
    },
    {
     "name": "stdout",
     "output_type": "stream",
     "text": [
      "\n",
      " Confusion matrix: \n",
      " [[39684  1443]\n",
      " [    0     0]]\n",
      "F1 Score: 0.0\n",
      "Accuracy: 0.9649135604347508\n",
      "Precision: 0.0\n",
      "Recall: 0.0\n",
      "ROC AUC: 0.5\n",
      "Epoch 3 | Train Loss 0.17764518688639994\n"
     ]
    },
    {
     "name": "stderr",
     "output_type": "stream",
     "text": [
      "100%|██████████| 1286/1286 [00:50<00:00, 25.31it/s]\n"
     ]
    },
    {
     "name": "stdout",
     "output_type": "stream",
     "text": [
      "\n",
      " Confusion matrix: \n",
      " [[39684  1443]\n",
      " [    0     0]]\n",
      "F1 Score: 0.0\n",
      "Accuracy: 0.9649135604347508\n",
      "Precision: 0.0\n",
      "Recall: 0.0\n",
      "ROC AUC: 0.5\n",
      "Epoch 4 | Train Loss 0.17305404676666156\n"
     ]
    },
    {
     "name": "stderr",
     "output_type": "stream",
     "text": [
      "100%|██████████| 1286/1286 [00:51<00:00, 24.73it/s]\n"
     ]
    },
    {
     "name": "stdout",
     "output_type": "stream",
     "text": [
      "\n",
      " Confusion matrix: \n",
      " [[39684  1443]\n",
      " [    0     0]]\n",
      "F1 Score: 0.0\n",
      "Accuracy: 0.9649135604347508\n",
      "Precision: 0.0\n",
      "Recall: 0.0\n",
      "ROC AUC: 0.5\n",
      "Epoch 5 | Train Loss 0.16727635769889013\n",
      "[[0.06773974]\n",
      " [0.10751171]\n",
      " [0.05739827]\n",
      " [0.06013353]\n",
      " [0.07677156]\n",
      " [0.06829631]\n",
      " [0.08466428]\n",
      " [0.07414608]\n",
      " [0.09273242]\n",
      " [0.06587753]]\n",
      "[0. 0. 0. 0. 0. 0. 0. 0. 0. 0.]\n",
      "[1 0 0 0 0 0 0 0 0 0]\n",
      "\n",
      " Confusion matrix: \n",
      " [[39684  1443]\n",
      " [    0     0]]\n",
      "F1 Score: 0.0\n",
      "Accuracy: 0.9649135604347508\n",
      "Precision: 0.0\n",
      "Recall: 0.0\n",
      "ROC AUC: 0.5\n",
      "Epoch 5 | Test Loss 0.16039109892830322\n"
     ]
    },
    {
     "name": "stderr",
     "output_type": "stream",
     "text": [
      "2024/04/24 20:05:38 WARNING mlflow.utils.environment: Encountered an unexpected error while inferring pip requirements (model URI: C:\\Users\\User\\AppData\\Local\\Temp\\tmp1mow5cjb\\model\\data, flavor: pytorch). Fall back to return ['torch==2.2.1', 'cloudpickle==2.2.1']. Set logging level to DEBUG to see the full traceback. \n",
      "100%|██████████| 1286/1286 [00:51<00:00, 24.96it/s]\n"
     ]
    },
    {
     "name": "stdout",
     "output_type": "stream",
     "text": [
      "\n",
      " Confusion matrix: \n",
      " [[39684  1443]\n",
      " [    0     0]]\n",
      "F1 Score: 0.0\n",
      "Accuracy: 0.9649135604347508\n",
      "Precision: 0.0\n",
      "Recall: 0.0\n",
      "ROC AUC: 0.5\n",
      "Epoch 6 | Train Loss 0.16449265194474538\n"
     ]
    },
    {
     "name": "stderr",
     "output_type": "stream",
     "text": [
      "100%|██████████| 1286/1286 [00:50<00:00, 25.29it/s]\n"
     ]
    },
    {
     "name": "stdout",
     "output_type": "stream",
     "text": [
      "\n",
      " Confusion matrix: \n",
      " [[39684  1443]\n",
      " [    0     0]]\n",
      "F1 Score: 0.0\n",
      "Accuracy: 0.9649135604347508\n",
      "Precision: 0.0\n",
      "Recall: 0.0\n",
      "ROC AUC: 0.5\n",
      "Epoch 7 | Train Loss 0.16328275700217088\n"
     ]
    },
    {
     "name": "stderr",
     "output_type": "stream",
     "text": [
      "100%|██████████| 1286/1286 [00:52<00:00, 24.57it/s]\n"
     ]
    },
    {
     "name": "stdout",
     "output_type": "stream",
     "text": [
      "\n",
      " Confusion matrix: \n",
      " [[39684  1443]\n",
      " [    0     0]]\n",
      "F1 Score: 0.0\n",
      "Accuracy: 0.9649135604347508\n",
      "Precision: 0.0\n",
      "Recall: 0.0\n",
      "ROC AUC: 0.5\n",
      "Epoch 8 | Train Loss 0.15909959797633008\n"
     ]
    },
    {
     "name": "stderr",
     "output_type": "stream",
     "text": [
      "100%|██████████| 1286/1286 [00:53<00:00, 24.04it/s]\n"
     ]
    },
    {
     "name": "stdout",
     "output_type": "stream",
     "text": [
      "\n",
      " Confusion matrix: \n",
      " [[39684  1443]\n",
      " [    0     0]]\n",
      "F1 Score: 0.0\n",
      "Accuracy: 0.9649135604347508\n",
      "Precision: 0.0\n",
      "Recall: 0.0\n",
      "ROC AUC: 0.5\n",
      "Epoch 9 | Train Loss 0.1576280578113455\n"
     ]
    },
    {
     "name": "stderr",
     "output_type": "stream",
     "text": [
      "100%|██████████| 1286/1286 [00:51<00:00, 24.77it/s]\n"
     ]
    },
    {
     "name": "stdout",
     "output_type": "stream",
     "text": [
      "\n",
      " Confusion matrix: \n",
      " [[39684  1443]\n",
      " [    0     0]]\n",
      "F1 Score: 0.0\n",
      "Accuracy: 0.9649135604347508\n",
      "Precision: 0.0\n",
      "Recall: 0.0\n",
      "ROC AUC: 0.5\n",
      "Epoch 10 | Train Loss 0.15727885789056867\n",
      "[[0.05781325]\n",
      " [0.05872874]\n",
      " [0.04750323]\n",
      " [0.07448643]\n",
      " [0.03571719]\n",
      " [0.08424575]\n",
      " [0.03800564]\n",
      " [0.03674357]\n",
      " [0.06914573]\n",
      " [0.04873258]]\n",
      "[0. 0. 0. 0. 0. 0. 0. 0. 0. 0.]\n",
      "[0 0 0 0 0 1 0 0 0 0]\n",
      "\n",
      " Confusion matrix: \n",
      " [[39684  1443]\n",
      " [    0     0]]\n",
      "F1 Score: 0.0\n",
      "Accuracy: 0.9649135604347508\n",
      "Precision: 0.0\n",
      "Recall: 0.0\n",
      "ROC AUC: 0.5\n",
      "Epoch 10 | Test Loss 0.15311741014337094\n"
     ]
    },
    {
     "name": "stderr",
     "output_type": "stream",
     "text": [
      "2024/04/24 20:10:36 WARNING mlflow.utils.environment: Encountered an unexpected error while inferring pip requirements (model URI: C:\\Users\\User\\AppData\\Local\\Temp\\tmp9mzcnw8j\\model\\data, flavor: pytorch). Fall back to return ['torch==2.2.1', 'cloudpickle==2.2.1']. Set logging level to DEBUG to see the full traceback. \n",
      "100%|██████████| 1286/1286 [00:49<00:00, 25.85it/s]\n"
     ]
    },
    {
     "name": "stdout",
     "output_type": "stream",
     "text": [
      "\n",
      " Confusion matrix: \n",
      " [[39684  1443]\n",
      " [    0     0]]\n",
      "F1 Score: 0.0\n",
      "Accuracy: 0.9649135604347508\n",
      "Precision: 0.0\n",
      "Recall: 0.0\n",
      "ROC AUC: 0.5\n",
      "Epoch 11 | Train Loss 0.15605068507185713\n"
     ]
    },
    {
     "name": "stderr",
     "output_type": "stream",
     "text": [
      "100%|██████████| 1286/1286 [00:49<00:00, 25.78it/s]\n"
     ]
    },
    {
     "name": "stdout",
     "output_type": "stream",
     "text": [
      "\n",
      " Confusion matrix: \n",
      " [[39684  1443]\n",
      " [    0     0]]\n",
      "F1 Score: 0.0\n",
      "Accuracy: 0.9649135604347508\n",
      "Precision: 0.0\n",
      "Recall: 0.0\n",
      "ROC AUC: 0.5\n",
      "Epoch 12 | Train Loss 0.1551374804408146\n"
     ]
    },
    {
     "name": "stderr",
     "output_type": "stream",
     "text": [
      "100%|██████████| 1286/1286 [00:49<00:00, 25.98it/s]\n"
     ]
    },
    {
     "name": "stdout",
     "output_type": "stream",
     "text": [
      "\n",
      " Confusion matrix: \n",
      " [[39684  1443]\n",
      " [    0     0]]\n",
      "F1 Score: 0.0\n",
      "Accuracy: 0.9649135604347508\n",
      "Precision: 0.0\n",
      "Recall: 0.0\n",
      "ROC AUC: 0.5\n",
      "Epoch 13 | Train Loss 0.15402306419323614\n"
     ]
    },
    {
     "name": "stderr",
     "output_type": "stream",
     "text": [
      "100%|██████████| 1286/1286 [00:50<00:00, 25.47it/s]\n"
     ]
    },
    {
     "name": "stdout",
     "output_type": "stream",
     "text": [
      "\n",
      " Confusion matrix: \n",
      " [[39684  1443]\n",
      " [    0     0]]\n",
      "F1 Score: 0.0\n",
      "Accuracy: 0.9649135604347508\n",
      "Precision: 0.0\n",
      "Recall: 0.0\n",
      "ROC AUC: 0.5\n",
      "Epoch 14 | Train Loss 0.1536769873374265\n"
     ]
    },
    {
     "name": "stderr",
     "output_type": "stream",
     "text": [
      "100%|██████████| 1286/1286 [00:49<00:00, 25.91it/s]\n"
     ]
    },
    {
     "name": "stdout",
     "output_type": "stream",
     "text": [
      "\n",
      " Confusion matrix: \n",
      " [[39684  1443]\n",
      " [    0     0]]\n",
      "F1 Score: 0.0\n",
      "Accuracy: 0.9649135604347508\n",
      "Precision: 0.0\n",
      "Recall: 0.0\n",
      "ROC AUC: 0.5\n",
      "Epoch 15 | Train Loss 0.15248282358316853\n",
      "[[0.0520501 ]\n",
      " [0.06328867]\n",
      " [0.05264958]\n",
      " [0.05451255]\n",
      " [0.05720855]\n",
      " [0.02522838]\n",
      " [0.0467067 ]\n",
      " [0.03620232]\n",
      " [0.06178212]\n",
      " [0.05691405]]\n",
      "[0. 0. 0. 0. 0. 0. 0. 0. 0. 0.]\n",
      "[0 0 0 0 0 0 0 0 0 0]\n",
      "\n",
      " Confusion matrix: \n",
      " [[39684  1443]\n",
      " [    0     0]]\n",
      "F1 Score: 0.0\n",
      "Accuracy: 0.9649135604347508\n",
      "Precision: 0.0\n",
      "Recall: 0.0\n",
      "ROC AUC: 0.5\n",
      "Epoch 15 | Test Loss 0.1497500517968998\n"
     ]
    },
    {
     "name": "stderr",
     "output_type": "stream",
     "text": [
      "2024/04/24 20:15:24 WARNING mlflow.utils.environment: Encountered an unexpected error while inferring pip requirements (model URI: C:\\Users\\User\\AppData\\Local\\Temp\\tmpmco4saiy\\model\\data, flavor: pytorch). Fall back to return ['torch==2.2.1', 'cloudpickle==2.2.1']. Set logging level to DEBUG to see the full traceback. \n",
      "100%|██████████| 1286/1286 [00:49<00:00, 26.02it/s]\n"
     ]
    },
    {
     "name": "stdout",
     "output_type": "stream",
     "text": [
      "\n",
      " Confusion matrix: \n",
      " [[39684  1443]\n",
      " [    0     0]]\n",
      "F1 Score: 0.0\n",
      "Accuracy: 0.9649135604347508\n",
      "Precision: 0.0\n",
      "Recall: 0.0\n",
      "ROC AUC: 0.5\n",
      "Epoch 16 | Train Loss 0.15152271837285758\n"
     ]
    },
    {
     "name": "stderr",
     "output_type": "stream",
     "text": [
      "100%|██████████| 1286/1286 [00:49<00:00, 25.84it/s]\n"
     ]
    },
    {
     "name": "stdout",
     "output_type": "stream",
     "text": [
      "\n",
      " Confusion matrix: \n",
      " [[39684  1443]\n",
      " [    0     0]]\n",
      "F1 Score: 0.0\n",
      "Accuracy: 0.9649135604347508\n",
      "Precision: 0.0\n",
      "Recall: 0.0\n",
      "ROC AUC: 0.5\n",
      "Epoch 17 | Train Loss 0.15164173137495066\n"
     ]
    },
    {
     "name": "stderr",
     "output_type": "stream",
     "text": [
      "100%|██████████| 1286/1286 [00:49<00:00, 25.98it/s]\n"
     ]
    },
    {
     "name": "stdout",
     "output_type": "stream",
     "text": [
      "\n",
      " Confusion matrix: \n",
      " [[39684  1443]\n",
      " [    0     0]]\n",
      "F1 Score: 0.0\n",
      "Accuracy: 0.9649135604347508\n",
      "Precision: 0.0\n",
      "Recall: 0.0\n",
      "ROC AUC: 0.5\n",
      "Epoch 18 | Train Loss 0.15112119193824694\n"
     ]
    },
    {
     "name": "stderr",
     "output_type": "stream",
     "text": [
      "100%|██████████| 1286/1286 [00:49<00:00, 26.02it/s]\n"
     ]
    },
    {
     "name": "stdout",
     "output_type": "stream",
     "text": [
      "\n",
      " Confusion matrix: \n",
      " [[39684  1443]\n",
      " [    0     0]]\n",
      "F1 Score: 0.0\n",
      "Accuracy: 0.9649135604347508\n",
      "Precision: 0.0\n",
      "Recall: 0.0\n",
      "ROC AUC: 0.5\n",
      "Epoch 19 | Train Loss 0.1517655519423876\n"
     ]
    },
    {
     "name": "stderr",
     "output_type": "stream",
     "text": [
      "100%|██████████| 1286/1286 [00:50<00:00, 25.64it/s]\n"
     ]
    },
    {
     "name": "stdout",
     "output_type": "stream",
     "text": [
      "\n",
      " Confusion matrix: \n",
      " [[39684  1443]\n",
      " [    0     0]]\n",
      "F1 Score: 0.0\n",
      "Accuracy: 0.9649135604347508\n",
      "Precision: 0.0\n",
      "Recall: 0.0\n",
      "ROC AUC: 0.5\n",
      "Epoch 20 | Train Loss 0.1506289941306526\n",
      "[[0.04463646]\n",
      " [0.04594197]\n",
      " [0.03922605]\n",
      " [0.02775345]\n",
      " [0.02122546]\n",
      " [0.05029355]\n",
      " [0.02276346]\n",
      " [0.0455997 ]\n",
      " [0.03000642]\n",
      " [0.04767916]]\n",
      "[0. 0. 0. 0. 0. 0. 0. 0. 0. 0.]\n",
      "[0 0 0 0 0 0 0 0 0 0]\n",
      "\n",
      " Confusion matrix: \n",
      " [[39684  1443]\n",
      " [    0     0]]\n",
      "F1 Score: 0.0\n",
      "Accuracy: 0.9649135604347508\n",
      "Precision: 0.0\n",
      "Recall: 0.0\n",
      "ROC AUC: 0.5\n",
      "Epoch 20 | Test Loss 0.14862840756495854\n"
     ]
    },
    {
     "name": "stderr",
     "output_type": "stream",
     "text": [
      "2024/04/24 20:20:10 WARNING mlflow.utils.environment: Encountered an unexpected error while inferring pip requirements (model URI: C:\\Users\\User\\AppData\\Local\\Temp\\tmparfptse9\\model\\data, flavor: pytorch). Fall back to return ['torch==2.2.1', 'cloudpickle==2.2.1']. Set logging level to DEBUG to see the full traceback. \n",
      "100%|██████████| 1286/1286 [00:49<00:00, 26.14it/s]\n"
     ]
    },
    {
     "name": "stdout",
     "output_type": "stream",
     "text": [
      "\n",
      " Confusion matrix: \n",
      " [[39684  1443]\n",
      " [    0     0]]\n",
      "F1 Score: 0.0\n",
      "Accuracy: 0.9649135604347508\n",
      "Precision: 0.0\n",
      "Recall: 0.0\n",
      "ROC AUC: 0.5\n",
      "Epoch 21 | Train Loss 0.15075745684432204\n"
     ]
    },
    {
     "name": "stderr",
     "output_type": "stream",
     "text": [
      "100%|██████████| 1286/1286 [00:48<00:00, 26.79it/s]\n"
     ]
    },
    {
     "name": "stdout",
     "output_type": "stream",
     "text": [
      "\n",
      " Confusion matrix: \n",
      " [[39684  1443]\n",
      " [    0     0]]\n",
      "F1 Score: 0.0\n",
      "Accuracy: 0.9649135604347508\n",
      "Precision: 0.0\n",
      "Recall: 0.0\n",
      "ROC AUC: 0.5\n",
      "Epoch 22 | Train Loss 0.14995835891535178\n"
     ]
    },
    {
     "name": "stderr",
     "output_type": "stream",
     "text": [
      "100%|██████████| 1286/1286 [00:48<00:00, 26.76it/s]\n"
     ]
    },
    {
     "name": "stdout",
     "output_type": "stream",
     "text": [
      "\n",
      " Confusion matrix: \n",
      " [[39684  1443]\n",
      " [    0     0]]\n",
      "F1 Score: 0.0\n",
      "Accuracy: 0.9649135604347508\n",
      "Precision: 0.0\n",
      "Recall: 0.0\n",
      "ROC AUC: 0.5\n",
      "Epoch 23 | Train Loss 0.15033724553257366\n"
     ]
    },
    {
     "name": "stderr",
     "output_type": "stream",
     "text": [
      "100%|██████████| 1286/1286 [00:48<00:00, 26.62it/s]\n"
     ]
    },
    {
     "name": "stdout",
     "output_type": "stream",
     "text": [
      "\n",
      " Confusion matrix: \n",
      " [[39684  1443]\n",
      " [    0     0]]\n",
      "F1 Score: 0.0\n",
      "Accuracy: 0.9649135604347508\n",
      "Precision: 0.0\n",
      "Recall: 0.0\n",
      "ROC AUC: 0.5\n",
      "Epoch 24 | Train Loss 0.14990615892234152\n"
     ]
    },
    {
     "name": "stderr",
     "output_type": "stream",
     "text": [
      "100%|██████████| 1286/1286 [00:48<00:00, 26.68it/s]\n"
     ]
    },
    {
     "name": "stdout",
     "output_type": "stream",
     "text": [
      "\n",
      " Confusion matrix: \n",
      " [[39684  1443]\n",
      " [    0     0]]\n",
      "F1 Score: 0.0\n",
      "Accuracy: 0.9649135604347508\n",
      "Precision: 0.0\n",
      "Recall: 0.0\n",
      "ROC AUC: 0.5\n",
      "Epoch 25 | Train Loss 0.14982259248326857\n",
      "[[0.03102799]\n",
      " [0.03530709]\n",
      " [0.03181672]\n",
      " [0.03400755]\n",
      " [0.04529916]\n",
      " [0.02514854]\n",
      " [0.05344829]\n",
      " [0.02659994]\n",
      " [0.04161073]\n",
      " [0.05155361]]\n",
      "[0. 0. 0. 0. 0. 0. 0. 0. 0. 0.]\n",
      "[0 0 0 0 0 0 0 0 0 0]\n",
      "\n",
      " Confusion matrix: \n",
      " [[39684  1443]\n",
      " [    0     0]]\n",
      "F1 Score: 0.0\n",
      "Accuracy: 0.9649135604347508\n",
      "Precision: 0.0\n",
      "Recall: 0.0\n",
      "ROC AUC: 0.5\n",
      "Epoch 25 | Test Loss 0.14735667392738963\n"
     ]
    },
    {
     "name": "stderr",
     "output_type": "stream",
     "text": [
      "2024/04/24 20:24:49 WARNING mlflow.utils.environment: Encountered an unexpected error while inferring pip requirements (model URI: C:\\Users\\User\\AppData\\Local\\Temp\\tmp6barihcj\\model\\data, flavor: pytorch). Fall back to return ['torch==2.2.1', 'cloudpickle==2.2.1']. Set logging level to DEBUG to see the full traceback. \n",
      "100%|██████████| 1286/1286 [00:48<00:00, 26.62it/s]\n"
     ]
    },
    {
     "name": "stdout",
     "output_type": "stream",
     "text": [
      "\n",
      " Confusion matrix: \n",
      " [[39684  1443]\n",
      " [    0     0]]\n",
      "F1 Score: 0.0\n",
      "Accuracy: 0.9649135604347508\n",
      "Precision: 0.0\n",
      "Recall: 0.0\n",
      "ROC AUC: 0.5\n",
      "Epoch 26 | Train Loss 0.149148637617172\n"
     ]
    },
    {
     "name": "stderr",
     "output_type": "stream",
     "text": [
      "100%|██████████| 1286/1286 [00:48<00:00, 26.45it/s]\n"
     ]
    },
    {
     "name": "stdout",
     "output_type": "stream",
     "text": [
      "\n",
      " Confusion matrix: \n",
      " [[39684  1443]\n",
      " [    0     0]]\n",
      "F1 Score: 0.0\n",
      "Accuracy: 0.9649135604347508\n",
      "Precision: 0.0\n",
      "Recall: 0.0\n",
      "ROC AUC: 0.5\n",
      "Epoch 27 | Train Loss 0.14977711243308722\n"
     ]
    },
    {
     "name": "stderr",
     "output_type": "stream",
     "text": [
      "100%|██████████| 1286/1286 [00:48<00:00, 26.38it/s]\n"
     ]
    },
    {
     "name": "stdout",
     "output_type": "stream",
     "text": [
      "\n",
      " Confusion matrix: \n",
      " [[39684  1443]\n",
      " [    0     0]]\n",
      "F1 Score: 0.0\n",
      "Accuracy: 0.9649135604347508\n",
      "Precision: 0.0\n",
      "Recall: 0.0\n",
      "ROC AUC: 0.5\n",
      "Epoch 28 | Train Loss 0.1489118650862672\n"
     ]
    },
    {
     "name": "stderr",
     "output_type": "stream",
     "text": [
      "100%|██████████| 1286/1286 [00:49<00:00, 26.24it/s]\n"
     ]
    },
    {
     "name": "stdout",
     "output_type": "stream",
     "text": [
      "\n",
      " Confusion matrix: \n",
      " [[39684  1443]\n",
      " [    0     0]]\n",
      "F1 Score: 0.0\n",
      "Accuracy: 0.9649135604347508\n",
      "Precision: 0.0\n",
      "Recall: 0.0\n",
      "ROC AUC: 0.5\n",
      "Epoch 29 | Train Loss 0.149187452167064\n"
     ]
    },
    {
     "name": "stderr",
     "output_type": "stream",
     "text": [
      "100%|██████████| 1286/1286 [00:49<00:00, 26.08it/s]\n"
     ]
    },
    {
     "name": "stdout",
     "output_type": "stream",
     "text": [
      "\n",
      " Confusion matrix: \n",
      " [[39684  1443]\n",
      " [    0     0]]\n",
      "F1 Score: 0.0\n",
      "Accuracy: 0.9649135604347508\n",
      "Precision: 0.0\n",
      "Recall: 0.0\n",
      "ROC AUC: 0.5\n",
      "Epoch 30 | Train Loss 0.14880700719804962\n",
      "[[0.0347745 ]\n",
      " [0.02153724]\n",
      " [0.03579311]\n",
      " [0.03274637]\n",
      " [0.03384675]\n",
      " [0.04786965]\n",
      " [0.04062903]\n",
      " [0.0345025 ]\n",
      " [0.02323573]\n",
      " [0.04159446]]\n",
      "[0. 0. 0. 0. 0. 0. 0. 0. 0. 0.]\n",
      "[0 0 0 0 0 0 0 0 0 1]\n",
      "\n",
      " Confusion matrix: \n",
      " [[39684  1443]\n",
      " [    0     0]]\n",
      "F1 Score: 0.0\n",
      "Accuracy: 0.9649135604347508\n",
      "Precision: 0.0\n",
      "Recall: 0.0\n",
      "ROC AUC: 0.5\n",
      "Epoch 30 | Test Loss 0.1473059817094176\n"
     ]
    },
    {
     "name": "stderr",
     "output_type": "stream",
     "text": [
      "2024/04/24 20:29:30 WARNING mlflow.utils.environment: Encountered an unexpected error while inferring pip requirements (model URI: C:\\Users\\User\\AppData\\Local\\Temp\\tmpj47s819p\\model\\data, flavor: pytorch). Fall back to return ['torch==2.2.1', 'cloudpickle==2.2.1']. Set logging level to DEBUG to see the full traceback. \n",
      "100%|██████████| 1286/1286 [00:48<00:00, 26.55it/s]\n"
     ]
    },
    {
     "name": "stdout",
     "output_type": "stream",
     "text": [
      "\n",
      " Confusion matrix: \n",
      " [[39684  1443]\n",
      " [    0     0]]\n",
      "F1 Score: 0.0\n",
      "Accuracy: 0.9649135604347508\n",
      "Precision: 0.0\n",
      "Recall: 0.0\n",
      "ROC AUC: 0.5\n",
      "Epoch 31 | Train Loss 0.1490126855607676\n"
     ]
    },
    {
     "name": "stderr",
     "output_type": "stream",
     "text": [
      "100%|██████████| 1286/1286 [15:42<00:00,  1.36it/s]  \n"
     ]
    },
    {
     "name": "stdout",
     "output_type": "stream",
     "text": [
      "\n",
      " Confusion matrix: \n",
      " [[39684  1443]\n",
      " [    0     0]]\n",
      "F1 Score: 0.0\n",
      "Accuracy: 0.9649135604347508\n",
      "Precision: 0.0\n",
      "Recall: 0.0\n",
      "ROC AUC: 0.5\n",
      "Epoch 32 | Train Loss 0.148993801986031\n"
     ]
    },
    {
     "name": "stderr",
     "output_type": "stream",
     "text": [
      " 37%|███▋      | 476/1286 [00:18<00:32, 24.85it/s]"
     ]
    }
   ],
   "source": [
    "def count_parameters(model):\n",
    "    return sum(p.numel() for p in model.parameters() if p.requires_grad)\n",
    "\n",
    "\n",
    "def train_one_epoch(epoch, model, train_loader, optimizer, loss_fn):\n",
    "    \n",
    "    all_preds = []\n",
    "    all_labels = []\n",
    "    running_loss = 0.0\n",
    "    step = 0\n",
    "    for _, batch in enumerate(tqdm(train_loader)):\n",
    "        \n",
    "        batch.to(device)  \n",
    "        \n",
    "        optimizer.zero_grad() \n",
    "        \n",
    "        pred = model(batch.x.float(), \n",
    "                                batch.edge_attr.float(),\n",
    "                                batch.edge_index, \n",
    "                                batch.batch) \n",
    "        \n",
    "        loss = loss_fn(torch.squeeze(pred), batch.y.float())\n",
    "        loss.backward()  \n",
    "        optimizer.step()  \n",
    "        \n",
    "        running_loss += loss.item()\n",
    "        step += 1\n",
    "        all_preds.append(np.rint(torch.sigmoid(pred).cpu().detach().numpy()))\n",
    "        all_labels.append(batch.y.cpu().detach().numpy())\n",
    "    all_preds = np.concatenate(all_preds).ravel()\n",
    "    all_labels = np.concatenate(all_labels).ravel()\n",
    "    calculate_metrics(all_preds, all_labels, epoch, \"train\")\n",
    "    return running_loss/step\n",
    "\n",
    "def test(epoch, model, test_loader, loss_fn):\n",
    "    all_preds = []\n",
    "    all_preds_raw = []\n",
    "    all_labels = []\n",
    "    running_loss = 0.0\n",
    "    step = 0\n",
    "    for batch in test_loader:\n",
    "        batch.to(device)  \n",
    "        pred = model(batch.x.float(), \n",
    "                        batch.edge_attr.float(),\n",
    "                        batch.edge_index, \n",
    "                        batch.batch) \n",
    "        loss = loss_fn(torch.squeeze(pred), batch.y.float())\n",
    "\n",
    "        running_loss += loss.item()\n",
    "        step += 1\n",
    "        all_preds.append(np.rint(torch.sigmoid(pred).cpu().detach().numpy()))\n",
    "        all_preds_raw.append(torch.sigmoid(pred).cpu().detach().numpy())\n",
    "        all_labels.append(batch.y.cpu().detach().numpy())\n",
    "    \n",
    "    all_preds = np.concatenate(all_preds).ravel()\n",
    "    all_labels = np.concatenate(all_labels).ravel()\n",
    "    print(all_preds_raw[0][:10])\n",
    "    print(all_preds[:10])\n",
    "    print(all_labels[:10])\n",
    "    calculate_metrics(all_preds, all_labels, epoch, \"test\")\n",
    "    return running_loss/step\n",
    "\n",
    "\n",
    "def calculate_metrics(y_pred, y_true, epoch, type):\n",
    "    print(f\"\\n Confusion matrix: \\n {confusion_matrix(y_pred, y_true)}\")\n",
    "    print(f\"F1 Score: {f1_score(y_true, y_pred)}\")\n",
    "    print(f\"Accuracy: {accuracy_score(y_true, y_pred)}\")\n",
    "    prec = precision_score(y_true, y_pred)\n",
    "    rec = recall_score(y_true, y_pred)\n",
    "    print(f\"Precision: {prec}\")\n",
    "    print(f\"Recall: {rec}\")\n",
    "    mlflow.log_metric(key=f\"Precision-{type}\", value=float(prec), step=epoch)\n",
    "    mlflow.log_metric(key=f\"Recall-{type}\", value=float(rec), step=epoch)\n",
    "    try:\n",
    "        roc = roc_auc_score(y_true, y_pred)\n",
    "        print(f\"ROC AUC: {roc}\")\n",
    "        mlflow.log_metric(key=f\"ROC-AUC-{type}\", value=float(roc), step=epoch)\n",
    "    except:\n",
    "        mlflow.log_metric(key=f\"ROC-AUC-{type}\", value=float(0), step=epoch)\n",
    "        print(f\"ROC AUC: notdefined\")\n",
    "\n",
    "\n",
    "from mango import scheduler, tuner\n",
    "from mango.tuner import Tuner\n",
    "from config import HYPERPARAMETERS, SIGNATURE\n",
    "\n",
    "def run_one_training(params):\n",
    "    params = params[0]\n",
    "    with mlflow.start_run() as run:\n",
    "        \n",
    "        for key in params.keys():\n",
    "            mlflow.log_param(key, params[key])\n",
    "\n",
    "        \n",
    "        train_dataset = MoleculeDataset(root=\"data/\", filename=\"HIV_train_oversampled.csv\")\n",
    "        test_dataset = MoleculeDataset(root=\"data/\", filename=\"HIV_test.csv\", test=True)\n",
    "        params[\"model_edge_dim\"] = train_dataset[0].edge_attr.shape[1]\n",
    "\n",
    "        \n",
    "        train_loader = DataLoader(train_dataset, batch_size=params[\"batch_size\"], shuffle=True)\n",
    "        test_loader = DataLoader(test_dataset, batch_size=params[\"batch_size\"], shuffle=True)\n",
    "\n",
    "        \n",
    "        model_params = {k: v for k, v in params.items() if k.startswith(\"model_\")}\n",
    "        model = GNN(feature_size=train_dataset[0].x.shape[1], model_params=model_params) \n",
    "        model = model.to(device)\n",
    "        print(f\"Number of parameters: {count_parameters(model)}\")\n",
    "        mlflow.log_param(\"num_params\", count_parameters(model))\n",
    "\n",
    "    \n",
    "        weight = torch.tensor([params[\"pos_weight\"]], dtype=torch.float32).to(device)\n",
    "        loss_fn = torch.nn.BCEWithLogitsLoss(pos_weight=weight)\n",
    "        optimizer = torch.optim.SGD(model.parameters(), \n",
    "                                    lr=params[\"learning_rate\"],\n",
    "                                    momentum=params[\"sgd_momentum\"],\n",
    "                                    weight_decay=params[\"weight_decay\"])\n",
    "        scheduler = torch.optim.lr_scheduler.ExponentialLR(optimizer, gamma=params[\"scheduler_gamma\"])\n",
    "        \n",
    "        \n",
    "        best_loss = 1000\n",
    "        early_stopping_counter = 0\n",
    "        for epoch in range(300): \n",
    "            if early_stopping_counter <= 10: \n",
    "                \n",
    "                model.train()\n",
    "                loss = train_one_epoch(epoch, model, train_loader, optimizer, loss_fn)\n",
    "                print(f\"Epoch {epoch} | Train Loss {loss}\")\n",
    "                mlflow.log_metric(key=\"Train loss\", value=float(loss), step=epoch)\n",
    "\n",
    "                \n",
    "                model.eval()\n",
    "                if epoch % 5 == 0:\n",
    "                    loss = test(epoch, model, test_loader, loss_fn)\n",
    "                    print(f\"Epoch {epoch} | Test Loss {loss}\")\n",
    "                    mlflow.log_metric(key=\"Test loss\", value=float(loss), step=epoch)\n",
    "                    \n",
    "                    \n",
    "                    if float(loss) < best_loss:\n",
    "                        best_loss = loss\n",
    "                        \n",
    "                        mlflow.pytorch.log_model(model, \"model\", signature=SIGNATURE)\n",
    "                        early_stopping_counter = 0\n",
    "                    else:\n",
    "                        early_stopping_counter += 1\n",
    "\n",
    "                scheduler.step()\n",
    "            else:\n",
    "                \n",
    "                return [best_loss]\n",
    "    print(f\"Finishing training with best test loss: {best_loss}\")\n",
    "    return [best_loss]\n",
    "\n",
    "\n",
    "\n",
    "config = dict()\n",
    "config[\"optimizer\"] = \"Bayesian\"\n",
    "config[\"num_iteration\"] = 100\n",
    "\n",
    "tuner = Tuner(HYPERPARAMETERS, \n",
    "              objective=run_one_training,\n",
    "              conf_dict=config) \n",
    "results = tuner.minimize()"
   ]
  },
  {
   "cell_type": "code",
   "execution_count": null,
   "id": "405938ee",
   "metadata": {},
   "outputs": [],
   "source": []
  },
  {
   "cell_type": "code",
   "execution_count": null,
   "id": "e5f0f216",
   "metadata": {},
   "outputs": [],
   "source": []
  }
 ],
 "metadata": {
  "kernelspec": {
   "display_name": "Python 3 (ipykernel)",
   "language": "python",
   "name": "python3"
  },
  "language_info": {
   "codemirror_mode": {
    "name": "ipython",
    "version": 3
   },
   "file_extension": ".py",
   "mimetype": "text/x-python",
   "name": "python",
   "nbconvert_exporter": "python",
   "pygments_lexer": "ipython3",
   "version": "3.11.5"
  }
 },
 "nbformat": 4,
 "nbformat_minor": 5
}
