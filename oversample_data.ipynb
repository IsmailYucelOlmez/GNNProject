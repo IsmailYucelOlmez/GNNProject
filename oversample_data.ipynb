{
 "cells": [
  {
   "cell_type": "code",
   "execution_count": null,
   "id": "208fd16b",
   "metadata": {},
   "outputs": [],
   "source": [
    "import pandas as pd\n",
    "\n",
    "data = pd.read_csv(\"data/raw/HIV_train.csv\")\n",
    "data.index = data[\"index\"]\n",
    "data[\"HIV_active\"].value_counts()\n",
    "start_index = data.iloc[0][\"index\"]\n",
    "\n",
    "\n",
    "neg_class = data[\"HIV_active\"].value_counts()[0]\n",
    "pos_class = data[\"HIV_active\"].value_counts()[1]\n",
    "multiplier = int(neg_class/pos_class) - 1\n",
    "\n",
    "\n",
    "replicated_pos = [data[data[\"HIV_active\"] == 1]]*multiplier\n",
    "\n",
    "\n",
    "data = data.append(replicated_pos,\n",
    "                    ignore_index=True)\n",
    "print(data.shape)\n",
    "\n",
    "\n",
    "data = data.sample(frac=1).reset_index(drop=True)\n",
    "\n",
    "\n",
    "index = range(start_index, start_index + data.shape[0])\n",
    "data.index = index\n",
    "data[\"index\"] = data.index\n",
    "data.head()\n",
    "\n",
    "# %% Save\n",
    "data.to_csv(\"data/raw/HIV_train_oversampled.csv\")\n",
    "\n",
    "# %%"
   ]
  }
 ],
 "metadata": {
  "kernelspec": {
   "display_name": "Python 3 (ipykernel)",
   "language": "python",
   "name": "python3"
  },
  "language_info": {
   "codemirror_mode": {
    "name": "ipython",
    "version": 3
   },
   "file_extension": ".py",
   "mimetype": "text/x-python",
   "name": "python",
   "nbconvert_exporter": "python",
   "pygments_lexer": "ipython3",
   "version": "3.11.5"
  }
 },
 "nbformat": 4,
 "nbformat_minor": 5
}
