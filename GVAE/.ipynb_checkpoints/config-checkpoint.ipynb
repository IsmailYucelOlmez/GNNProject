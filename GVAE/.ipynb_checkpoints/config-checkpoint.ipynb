{
 "cells": [
  {
   "cell_type": "code",
   "execution_count": null,
   "id": "29baa836",
   "metadata": {},
   "outputs": [],
   "source": [
    "import torch\n",
    "import import_ipynb\n",
    "\n",
    "#DEVICE = torch.device(\"cuda:0\" if torch.cuda.is_available() else \"cpu\")\n",
    "DEVICE = \"cpu\"\n",
    "\n",
    "# Supported edge types\n",
    "SUPPORTED_EDGES = [\"SINGLE\", \"DOUBLE\", \"TRIPLE\", \"AROMATIC\"]\n",
    "\n",
    "# Supported atoms \n",
    "SUPPORTED_ATOMS = [\"C\", \"N\", \"O\", \"F\", \"P\", \"S\", \"Cl\", \"Br\", \"I\"]\n",
    "ATOMIC_NUMBERS =  [6, 7, 8, 9, 15, 16, 17, 35, 53]\n",
    "\n",
    "# Dataset (if you change this, delete the processed files to run again)\n",
    "MAX_MOLECULE_SIZE = 20  \n",
    "\n",
    "# To remove valence errors ect.\n",
    "DISABLE_RDKIT_WARNINGS = True"
   ]
  }
 ],
 "metadata": {
  "kernelspec": {
   "display_name": "Python 3 (ipykernel)",
   "language": "python",
   "name": "python3"
  },
  "language_info": {
   "codemirror_mode": {
    "name": "ipython",
    "version": 3
   },
   "file_extension": ".py",
   "mimetype": "text/x-python",
   "name": "python",
   "nbconvert_exporter": "python",
   "pygments_lexer": "ipython3",
   "version": "3.11.5"
  }
 },
 "nbformat": 4,
 "nbformat_minor": 5
}
