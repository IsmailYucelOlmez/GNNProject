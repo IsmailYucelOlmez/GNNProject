{
 "cells": [
  {
   "cell_type": "code",
   "execution_count": 1,
   "id": "98561109",
   "metadata": {},
   "outputs": [
    {
     "name": "stdout",
     "output_type": "stream",
     "text": [
      "importing Jupyter notebook from GVAE_Dataset.ipynb\n"
     ]
    },
    {
     "name": "stderr",
     "output_type": "stream",
     "text": [
      "No normalization for SPS. Feature removed!\n",
      "No normalization for AvgIpc. Feature removed!\n"
     ]
    },
    {
     "name": "stdout",
     "output_type": "stream",
     "text": [
      "WARNING:tensorflow:From D:\\Anaconda\\Lib\\site-packages\\tensorflow\\python\\util\\deprecation.py:588: calling function (from tensorflow.python.eager.polymorphic_function.polymorphic_function) with experimental_relax_shapes is deprecated and will be removed in a future version.\n",
      "Instructions for updating:\n",
      "experimental_relax_shapes is deprecated, use reduce_retracing instead\n"
     ]
    },
    {
     "name": "stderr",
     "output_type": "stream",
     "text": [
      "Skipped loading modules with pytorch-geometric dependency, missing a dependency. No module named 'dgl'\n",
      "D:\\Anaconda\\Lib\\site-packages\\transformers\\utils\\generic.py:260: UserWarning: torch.utils._pytree._register_pytree_node is deprecated. Please use torch.utils._pytree.register_pytree_node instead.\n",
      "  torch.utils._pytree._register_pytree_node(\n",
      "Skipped loading modules with pytorch-lightning dependency, missing a dependency. No module named 'lightning'\n",
      "Skipped loading some Jax models, missing a dependency. No module named 'haiku'\n"
     ]
    },
    {
     "name": "stdout",
     "output_type": "stream",
     "text": [
      "Torch version: 2.2.1+cpu\n",
      "Cuda available: False\n",
      "Torch geometric version: 2.5.1\n",
      "importing Jupyter notebook from gvae.ipynb\n"
     ]
    },
    {
     "name": "stderr",
     "output_type": "stream",
     "text": [
      "Processing...\n",
      " 27%|██▋       | 19584/71634 [04:45<11:11, 77.51it/s] [22:43:14] WARNING: not removing hydrogen atom without neighbors\n",
      "[22:43:14] WARNING: not removing hydrogen atom without neighbors\n",
      "100%|██████████| 71634/71634 [17:37<00:00, 67.74it/s] \n",
      "Done!\n",
      "Processing...\n",
      "100%|██████████| 3999/3999 [00:36<00:00, 109.70it/s]\n",
      "Done!\n",
      "D:\\Anaconda\\Lib\\site-packages\\torch_geometric\\deprecation.py:26: UserWarning: 'data.DataLoader' is deprecated, use 'loader.DataLoader' instead\n",
      "  warnings.warn(out)\n"
     ]
    },
    {
     "name": "stdout",
     "output_type": "stream",
     "text": [
      "Model parameters:  185473\n"
     ]
    },
    {
     "name": "stderr",
     "output_type": "stream",
     "text": [
      "  0%|          | 0/313 [00:00<?, ?it/s]\n"
     ]
    },
    {
     "ename": "NameError",
     "evalue": "name 'reconstruction_accuracy' is not defined",
     "output_type": "error",
     "traceback": [
      "\u001b[1;31m---------------------------------------------------------------------------\u001b[0m",
      "\u001b[1;31mNameError\u001b[0m                                 Traceback (most recent call last)",
      "Cell \u001b[1;32mIn[1], line 91\u001b[0m\n\u001b[0;32m     89\u001b[0m \u001b[38;5;28;01mfor\u001b[39;00m epoch \u001b[38;5;129;01min\u001b[39;00m \u001b[38;5;28mrange\u001b[39m(\u001b[38;5;241m100\u001b[39m): \n\u001b[0;32m     90\u001b[0m     model\u001b[38;5;241m.\u001b[39mtrain()\n\u001b[1;32m---> 91\u001b[0m     run_one_epoch(train_loader, \u001b[38;5;28mtype\u001b[39m\u001b[38;5;241m=\u001b[39m\u001b[38;5;124m\"\u001b[39m\u001b[38;5;124mTrain\u001b[39m\u001b[38;5;124m\"\u001b[39m, epoch\u001b[38;5;241m=\u001b[39mepoch, kl_beta\u001b[38;5;241m=\u001b[39mkl_beta)\n\u001b[0;32m     92\u001b[0m     \u001b[38;5;28;01mif\u001b[39;00m epoch \u001b[38;5;241m%\u001b[39m \u001b[38;5;241m5\u001b[39m \u001b[38;5;241m==\u001b[39m \u001b[38;5;241m0\u001b[39m:\n\u001b[0;32m     93\u001b[0m         \u001b[38;5;28mprint\u001b[39m(\u001b[38;5;124m\"\u001b[39m\u001b[38;5;124mStart test epoch...\u001b[39m\u001b[38;5;124m\"\u001b[39m)\n",
      "Cell \u001b[1;32mIn[1], line 61\u001b[0m, in \u001b[0;36mrun_one_epoch\u001b[1;34m(data_loader, type, epoch, kl_beta)\u001b[0m\n\u001b[0;32m     58\u001b[0m     loss\u001b[38;5;241m.\u001b[39mbackward()  \n\u001b[0;32m     59\u001b[0m     optimizer\u001b[38;5;241m.\u001b[39mstep() \n\u001b[1;32m---> 61\u001b[0m acc,num_recon \u001b[38;5;241m=\u001b[39m reconstruction_accuracy(triu_logits, batch\u001b[38;5;241m.\u001b[39medge_index,batch\u001b[38;5;241m.\u001b[39mbatch,batch\u001b[38;5;241m.\u001b[39mx\u001b[38;5;241m.\u001b[39mfloat())\n\u001b[0;32m     62\u001b[0m total_mols\u001b[38;5;241m=\u001b[39m total_mols \u001b[38;5;241m+\u001b[39m \u001b[38;5;28mlen\u001b[39m(batch\u001b[38;5;241m.\u001b[39msmiles)\n\u001b[0;32m     63\u001b[0m reconstructed_mols\u001b[38;5;241m=\u001b[39mreconstructed_mols\u001b[38;5;241m+\u001b[39mnum_recon\n",
      "\u001b[1;31mNameError\u001b[0m: name 'reconstruction_accuracy' is not defined"
     ]
    }
   ],
   "source": [
    "import torch\n",
    "from torch_geometric.data import DataLoader\n",
    "import import_ipynb\n",
    "from GVAE_Dataset import MoleculeDataset\n",
    "from tqdm import tqdm\n",
    "import numpy as np\n",
    "import mlflow.pytorch\n",
    "from utils import count_parameters, gvae_loss, reconstruction_accuracy\n",
    "from gvae import GVAE\n",
    "from config import DEVICE as device\n",
    "\n",
    "mlflow.set_tracking_uri(\"http://localhost:5000\")\n",
    "\n",
    "\n",
    "train_dataset = MoleculeDataset(root=\"data/\", filename=\"HIV_train_oversampled.csv\")[:10000]\n",
    "test_dataset = MoleculeDataset(root=\"data/\", filename=\"HIV_test.csv\", test=True)[:4000]\n",
    "train_loader = DataLoader(train_dataset, batch_size=32, shuffle=True)\n",
    "test_loader = DataLoader(test_dataset, batch_size=32, shuffle=True)\n",
    "\n",
    "\n",
    "model = GVAE(feature_size=train_dataset[0].x.shape[1])\n",
    "model = model.to(device)\n",
    "print(\"Model parameters: \", count_parameters(model))\n",
    "\n",
    "\n",
    "loss_fn = gvae_loss\n",
    "optimizer = torch.optim.Adam(model.parameters(), lr=0.01)\n",
    "kl_beta = 0.001\n",
    "\n",
    "\n",
    "def run_one_epoch(data_loader, type, epoch, kl_beta):\n",
    "     \n",
    "    all_losses = []\n",
    "    all_accs=[]\n",
    "    all_kldivs = []\n",
    "    \n",
    "    total_mols=0\n",
    "    reconstructed_mols=0\n",
    "\n",
    "    \n",
    "    for _, batch in enumerate(tqdm(data_loader)):\n",
    "         \n",
    "        try:\n",
    "            \n",
    "            batch.to(device)  \n",
    "            \n",
    "            optimizer.zero_grad() \n",
    "            \n",
    "            triu_logits, mu, logvar = model(batch.x.float(), \n",
    "                                                        batch.edge_attr.float(),\n",
    "                                                        batch.edge_index, \n",
    "                                                        batch.batch) \n",
    "            \n",
    "            #edge_targets = slice_edge_type_from_edge_feats(batch.edge_attr.float())\n",
    "            #node_targets = slice_atom_type_from_node_feats(batch.x.float(), as_index=True)\n",
    "            loss, kl_div = loss_fn(triu_logits, batch.edge_index, mu, logvar, batch.batch, kl_beta)\n",
    "            if type == \"Train\":\n",
    "                loss.backward()  \n",
    "                optimizer.step() \n",
    "            \n",
    "            acc,num_recon = reconstruction_accuracy(triu_logits, batch.edge_index,batch.batch,batch.x.float())\n",
    "            total_mols= total_mols + len(batch.smiles)\n",
    "            reconstructed_mols=reconstructed_mols+num_recon\n",
    "            \n",
    "            all_losses.append(loss.detach().cpu().numpy())\n",
    "            all_accs.append(acc)\n",
    "            all_kldivs.append(kl_div.detach().cpu().numpy())\n",
    "        except IndexError as error:\n",
    "            \n",
    "            print(\"Error: \", error)\n",
    "    \n",
    "   \n",
    "    #if type == \"Test\":\n",
    "    #    generated_mols = model.sample_mols(num=10000)\n",
    "    #    print(f\"Generated {generated_mols} molecules.\")\n",
    "    #    mlflow.log_metric(key=f\"Sampled molecules\", value=float(generated_mols), step=epoch)\n",
    "\n",
    "    print(f\"{type} epoch {epoch} loss: \", np.array(all_losses).mean())\n",
    "    print(f\"{type} epoch {epoch} accuracy: \", np.array(all_accs).mean())\n",
    "    print(f\"Reconstructed {reconstructed_mols} out of {total_mols} molecules \")\n",
    "    mlflow.log_metric(key=f\"{type} Epoch Loss\", value=float(np.array(all_losses).mean()), step=epoch)\n",
    "    mlflow.log_metric(key=f\"{type} Epoch Accuracy\", value=float(np.array(all_accs).mean()), step=epoch)\n",
    "    mlflow.log_metric(key=f\"{type} Num Reconstructed\", value=float(reconstructed_mols), step=epoch)\n",
    "    mlflow.log_metric(key=f\"{type} KL Divergence\", value=float(np.array(all_kldivs).mean()), step=epoch)\n",
    "    mlflow.pytorch.log_model(model, \"model\")\n",
    "\n",
    "\n",
    "with mlflow.start_run() as run:\n",
    "    for epoch in range(100): \n",
    "        model.train()\n",
    "        run_one_epoch(train_loader, type=\"Train\", epoch=epoch, kl_beta=kl_beta)\n",
    "        if epoch % 5 == 0:\n",
    "            print(\"Start test epoch...\")\n",
    "            model.eval()\n",
    "            run_one_epoch(test_loader, type=\"Test\", epoch=epoch, kl_beta=kl_beta)"
   ]
  },
  {
   "cell_type": "code",
   "execution_count": null,
   "id": "001c4e8a",
   "metadata": {},
   "outputs": [],
   "source": []
  }
 ],
 "metadata": {
  "kernelspec": {
   "display_name": "Python 3 (ipykernel)",
   "language": "python",
   "name": "python3"
  },
  "language_info": {
   "codemirror_mode": {
    "name": "ipython",
    "version": 3
   },
   "file_extension": ".py",
   "mimetype": "text/x-python",
   "name": "python",
   "nbconvert_exporter": "python",
   "pygments_lexer": "ipython3",
   "version": "3.11.5"
  }
 },
 "nbformat": 4,
 "nbformat_minor": 5
}
